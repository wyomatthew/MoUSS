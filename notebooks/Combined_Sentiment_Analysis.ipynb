{
  "cells": [
    {
      "cell_type": "code",
      "execution_count": null,
      "metadata": {
        "colab": {
          "base_uri": "https://localhost:8080/"
        },
        "id": "6CU6MKFIfpeT",
        "outputId": "141444a9-a0ea-443f-c235-bd5730375e8d"
      },
      "outputs": [
        {
          "name": "stdout",
          "output_type": "stream",
          "text": [
            "Mounted at /content/drive\n"
          ]
        }
      ],
      "source": [
        "from google.colab import drive\n",
        "drive.mount('/content/drive')"
      ]
    },
    {
      "cell_type": "code",
      "execution_count": null,
      "metadata": {
        "id": "uXFCQXwKfsu5"
      },
      "outputs": [],
      "source": [
        "import pandas as pd, csv\n",
        "import numpy as np\n",
        "import matplotlib.pyplot as plt\n",
        "from sklearn.decomposition import PCA\n",
        "from sklearn.cluster import KMeans\n",
        "from zipfile import ZipFile\n",
        "from itertools import count\n",
        "from scipy.spatial import distance_matrix\n",
        "import seaborn as sns"
      ]
    },
    {
      "cell_type": "code",
      "execution_count": null,
      "metadata": {
        "id": "Zek73zRpfs6P"
      },
      "outputs": [],
      "source": [
        "from keras.models import Sequential\n",
        "from keras import layers\n",
        "from keras.optimizers import RMSprop,Adam\n",
        "from keras.preprocessing.text import Tokenizer\n",
        "from keras_preprocessing.sequence import pad_sequences\n",
        "from keras import regularizers\n",
        "from keras import backend as K\n",
        "from keras.callbacks import ModelCheckpoint"
      ]
    },
    {
      "cell_type": "code",
      "execution_count": null,
      "metadata": {
        "id": "T_Y9jfs-ftCJ"
      },
      "outputs": [],
      "source": [
        "submissions = \"/content/drive/MyDrive/CIS 5450/submissions_cleaned.csv\"\n",
        "reddit = pd.read_csv(submissions, parse_dates=[\"created\"])"
      ]
    },
    {
      "cell_type": "markdown",
      "metadata": {
        "id": "v5186g_zhEQs"
      },
      "source": [
        "# **Classification of Data**"
      ]
    },
    {
      "cell_type": "code",
      "execution_count": null,
      "metadata": {
        "colab": {
          "base_uri": "https://localhost:8080/"
        },
        "id": "ac8sZ88zftHe",
        "outputId": "880abad2-7d9c-40c2-fcc7-7d100032095a"
      },
      "outputs": [
        {
          "data": {
            "text/plain": [
              "381664"
            ]
          },
          "execution_count": 7,
          "metadata": {},
          "output_type": "execute_result"
        }
      ],
      "source": [
        "len(reddit)"
      ]
    },
    {
      "cell_type": "code",
      "execution_count": null,
      "metadata": {
        "colab": {
          "base_uri": "https://localhost:8080/"
        },
        "id": "yIhs3RaGftLK",
        "outputId": "cd5288d0-baca-4008-df7e-705a3fbca755"
      },
      "outputs": [
        {
          "name": "stderr",
          "output_type": "stream",
          "text": [
            "[nltk_data] Downloading package vader_lexicon to /root/nltk_data...\n"
          ]
        },
        {
          "data": {
            "text/plain": [
              "True"
            ]
          },
          "execution_count": 8,
          "metadata": {},
          "output_type": "execute_result"
        }
      ],
      "source": [
        "from sklearn.preprocessing import LabelEncoder\n",
        "from sklearn.model_selection import train_test_split\n",
        "\n",
        "from nltk.sentiment import SentimentIntensityAnalyzer\n",
        "import nltk\n",
        "nltk.downloader.download('vader_lexicon')"
      ]
    },
    {
      "cell_type": "code",
      "execution_count": null,
      "metadata": {
        "id": "5_xkJVAEftNu"
      },
      "outputs": [],
      "source": [
        "sid = SentimentIntensityAnalyzer()"
      ]
    },
    {
      "cell_type": "code",
      "execution_count": null,
      "metadata": {
        "id": "rJoW30vRhyju"
      },
      "outputs": [],
      "source": [
        "df_posts = reddit"
      ]
    },
    {
      "cell_type": "code",
      "execution_count": null,
      "metadata": {
        "id": "BIWgdkk4ftQy"
      },
      "outputs": [],
      "source": [
        "#get the polarity scores of the text \n",
        "df_posts['score'] = df_posts['text'].apply(lambda text: sid.polarity_scores(str(text)))"
      ]
    },
    {
      "cell_type": "code",
      "execution_count": null,
      "metadata": {
        "id": "5qN8sdX-ftTN"
      },
      "outputs": [],
      "source": [
        "#get the compounded scores from the score column\n",
        "df_posts['compound']  = df_posts['score'].apply(lambda score_dict: score_dict['compound'])"
      ]
    },
    {
      "cell_type": "code",
      "execution_count": null,
      "metadata": {
        "id": "AHeqcru7ftWU"
      },
      "outputs": [],
      "source": [
        "#use compound scores to perform a ranking on the sentiment in 3 categories, positive, negative\n",
        "df_posts['sentiment'] = df_posts['compound'].apply(lambda c: 'positive' if c > 0 else('negative' if c < 0 else 'neutral'))"
      ]
    },
    {
      "cell_type": "code",
      "execution_count": null,
      "metadata": {
        "colab": {
          "base_uri": "https://localhost:8080/"
        },
        "id": "1HUHn-i6ftZw",
        "outputId": "61d73cf7-9001-4438-a731-83c319c5f9c5"
      },
      "outputs": [
        {
          "data": {
            "text/plain": [
              "id                         int64\n",
              "subreddit_name            object\n",
              "text                      object\n",
              "author_name               object\n",
              "score                     object\n",
              "up_votes                   int64\n",
              "down_votes                 int64\n",
              "created           datetime64[ns]\n",
              "awards                    object\n",
              "url                       object\n",
              "compound                 float64\n",
              "sentiment                 object\n",
              "dtype: object"
            ]
          },
          "execution_count": 17,
          "metadata": {},
          "output_type": "execute_result"
        }
      ],
      "source": [
        "df_posts.dtypes"
      ]
    },
    {
      "cell_type": "code",
      "execution_count": null,
      "metadata": {
        "id": "djPCnP7Eftcv"
      },
      "outputs": [],
      "source": [
        "#isolate only core columns and proceed\n",
        "posts = df_posts[['subreddit_name', 'text', 'sentiment']]"
      ]
    },
    {
      "cell_type": "code",
      "execution_count": null,
      "metadata": {
        "colab": {
          "base_uri": "https://localhost:8080/",
          "height": 1000
        },
        "id": "NnGz64AtftgQ",
        "outputId": "fdb451dd-edd7-45ec-c6ac-590e3c083363"
      },
      "outputs": [
        {
          "data": {
            "text/html": [
              "\n",
              "  <div id=\"df-9870545a-91c3-41c9-a3cf-7e191505091e\">\n",
              "    <div class=\"colab-df-container\">\n",
              "      <div>\n",
              "<style scoped>\n",
              "    .dataframe tbody tr th:only-of-type {\n",
              "        vertical-align: middle;\n",
              "    }\n",
              "\n",
              "    .dataframe tbody tr th {\n",
              "        vertical-align: top;\n",
              "    }\n",
              "\n",
              "    .dataframe thead th {\n",
              "        text-align: right;\n",
              "    }\n",
              "</style>\n",
              "<table border=\"1\" class=\"dataframe\">\n",
              "  <thead>\n",
              "    <tr style=\"text-align: right;\">\n",
              "      <th></th>\n",
              "      <th></th>\n",
              "      <th>text</th>\n",
              "    </tr>\n",
              "    <tr>\n",
              "      <th>subreddit_name</th>\n",
              "      <th>sentiment</th>\n",
              "      <th></th>\n",
              "    </tr>\n",
              "  </thead>\n",
              "  <tbody>\n",
              "    <tr>\n",
              "      <th rowspan=\"3\" valign=\"top\">berkeley</th>\n",
              "      <th>negative</th>\n",
              "      <td>14562</td>\n",
              "    </tr>\n",
              "    <tr>\n",
              "      <th>neutral</th>\n",
              "      <td>12515</td>\n",
              "    </tr>\n",
              "    <tr>\n",
              "      <th>positive</th>\n",
              "      <td>27140</td>\n",
              "    </tr>\n",
              "    <tr>\n",
              "      <th rowspan=\"3\" valign=\"top\">brownu</th>\n",
              "      <th>negative</th>\n",
              "      <td>1631</td>\n",
              "    </tr>\n",
              "    <tr>\n",
              "      <th>neutral</th>\n",
              "      <td>2344</td>\n",
              "    </tr>\n",
              "    <tr>\n",
              "      <th>positive</th>\n",
              "      <td>8398</td>\n",
              "    </tr>\n",
              "    <tr>\n",
              "      <th rowspan=\"3\" valign=\"top\">caltech</th>\n",
              "      <th>negative</th>\n",
              "      <td>449</td>\n",
              "    </tr>\n",
              "    <tr>\n",
              "      <th>neutral</th>\n",
              "      <td>747</td>\n",
              "    </tr>\n",
              "    <tr>\n",
              "      <th>positive</th>\n",
              "      <td>3200</td>\n",
              "    </tr>\n",
              "    <tr>\n",
              "      <th rowspan=\"3\" valign=\"top\">cmu</th>\n",
              "      <th>negative</th>\n",
              "      <td>3698</td>\n",
              "    </tr>\n",
              "    <tr>\n",
              "      <th>neutral</th>\n",
              "      <td>4536</td>\n",
              "    </tr>\n",
              "    <tr>\n",
              "      <th>positive</th>\n",
              "      <td>14011</td>\n",
              "    </tr>\n",
              "    <tr>\n",
              "      <th rowspan=\"3\" valign=\"top\">columbia</th>\n",
              "      <th>negative</th>\n",
              "      <td>5311</td>\n",
              "    </tr>\n",
              "    <tr>\n",
              "      <th>neutral</th>\n",
              "      <td>5425</td>\n",
              "    </tr>\n",
              "    <tr>\n",
              "      <th>positive</th>\n",
              "      <td>14049</td>\n",
              "    </tr>\n",
              "    <tr>\n",
              "      <th rowspan=\"3\" valign=\"top\">cornell</th>\n",
              "      <th>negative</th>\n",
              "      <td>3554</td>\n",
              "    </tr>\n",
              "    <tr>\n",
              "      <th>neutral</th>\n",
              "      <td>2307</td>\n",
              "    </tr>\n",
              "    <tr>\n",
              "      <th>positive</th>\n",
              "      <td>5629</td>\n",
              "    </tr>\n",
              "    <tr>\n",
              "      <th rowspan=\"3\" valign=\"top\">dartmouth</th>\n",
              "      <th>negative</th>\n",
              "      <td>1002</td>\n",
              "    </tr>\n",
              "    <tr>\n",
              "      <th>neutral</th>\n",
              "      <td>1808</td>\n",
              "    </tr>\n",
              "    <tr>\n",
              "      <th>positive</th>\n",
              "      <td>6119</td>\n",
              "    </tr>\n",
              "    <tr>\n",
              "      <th rowspan=\"3\" valign=\"top\">gatech</th>\n",
              "      <th>negative</th>\n",
              "      <td>12332</td>\n",
              "    </tr>\n",
              "    <tr>\n",
              "      <th>neutral</th>\n",
              "      <td>11135</td>\n",
              "    </tr>\n",
              "    <tr>\n",
              "      <th>positive</th>\n",
              "      <td>25951</td>\n",
              "    </tr>\n",
              "    <tr>\n",
              "      <th rowspan=\"3\" valign=\"top\">harvard</th>\n",
              "      <th>negative</th>\n",
              "      <td>3121</td>\n",
              "    </tr>\n",
              "    <tr>\n",
              "      <th>neutral</th>\n",
              "      <td>4322</td>\n",
              "    </tr>\n",
              "    <tr>\n",
              "      <th>positive</th>\n",
              "      <td>11682</td>\n",
              "    </tr>\n",
              "    <tr>\n",
              "      <th rowspan=\"3\" valign=\"top\">mit</th>\n",
              "      <th>negative</th>\n",
              "      <td>2846</td>\n",
              "    </tr>\n",
              "    <tr>\n",
              "      <th>neutral</th>\n",
              "      <td>3347</td>\n",
              "    </tr>\n",
              "    <tr>\n",
              "      <th>positive</th>\n",
              "      <td>10893</td>\n",
              "    </tr>\n",
              "    <tr>\n",
              "      <th rowspan=\"3\" valign=\"top\">princeton</th>\n",
              "      <th>negative</th>\n",
              "      <td>1134</td>\n",
              "    </tr>\n",
              "    <tr>\n",
              "      <th>neutral</th>\n",
              "      <td>1775</td>\n",
              "    </tr>\n",
              "    <tr>\n",
              "      <th>positive</th>\n",
              "      <td>5594</td>\n",
              "    </tr>\n",
              "    <tr>\n",
              "      <th rowspan=\"3\" valign=\"top\">stanford</th>\n",
              "      <th>negative</th>\n",
              "      <td>3170</td>\n",
              "    </tr>\n",
              "    <tr>\n",
              "      <th>neutral</th>\n",
              "      <td>3993</td>\n",
              "    </tr>\n",
              "    <tr>\n",
              "      <th>positive</th>\n",
              "      <td>12391</td>\n",
              "    </tr>\n",
              "    <tr>\n",
              "      <th rowspan=\"3\" valign=\"top\">uchicago</th>\n",
              "      <th>negative</th>\n",
              "      <td>4357</td>\n",
              "    </tr>\n",
              "    <tr>\n",
              "      <th>neutral</th>\n",
              "      <td>5144</td>\n",
              "    </tr>\n",
              "    <tr>\n",
              "      <th>positive</th>\n",
              "      <td>14964</td>\n",
              "    </tr>\n",
              "    <tr>\n",
              "      <th rowspan=\"3\" valign=\"top\">uiuc</th>\n",
              "      <th>negative</th>\n",
              "      <td>13266</td>\n",
              "    </tr>\n",
              "    <tr>\n",
              "      <th>neutral</th>\n",
              "      <td>12674</td>\n",
              "    </tr>\n",
              "    <tr>\n",
              "      <th>positive</th>\n",
              "      <td>25287</td>\n",
              "    </tr>\n",
              "    <tr>\n",
              "      <th rowspan=\"3\" valign=\"top\">upenn</th>\n",
              "      <th>negative</th>\n",
              "      <td>4264</td>\n",
              "    </tr>\n",
              "    <tr>\n",
              "      <th>neutral</th>\n",
              "      <td>5447</td>\n",
              "    </tr>\n",
              "    <tr>\n",
              "      <th>positive</th>\n",
              "      <td>12886</td>\n",
              "    </tr>\n",
              "    <tr>\n",
              "      <th rowspan=\"3\" valign=\"top\">yale</th>\n",
              "      <th>negative</th>\n",
              "      <td>2009</td>\n",
              "    </tr>\n",
              "    <tr>\n",
              "      <th>neutral</th>\n",
              "      <td>2377</td>\n",
              "    </tr>\n",
              "    <tr>\n",
              "      <th>positive</th>\n",
              "      <td>8087</td>\n",
              "    </tr>\n",
              "  </tbody>\n",
              "</table>\n",
              "</div>\n",
              "      <button class=\"colab-df-convert\" onclick=\"convertToInteractive('df-9870545a-91c3-41c9-a3cf-7e191505091e')\"\n",
              "              title=\"Convert this dataframe to an interactive table.\"\n",
              "              style=\"display:none;\">\n",
              "        \n",
              "  <svg xmlns=\"http://www.w3.org/2000/svg\" height=\"24px\"viewBox=\"0 0 24 24\"\n",
              "       width=\"24px\">\n",
              "    <path d=\"M0 0h24v24H0V0z\" fill=\"none\"/>\n",
              "    <path d=\"M18.56 5.44l.94 2.06.94-2.06 2.06-.94-2.06-.94-.94-2.06-.94 2.06-2.06.94zm-11 1L8.5 8.5l.94-2.06 2.06-.94-2.06-.94L8.5 2.5l-.94 2.06-2.06.94zm10 10l.94 2.06.94-2.06 2.06-.94-2.06-.94-.94-2.06-.94 2.06-2.06.94z\"/><path d=\"M17.41 7.96l-1.37-1.37c-.4-.4-.92-.59-1.43-.59-.52 0-1.04.2-1.43.59L10.3 9.45l-7.72 7.72c-.78.78-.78 2.05 0 2.83L4 21.41c.39.39.9.59 1.41.59.51 0 1.02-.2 1.41-.59l7.78-7.78 2.81-2.81c.8-.78.8-2.07 0-2.86zM5.41 20L4 18.59l7.72-7.72 1.47 1.35L5.41 20z\"/>\n",
              "  </svg>\n",
              "      </button>\n",
              "      \n",
              "  <style>\n",
              "    .colab-df-container {\n",
              "      display:flex;\n",
              "      flex-wrap:wrap;\n",
              "      gap: 12px;\n",
              "    }\n",
              "\n",
              "    .colab-df-convert {\n",
              "      background-color: #E8F0FE;\n",
              "      border: none;\n",
              "      border-radius: 50%;\n",
              "      cursor: pointer;\n",
              "      display: none;\n",
              "      fill: #1967D2;\n",
              "      height: 32px;\n",
              "      padding: 0 0 0 0;\n",
              "      width: 32px;\n",
              "    }\n",
              "\n",
              "    .colab-df-convert:hover {\n",
              "      background-color: #E2EBFA;\n",
              "      box-shadow: 0px 1px 2px rgba(60, 64, 67, 0.3), 0px 1px 3px 1px rgba(60, 64, 67, 0.15);\n",
              "      fill: #174EA6;\n",
              "    }\n",
              "\n",
              "    [theme=dark] .colab-df-convert {\n",
              "      background-color: #3B4455;\n",
              "      fill: #D2E3FC;\n",
              "    }\n",
              "\n",
              "    [theme=dark] .colab-df-convert:hover {\n",
              "      background-color: #434B5C;\n",
              "      box-shadow: 0px 1px 3px 1px rgba(0, 0, 0, 0.15);\n",
              "      filter: drop-shadow(0px 1px 2px rgba(0, 0, 0, 0.3));\n",
              "      fill: #FFFFFF;\n",
              "    }\n",
              "  </style>\n",
              "\n",
              "      <script>\n",
              "        const buttonEl =\n",
              "          document.querySelector('#df-9870545a-91c3-41c9-a3cf-7e191505091e button.colab-df-convert');\n",
              "        buttonEl.style.display =\n",
              "          google.colab.kernel.accessAllowed ? 'block' : 'none';\n",
              "\n",
              "        async function convertToInteractive(key) {\n",
              "          const element = document.querySelector('#df-9870545a-91c3-41c9-a3cf-7e191505091e');\n",
              "          const dataTable =\n",
              "            await google.colab.kernel.invokeFunction('convertToInteractive',\n",
              "                                                     [key], {});\n",
              "          if (!dataTable) return;\n",
              "\n",
              "          const docLinkHtml = 'Like what you see? Visit the ' +\n",
              "            '<a target=\"_blank\" href=https://colab.research.google.com/notebooks/data_table.ipynb>data table notebook</a>'\n",
              "            + ' to learn more about interactive tables.';\n",
              "          element.innerHTML = '';\n",
              "          dataTable['output_type'] = 'display_data';\n",
              "          await google.colab.output.renderOutput(dataTable, element);\n",
              "          const docLink = document.createElement('div');\n",
              "          docLink.innerHTML = docLinkHtml;\n",
              "          element.appendChild(docLink);\n",
              "        }\n",
              "      </script>\n",
              "    </div>\n",
              "  </div>\n",
              "  "
            ],
            "text/plain": [
              "                           text\n",
              "subreddit_name sentiment       \n",
              "berkeley       negative   14562\n",
              "               neutral    12515\n",
              "               positive   27140\n",
              "brownu         negative    1631\n",
              "               neutral     2344\n",
              "               positive    8398\n",
              "caltech        negative     449\n",
              "               neutral      747\n",
              "               positive    3200\n",
              "cmu            negative    3698\n",
              "               neutral     4536\n",
              "               positive   14011\n",
              "columbia       negative    5311\n",
              "               neutral     5425\n",
              "               positive   14049\n",
              "cornell        negative    3554\n",
              "               neutral     2307\n",
              "               positive    5629\n",
              "dartmouth      negative    1002\n",
              "               neutral     1808\n",
              "               positive    6119\n",
              "gatech         negative   12332\n",
              "               neutral    11135\n",
              "               positive   25951\n",
              "harvard        negative    3121\n",
              "               neutral     4322\n",
              "               positive   11682\n",
              "mit            negative    2846\n",
              "               neutral     3347\n",
              "               positive   10893\n",
              "princeton      negative    1134\n",
              "               neutral     1775\n",
              "               positive    5594\n",
              "stanford       negative    3170\n",
              "               neutral     3993\n",
              "               positive   12391\n",
              "uchicago       negative    4357\n",
              "               neutral     5144\n",
              "               positive   14964\n",
              "uiuc           negative   13266\n",
              "               neutral    12674\n",
              "               positive   25287\n",
              "upenn          negative    4264\n",
              "               neutral     5447\n",
              "               positive   12886\n",
              "yale           negative    2009\n",
              "               neutral     2377\n",
              "               positive    8087"
            ]
          },
          "execution_count": 20,
          "metadata": {},
          "output_type": "execute_result"
        }
      ],
      "source": [
        "df_posts[\"sentiment\"].unique()\n",
        "posts.groupby(['subreddit_name', 'sentiment']).nunique()"
      ]
    },
    {
      "cell_type": "markdown",
      "metadata": {
        "id": "NmbiRwbEiH5H"
      },
      "source": [
        "# **Label Encoding**"
      ]
    },
    {
      "cell_type": "code",
      "execution_count": null,
      "metadata": {
        "id": "pinB1qAeftij"
      },
      "outputs": [],
      "source": [
        "import tensorflow as tf"
      ]
    },
    {
      "cell_type": "code",
      "execution_count": null,
      "metadata": {
        "id": "GnMpM9fUiM6X"
      },
      "outputs": [],
      "source": [
        "smaller_df = posts[['subreddit_name','text', 'sentiment']]"
      ]
    },
    {
      "cell_type": "markdown",
      "metadata": {
        "id": "NCr3JoCGimid"
      },
      "source": [
        "# **Cluster 1 - Upenn, Columbia, Uchicago**"
      ]
    },
    {
      "cell_type": "code",
      "execution_count": null,
      "metadata": {
        "colab": {
          "base_uri": "https://localhost:8080/"
        },
        "id": "Mr4QFylJjA6o",
        "outputId": "45f529a1-2e82-4c5c-adcc-f9d3d175ffe6"
      },
      "outputs": [
        {
          "data": {
            "text/plain": [
              "array(['upenn', 'princeton', 'mit', 'harvard', 'stanford', 'yale',\n",
              "       'uchicago', 'caltech', 'brownu', 'columbia', 'cornell',\n",
              "       'dartmouth', 'cmu', 'uiuc', 'berkeley', 'gatech'], dtype=object)"
            ]
          },
          "execution_count": 23,
          "metadata": {},
          "output_type": "execute_result"
        }
      ],
      "source": [
        "posts['subreddit_name'].unique()"
      ]
    },
    {
      "cell_type": "code",
      "execution_count": null,
      "metadata": {
        "id": "8OvEz3d-iP7m"
      },
      "outputs": [],
      "source": [
        "penn = posts.loc[posts['subreddit_name'] == 'upenn']\n",
        "columbia = posts.loc[posts['subreddit_name'] == 'columbia']\n",
        "uchicago = posts.loc[posts['subreddit_name'] == 'uchicago']"
      ]
    },
    {
      "cell_type": "markdown",
      "metadata": {
        "id": "UDkWmLEhjnLy"
      },
      "source": [
        "# A. Upenn"
      ]
    },
    {
      "cell_type": "code",
      "execution_count": null,
      "metadata": {
        "id": "81MdFsVxiQHG"
      },
      "outputs": [],
      "source": [
        "#convert sentiments to numerical value\n",
        "labels = np.array(penn['sentiment'])\n",
        "y = []\n",
        "for i in range(len(labels)):\n",
        "    if labels[i] == 'neutral':\n",
        "        y.append(0)\n",
        "    if labels[i] == 'negative':\n",
        "        y.append(1)\n",
        "    if labels[i] == 'positive':\n",
        "        y.append(2)\n",
        "\n",
        "y = np.array(y)\n",
        "labels = tf.keras.utils.to_categorical(y, 3, dtype=\"float32\")\n",
        "del y"
      ]
    },
    {
      "cell_type": "code",
      "execution_count": null,
      "metadata": {
        "colab": {
          "base_uri": "https://localhost:8080/"
        },
        "id": "cXpqGhB4iQP3",
        "outputId": "7b23892e-2b1f-4c04-8a23-d4225b4b46da"
      },
      "outputs": [
        {
          "name": "stdout",
          "output_type": "stream",
          "text": [
            "[[   0    0    0 ... 1966 4018  872]\n",
            " [   0    0    0 ...   69  134 3312]\n",
            " [   0    0    0 ...    0   16    9]\n",
            " ...\n",
            " [   0    0    0 ...  580   75  229]\n",
            " [   0    0    0 ...  482  414 2907]\n",
            " [   0    0    0 ...  504 1068  101]]\n",
            "17725 5909 17725 5909\n"
          ]
        }
      ],
      "source": [
        "#splitting\n",
        "max_words = 5000\n",
        "max_len = 200\n",
        "\n",
        "tokenizer = Tokenizer(num_words = max_words)\n",
        "tokenizer.fit_on_texts(penn[\"text\"])\n",
        "sequences = tokenizer.texts_to_sequences(penn[\"text\"])\n",
        "reddit_posts = pad_sequences(sequences, maxlen=max_len)\n",
        "print(reddit_posts)\n",
        "\n",
        "X_train, X_test, y_train, y_test = train_test_split(reddit_posts, labels, random_state = 0)\n",
        "print (len(X_train),len(X_test),len(y_train),len(y_test)) "
      ]
    },
    {
      "cell_type": "code",
      "execution_count": null,
      "metadata": {
        "colab": {
          "base_uri": "https://localhost:8080/"
        },
        "id": "Dy2re9qMiQWW",
        "outputId": "1383280a-39fc-4b90-e126-7e7371b62337"
      },
      "outputs": [
        {
          "name": "stderr",
          "output_type": "stream",
          "text": [
            "WARNING:tensorflow:`period` argument is deprecated. Please use `save_freq` to specify the frequency in number of batches seen.\n"
          ]
        },
        {
          "name": "stdout",
          "output_type": "stream",
          "text": [
            "Epoch 1/30\n",
            "554/554 [==============================] - ETA: 0s - loss: 0.7789 - accuracy: 0.6623\n",
            "Epoch 1: val_accuracy improved from -inf to 0.73532, saving model to best_model2.hdf5\n",
            "554/554 [==============================] - 120s 150ms/step - loss: 0.7789 - accuracy: 0.6623 - val_loss: 0.6379 - val_accuracy: 0.7353\n",
            "Epoch 2/30\n",
            "554/554 [==============================] - ETA: 0s - loss: 0.5782 - accuracy: 0.7621\n",
            "Epoch 2: val_accuracy improved from 0.73532 to 0.77932, saving model to best_model2.hdf5\n",
            "554/554 [==============================] - 81s 147ms/step - loss: 0.5782 - accuracy: 0.7621 - val_loss: 0.5447 - val_accuracy: 0.7793\n",
            "Epoch 3/30\n",
            "554/554 [==============================] - ETA: 0s - loss: 0.4859 - accuracy: 0.8128\n",
            "Epoch 3: val_accuracy improved from 0.77932 to 0.81469, saving model to best_model2.hdf5\n",
            "554/554 [==============================] - 84s 151ms/step - loss: 0.4859 - accuracy: 0.8128 - val_loss: 0.4694 - val_accuracy: 0.8147\n",
            "Epoch 4/30\n",
            "554/554 [==============================] - ETA: 0s - loss: 0.4285 - accuracy: 0.8348\n",
            "Epoch 4: val_accuracy improved from 0.81469 to 0.83347, saving model to best_model2.hdf5\n",
            "554/554 [==============================] - 83s 151ms/step - loss: 0.4285 - accuracy: 0.8348 - val_loss: 0.4300 - val_accuracy: 0.8335\n",
            "Epoch 5/30\n",
            "554/554 [==============================] - ETA: 0s - loss: 0.3826 - accuracy: 0.8586\n",
            "Epoch 5: val_accuracy improved from 0.83347 to 0.84786, saving model to best_model2.hdf5\n",
            "554/554 [==============================] - 82s 147ms/step - loss: 0.3826 - accuracy: 0.8586 - val_loss: 0.4129 - val_accuracy: 0.8479\n",
            "Epoch 6/30\n",
            "554/554 [==============================] - ETA: 0s - loss: 0.3607 - accuracy: 0.8658\n",
            "Epoch 6: val_accuracy improved from 0.84786 to 0.85446, saving model to best_model2.hdf5\n",
            "554/554 [==============================] - 84s 151ms/step - loss: 0.3607 - accuracy: 0.8658 - val_loss: 0.3898 - val_accuracy: 0.8545\n",
            "Epoch 7/30\n",
            "554/554 [==============================] - ETA: 0s - loss: 0.3345 - accuracy: 0.8795\n",
            "Epoch 7: val_accuracy improved from 0.85446 to 0.86461, saving model to best_model2.hdf5\n",
            "554/554 [==============================] - 81s 147ms/step - loss: 0.3345 - accuracy: 0.8795 - val_loss: 0.3800 - val_accuracy: 0.8646\n",
            "Epoch 8/30\n",
            "554/554 [==============================] - ETA: 0s - loss: 0.3197 - accuracy: 0.8853\n",
            "Epoch 8: val_accuracy improved from 0.86461 to 0.87155, saving model to best_model2.hdf5\n",
            "554/554 [==============================] - 83s 151ms/step - loss: 0.3197 - accuracy: 0.8853 - val_loss: 0.3797 - val_accuracy: 0.8716\n",
            "Epoch 9/30\n",
            "554/554 [==============================] - ETA: 0s - loss: 0.3046 - accuracy: 0.8909\n",
            "Epoch 9: val_accuracy did not improve from 0.87155\n",
            "554/554 [==============================] - 81s 147ms/step - loss: 0.3046 - accuracy: 0.8909 - val_loss: 0.3949 - val_accuracy: 0.8655\n",
            "Epoch 10/30\n",
            "554/554 [==============================] - ETA: 0s - loss: 0.2956 - accuracy: 0.8960\n",
            "Epoch 10: val_accuracy improved from 0.87155 to 0.87680, saving model to best_model2.hdf5\n",
            "554/554 [==============================] - 84s 151ms/step - loss: 0.2956 - accuracy: 0.8960 - val_loss: 0.3685 - val_accuracy: 0.8768\n",
            "Epoch 11/30\n",
            "554/554 [==============================] - ETA: 0s - loss: 0.2861 - accuracy: 0.9014\n",
            "Epoch 11: val_accuracy improved from 0.87680 to 0.87849, saving model to best_model2.hdf5\n",
            "554/554 [==============================] - 83s 150ms/step - loss: 0.2861 - accuracy: 0.9014 - val_loss: 0.3677 - val_accuracy: 0.8785\n",
            "Epoch 12/30\n",
            "554/554 [==============================] - ETA: 0s - loss: 0.2806 - accuracy: 0.9035\n",
            "Epoch 12: val_accuracy improved from 0.87849 to 0.88069, saving model to best_model2.hdf5\n",
            "554/554 [==============================] - 82s 147ms/step - loss: 0.2806 - accuracy: 0.9035 - val_loss: 0.3550 - val_accuracy: 0.8807\n",
            "Epoch 13/30\n",
            "554/554 [==============================] - ETA: 0s - loss: 0.2700 - accuracy: 0.9090\n",
            "Epoch 13: val_accuracy did not improve from 0.88069\n",
            "554/554 [==============================] - 81s 146ms/step - loss: 0.2700 - accuracy: 0.9090 - val_loss: 0.3648 - val_accuracy: 0.8783\n",
            "Epoch 14/30\n",
            "554/554 [==============================] - ETA: 0s - loss: 0.2647 - accuracy: 0.9097\n",
            "Epoch 14: val_accuracy did not improve from 0.88069\n",
            "554/554 [==============================] - 83s 150ms/step - loss: 0.2647 - accuracy: 0.9097 - val_loss: 0.3699 - val_accuracy: 0.8782\n",
            "Epoch 15/30\n",
            "554/554 [==============================] - ETA: 0s - loss: 0.2629 - accuracy: 0.9126\n",
            "Epoch 15: val_accuracy improved from 0.88069 to 0.88137, saving model to best_model2.hdf5\n",
            "554/554 [==============================] - 82s 148ms/step - loss: 0.2629 - accuracy: 0.9126 - val_loss: 0.3575 - val_accuracy: 0.8814\n",
            "Epoch 16/30\n",
            "554/554 [==============================] - ETA: 0s - loss: 0.2641 - accuracy: 0.9122\n",
            "Epoch 16: val_accuracy did not improve from 0.88137\n",
            "554/554 [==============================] - 82s 148ms/step - loss: 0.2641 - accuracy: 0.9122 - val_loss: 0.3582 - val_accuracy: 0.8807\n",
            "Epoch 17/30\n",
            "554/554 [==============================] - ETA: 0s - loss: 0.2590 - accuracy: 0.9127\n",
            "Epoch 17: val_accuracy improved from 0.88137 to 0.88441, saving model to best_model2.hdf5\n",
            "554/554 [==============================] - 83s 150ms/step - loss: 0.2590 - accuracy: 0.9127 - val_loss: 0.3470 - val_accuracy: 0.8844\n",
            "Epoch 18/30\n",
            "554/554 [==============================] - ETA: 0s - loss: 0.2532 - accuracy: 0.9153\n",
            "Epoch 18: val_accuracy did not improve from 0.88441\n",
            "554/554 [==============================] - 81s 147ms/step - loss: 0.2532 - accuracy: 0.9153 - val_loss: 0.3492 - val_accuracy: 0.8844\n",
            "Epoch 19/30\n",
            "554/554 [==============================] - ETA: 0s - loss: 0.2482 - accuracy: 0.9181\n",
            "Epoch 19: val_accuracy did not improve from 0.88441\n",
            "554/554 [==============================] - 83s 150ms/step - loss: 0.2482 - accuracy: 0.9181 - val_loss: 0.3574 - val_accuracy: 0.8827\n",
            "Epoch 20/30\n",
            "554/554 [==============================] - ETA: 0s - loss: 0.2466 - accuracy: 0.9188\n",
            "Epoch 20: val_accuracy did not improve from 0.88441\n",
            "554/554 [==============================] - 81s 146ms/step - loss: 0.2466 - accuracy: 0.9188 - val_loss: 0.3639 - val_accuracy: 0.8829\n",
            "Epoch 21/30\n",
            "554/554 [==============================] - ETA: 0s - loss: 0.2474 - accuracy: 0.9189\n",
            "Epoch 21: val_accuracy improved from 0.88441 to 0.88678, saving model to best_model2.hdf5\n",
            "554/554 [==============================] - 81s 146ms/step - loss: 0.2474 - accuracy: 0.9189 - val_loss: 0.3409 - val_accuracy: 0.8868\n",
            "Epoch 22/30\n",
            "554/554 [==============================] - ETA: 0s - loss: 0.2446 - accuracy: 0.9199\n",
            "Epoch 22: val_accuracy improved from 0.88678 to 0.88729, saving model to best_model2.hdf5\n",
            "554/554 [==============================] - 83s 149ms/step - loss: 0.2446 - accuracy: 0.9199 - val_loss: 0.3562 - val_accuracy: 0.8873\n",
            "Epoch 23/30\n",
            "554/554 [==============================] - ETA: 0s - loss: 0.2452 - accuracy: 0.9184\n",
            "Epoch 23: val_accuracy did not improve from 0.88729\n",
            "554/554 [==============================] - 83s 149ms/step - loss: 0.2452 - accuracy: 0.9184 - val_loss: 0.3558 - val_accuracy: 0.8863\n",
            "Epoch 24/30\n",
            "554/554 [==============================] - ETA: 0s - loss: 0.2398 - accuracy: 0.9209\n",
            "Epoch 24: val_accuracy did not improve from 0.88729\n",
            "554/554 [==============================] - 81s 146ms/step - loss: 0.2398 - accuracy: 0.9209 - val_loss: 0.3579 - val_accuracy: 0.8836\n",
            "Epoch 25/30\n",
            "554/554 [==============================] - ETA: 0s - loss: 0.2367 - accuracy: 0.9240\n",
            "Epoch 25: val_accuracy did not improve from 0.88729\n",
            "554/554 [==============================] - 83s 149ms/step - loss: 0.2367 - accuracy: 0.9240 - val_loss: 0.3587 - val_accuracy: 0.8856\n",
            "Epoch 26/30\n",
            "554/554 [==============================] - ETA: 0s - loss: 0.2363 - accuracy: 0.9220\n",
            "Epoch 26: val_accuracy did not improve from 0.88729\n",
            "554/554 [==============================] - 80s 145ms/step - loss: 0.2363 - accuracy: 0.9220 - val_loss: 0.3724 - val_accuracy: 0.8820\n",
            "Epoch 27/30\n",
            "554/554 [==============================] - ETA: 0s - loss: 0.2316 - accuracy: 0.9247\n",
            "Epoch 27: val_accuracy did not improve from 0.88729\n",
            "554/554 [==============================] - 83s 149ms/step - loss: 0.2316 - accuracy: 0.9247 - val_loss: 0.3676 - val_accuracy: 0.8829\n",
            "Epoch 28/30\n",
            "554/554 [==============================] - ETA: 0s - loss: 0.2362 - accuracy: 0.9229\n",
            "Epoch 28: val_accuracy did not improve from 0.88729\n",
            "554/554 [==============================] - 81s 146ms/step - loss: 0.2362 - accuracy: 0.9229 - val_loss: 0.3627 - val_accuracy: 0.8832\n",
            "Epoch 29/30\n",
            "554/554 [==============================] - ETA: 0s - loss: 0.2312 - accuracy: 0.9242\n",
            "Epoch 29: val_accuracy did not improve from 0.88729\n",
            "554/554 [==============================] - 81s 145ms/step - loss: 0.2312 - accuracy: 0.9242 - val_loss: 0.3636 - val_accuracy: 0.8851\n",
            "Epoch 30/30\n",
            "554/554 [==============================] - ETA: 0s - loss: 0.2280 - accuracy: 0.9245\n",
            "Epoch 30: val_accuracy did not improve from 0.88729\n",
            "554/554 [==============================] - 83s 149ms/step - loss: 0.2280 - accuracy: 0.9245 - val_loss: 0.3675 - val_accuracy: 0.8790\n"
          ]
        }
      ],
      "source": [
        "#ltsm model\n",
        "model = Sequential()\n",
        "model.add(layers.Embedding(max_words, 40, input_length=max_len))\n",
        "model.add(layers.Bidirectional(layers.LSTM(20,dropout=0.6)))\n",
        "model.add(layers.Dense(3,activation='softmax'))\n",
        "model.compile(optimizer='rmsprop',loss='categorical_crossentropy', metrics=['accuracy'])\n",
        "#checkpoints enure the best metric is saved during training\n",
        "checkpoint2 = ModelCheckpoint(\"best_model2.hdf5\", monitor='val_accuracy', verbose=1,save_best_only=True, mode='auto', period=1,save_weights_only=False)\n",
        "history = model.fit(X_train, y_train, epochs=30,validation_data=(X_test, y_test),callbacks=[checkpoint2])"
      ]
    },
    {
      "cell_type": "code",
      "execution_count": null,
      "metadata": {
        "colab": {
          "base_uri": "https://localhost:8080/"
        },
        "id": "4CZAcVQFiQel",
        "outputId": "b4e34220-ae90-48de-e20d-1ad01df1450b"
      },
      "outputs": [
        {
          "name": "stderr",
          "output_type": "stream",
          "text": [
            "WARNING:tensorflow:`period` argument is deprecated. Please use `save_freq` to specify the frequency in number of batches seen.\n"
          ]
        },
        {
          "name": "stdout",
          "output_type": "stream",
          "text": [
            "Epoch 1/30\n",
            "552/554 [============================>.] - ETA: 0s - loss: 1.0047 - acc: 0.6292"
          ]
        },
        {
          "name": "stderr",
          "output_type": "stream",
          "text": [
            "WARNING:tensorflow:Can save best model only with val_accuracy available, skipping.\n"
          ]
        },
        {
          "name": "stdout",
          "output_type": "stream",
          "text": [
            "\b\b\b\b\b\b\b\b\b\b\b\b\b\b\b\b\b\b\b\b\b\b\b\b\b\b\b\b\b\b\b\b\b\b\b\b\b\b\b\b\b\b\b\b\b\b\b\b\b\b\b\b\b\b\b\b\b\b\b\b\b\b\b\b\b\b\b\b\b\b\b\b\b\b\b\b\b\b\b\r554/554 [==============================] - 14s 23ms/step - loss: 1.0037 - acc: 0.6296 - val_loss: 0.7716 - val_acc: 0.7323\n",
            "Epoch 2/30\n",
            "554/554 [==============================] - ETA: 0s - loss: 0.6929 - acc: 0.7616"
          ]
        },
        {
          "name": "stderr",
          "output_type": "stream",
          "text": [
            "WARNING:tensorflow:Can save best model only with val_accuracy available, skipping.\n"
          ]
        },
        {
          "name": "stdout",
          "output_type": "stream",
          "text": [
            "\b\b\b\b\b\b\b\b\b\b\b\b\b\b\b\b\b\b\b\b\b\b\b\b\b\b\b\b\b\b\b\b\b\b\b\b\b\b\b\b\b\b\b\b\b\b\b\b\b\b\b\b\b\b\b\b\b\b\b\b\b\b\b\b\b\b\b\b\b\b\b\b\b\b\b\b\b\b\b\r554/554 [==============================] - 12s 21ms/step - loss: 0.6929 - acc: 0.7616 - val_loss: 0.6748 - val_acc: 0.7594\n",
            "Epoch 3/30\n",
            "552/554 [============================>.] - ETA: 0s - loss: 0.6202 - acc: 0.7814"
          ]
        },
        {
          "name": "stderr",
          "output_type": "stream",
          "text": [
            "WARNING:tensorflow:Can save best model only with val_accuracy available, skipping.\n"
          ]
        },
        {
          "name": "stdout",
          "output_type": "stream",
          "text": [
            "\b\b\b\b\b\b\b\b\b\b\b\b\b\b\b\b\b\b\b\b\b\b\b\b\b\b\b\b\b\b\b\b\b\b\b\b\b\b\b\b\b\b\b\b\b\b\b\b\b\b\b\b\b\b\b\b\b\b\b\b\b\b\b\b\b\b\b\b\b\b\b\b\b\b\b\b\b\b\b\r554/554 [==============================] - 12s 22ms/step - loss: 0.6201 - acc: 0.7814 - val_loss: 0.6196 - val_acc: 0.7758\n",
            "Epoch 4/30\n",
            "554/554 [==============================] - ETA: 0s - loss: 0.5799 - acc: 0.7954"
          ]
        },
        {
          "name": "stderr",
          "output_type": "stream",
          "text": [
            "WARNING:tensorflow:Can save best model only with val_accuracy available, skipping.\n"
          ]
        },
        {
          "name": "stdout",
          "output_type": "stream",
          "text": [
            "\b\b\b\b\b\b\b\b\b\b\b\b\b\b\b\b\b\b\b\b\b\b\b\b\b\b\b\b\b\b\b\b\b\b\b\b\b\b\b\b\b\b\b\b\b\b\b\b\b\b\b\b\b\b\b\b\b\b\b\b\b\b\b\b\b\b\b\b\b\b\b\b\b\b\b\b\b\b\b\r554/554 [==============================] - 14s 25ms/step - loss: 0.5799 - acc: 0.7954 - val_loss: 0.6008 - val_acc: 0.7808\n",
            "Epoch 5/30\n",
            "553/554 [============================>.] - ETA: 0s - loss: 0.5585 - acc: 0.8073"
          ]
        },
        {
          "name": "stderr",
          "output_type": "stream",
          "text": [
            "WARNING:tensorflow:Can save best model only with val_accuracy available, skipping.\n"
          ]
        },
        {
          "name": "stdout",
          "output_type": "stream",
          "text": [
            "\b\b\b\b\b\b\b\b\b\b\b\b\b\b\b\b\b\b\b\b\b\b\b\b\b\b\b\b\b\b\b\b\b\b\b\b\b\b\b\b\b\b\b\b\b\b\b\b\b\b\b\b\b\b\b\b\b\b\b\b\b\b\b\b\b\b\b\b\b\b\b\b\b\b\b\b\b\b\b\r554/554 [==============================] - 12s 22ms/step - loss: 0.5583 - acc: 0.8074 - val_loss: 0.5840 - val_acc: 0.7883\n",
            "Epoch 6/30\n",
            "554/554 [==============================] - ETA: 0s - loss: 0.5418 - acc: 0.8128"
          ]
        },
        {
          "name": "stderr",
          "output_type": "stream",
          "text": [
            "WARNING:tensorflow:Can save best model only with val_accuracy available, skipping.\n"
          ]
        },
        {
          "name": "stdout",
          "output_type": "stream",
          "text": [
            "\b\b\b\b\b\b\b\b\b\b\b\b\b\b\b\b\b\b\b\b\b\b\b\b\b\b\b\b\b\b\b\b\b\b\b\b\b\b\b\b\b\b\b\b\b\b\b\b\b\b\b\b\b\b\b\b\b\b\b\b\b\b\b\b\b\b\b\b\b\b\b\b\b\b\b\b\b\b\b\r554/554 [==============================] - 14s 25ms/step - loss: 0.5418 - acc: 0.8128 - val_loss: 0.5738 - val_acc: 0.7915\n",
            "Epoch 7/30\n",
            "554/554 [==============================] - ETA: 0s - loss: 0.5299 - acc: 0.8188"
          ]
        },
        {
          "name": "stderr",
          "output_type": "stream",
          "text": [
            "WARNING:tensorflow:Can save best model only with val_accuracy available, skipping.\n"
          ]
        },
        {
          "name": "stdout",
          "output_type": "stream",
          "text": [
            "\b\b\b\b\b\b\b\b\b\b\b\b\b\b\b\b\b\b\b\b\b\b\b\b\b\b\b\b\b\b\b\b\b\b\b\b\b\b\b\b\b\b\b\b\b\b\b\b\b\b\b\b\b\b\b\b\b\b\b\b\b\b\b\b\b\b\b\b\b\b\b\b\b\b\b\b\b\b\b\r554/554 [==============================] - 12s 21ms/step - loss: 0.5299 - acc: 0.8188 - val_loss: 0.5726 - val_acc: 0.8000\n",
            "Epoch 8/30\n",
            "552/554 [============================>.] - ETA: 0s - loss: 0.5199 - acc: 0.8247"
          ]
        },
        {
          "name": "stderr",
          "output_type": "stream",
          "text": [
            "WARNING:tensorflow:Can save best model only with val_accuracy available, skipping.\n"
          ]
        },
        {
          "name": "stdout",
          "output_type": "stream",
          "text": [
            "\b\b\b\b\b\b\b\b\b\b\b\b\b\b\b\b\b\b\b\b\b\b\b\b\b\b\b\b\b\b\b\b\b\b\b\b\b\b\b\b\b\b\b\b\b\b\b\b\b\b\b\b\b\b\b\b\b\b\b\b\b\b\b\b\b\b\b\b\b\b\b\b\b\b\b\b\b\b\b\r554/554 [==============================] - 14s 25ms/step - loss: 0.5193 - acc: 0.8250 - val_loss: 0.5637 - val_acc: 0.7979\n",
            "Epoch 9/30\n",
            "552/554 [============================>.] - ETA: 0s - loss: 0.5099 - acc: 0.8243"
          ]
        },
        {
          "name": "stderr",
          "output_type": "stream",
          "text": [
            "WARNING:tensorflow:Can save best model only with val_accuracy available, skipping.\n"
          ]
        },
        {
          "name": "stdout",
          "output_type": "stream",
          "text": [
            "\b\b\b\b\b\b\b\b\b\b\b\b\b\b\b\b\b\b\b\b\b\b\b\b\b\b\b\b\b\b\b\b\b\b\b\b\b\b\b\b\b\b\b\b\b\b\b\b\b\b\b\b\b\b\b\b\b\b\b\b\b\b\b\b\b\b\b\b\b\b\b\b\b\b\b\b\b\b\b\r554/554 [==============================] - 12s 22ms/step - loss: 0.5098 - acc: 0.8243 - val_loss: 0.5565 - val_acc: 0.8176\n",
            "Epoch 10/30\n",
            "554/554 [==============================] - ETA: 0s - loss: 0.4993 - acc: 0.8308"
          ]
        },
        {
          "name": "stderr",
          "output_type": "stream",
          "text": [
            "WARNING:tensorflow:Can save best model only with val_accuracy available, skipping.\n"
          ]
        },
        {
          "name": "stdout",
          "output_type": "stream",
          "text": [
            "\b\b\b\b\b\b\b\b\b\b\b\b\b\b\b\b\b\b\b\b\b\b\b\b\b\b\b\b\b\b\b\b\b\b\b\b\b\b\b\b\b\b\b\b\b\b\b\b\b\b\b\b\b\b\b\b\b\b\b\b\b\b\b\b\b\b\b\b\b\b\b\b\b\b\b\b\b\b\b\r554/554 [==============================] - 12s 22ms/step - loss: 0.4993 - acc: 0.8308 - val_loss: 0.5484 - val_acc: 0.8061\n",
            "Epoch 11/30\n",
            "554/554 [==============================] - ETA: 0s - loss: 0.4875 - acc: 0.8359"
          ]
        },
        {
          "name": "stderr",
          "output_type": "stream",
          "text": [
            "WARNING:tensorflow:Can save best model only with val_accuracy available, skipping.\n"
          ]
        },
        {
          "name": "stdout",
          "output_type": "stream",
          "text": [
            "\b\b\b\b\b\b\b\b\b\b\b\b\b\b\b\b\b\b\b\b\b\b\b\b\b\b\b\b\b\b\b\b\b\b\b\b\b\b\b\b\b\b\b\b\b\b\b\b\b\b\b\b\b\b\b\b\b\b\b\b\b\b\b\b\b\b\b\b\b\b\b\b\b\b\b\b\b\b\b\r554/554 [==============================] - 14s 25ms/step - loss: 0.4875 - acc: 0.8359 - val_loss: 0.5459 - val_acc: 0.8103\n",
            "Epoch 12/30\n",
            "552/554 [============================>.] - ETA: 0s - loss: 0.4734 - acc: 0.8413"
          ]
        },
        {
          "name": "stderr",
          "output_type": "stream",
          "text": [
            "WARNING:tensorflow:Can save best model only with val_accuracy available, skipping.\n"
          ]
        },
        {
          "name": "stdout",
          "output_type": "stream",
          "text": [
            "\b\b\b\b\b\b\b\b\b\b\b\b\b\b\b\b\b\b\b\b\b\b\b\b\b\b\b\b\b\b\b\b\b\b\b\b\b\b\b\b\b\b\b\b\b\b\b\b\b\b\b\b\b\b\b\b\b\b\b\b\b\b\b\b\b\b\b\b\b\b\b\b\b\b\b\b\b\b\b\r554/554 [==============================] - 12s 22ms/step - loss: 0.4732 - acc: 0.8415 - val_loss: 0.5351 - val_acc: 0.8164\n",
            "Epoch 13/30\n",
            "554/554 [==============================] - ETA: 0s - loss: 0.4599 - acc: 0.8483"
          ]
        },
        {
          "name": "stderr",
          "output_type": "stream",
          "text": [
            "WARNING:tensorflow:Can save best model only with val_accuracy available, skipping.\n"
          ]
        },
        {
          "name": "stdout",
          "output_type": "stream",
          "text": [
            "\b\b\b\b\b\b\b\b\b\b\b\b\b\b\b\b\b\b\b\b\b\b\b\b\b\b\b\b\b\b\b\b\b\b\b\b\b\b\b\b\b\b\b\b\b\b\b\b\b\b\b\b\b\b\b\b\b\b\b\b\b\b\b\b\b\b\b\b\b\b\b\b\b\b\b\b\b\b\b\r554/554 [==============================] - 12s 22ms/step - loss: 0.4599 - acc: 0.8483 - val_loss: 0.5334 - val_acc: 0.8243\n",
            "Epoch 14/30\n",
            "553/554 [============================>.] - ETA: 0s - loss: 0.4444 - acc: 0.8604"
          ]
        },
        {
          "name": "stderr",
          "output_type": "stream",
          "text": [
            "WARNING:tensorflow:Can save best model only with val_accuracy available, skipping.\n"
          ]
        },
        {
          "name": "stdout",
          "output_type": "stream",
          "text": [
            "\b\b\b\b\b\b\b\b\b\b\b\b\b\b\b\b\b\b\b\b\b\b\b\b\b\b\b\b\b\b\b\b\b\b\b\b\b\b\b\b\b\b\b\b\b\b\b\b\b\b\b\b\b\b\b\b\b\b\b\b\b\b\b\b\b\b\b\b\b\b\b\b\b\b\b\b\b\b\b\r554/554 [==============================] - 14s 25ms/step - loss: 0.4451 - acc: 0.8603 - val_loss: 0.5443 - val_acc: 0.8201\n",
            "Epoch 15/30\n",
            "554/554 [==============================] - ETA: 0s - loss: 0.4238 - acc: 0.8711"
          ]
        },
        {
          "name": "stderr",
          "output_type": "stream",
          "text": [
            "WARNING:tensorflow:Can save best model only with val_accuracy available, skipping.\n"
          ]
        },
        {
          "name": "stdout",
          "output_type": "stream",
          "text": [
            "\b\b\b\b\b\b\b\b\b\b\b\b\b\b\b\b\b\b\b\b\b\b\b\b\b\b\b\b\b\b\b\b\b\b\b\b\b\b\b\b\b\b\b\b\b\b\b\b\b\b\b\b\b\b\b\b\b\b\b\b\b\b\b\b\b\b\b\b\b\b\b\b\b\b\b\b\b\b\b\r554/554 [==============================] - 12s 22ms/step - loss: 0.4238 - acc: 0.8711 - val_loss: 0.5035 - val_acc: 0.8428\n",
            "Epoch 16/30\n",
            "554/554 [==============================] - ETA: 0s - loss: 0.3979 - acc: 0.8838"
          ]
        },
        {
          "name": "stderr",
          "output_type": "stream",
          "text": [
            "WARNING:tensorflow:Can save best model only with val_accuracy available, skipping.\n"
          ]
        },
        {
          "name": "stdout",
          "output_type": "stream",
          "text": [
            "\b\b\b\b\b\b\b\b\b\b\b\b\b\b\b\b\b\b\b\b\b\b\b\b\b\b\b\b\b\b\b\b\b\b\b\b\b\b\b\b\b\b\b\b\b\b\b\b\b\b\b\b\b\b\b\b\b\b\b\b\b\b\b\b\b\b\b\b\b\b\b\b\b\b\b\b\b\b\b\r554/554 [==============================] - 12s 22ms/step - loss: 0.3979 - acc: 0.8838 - val_loss: 0.4787 - val_acc: 0.8516\n",
            "Epoch 17/30\n",
            "553/554 [============================>.] - ETA: 0s - loss: 0.3785 - acc: 0.8917"
          ]
        },
        {
          "name": "stderr",
          "output_type": "stream",
          "text": [
            "WARNING:tensorflow:Can save best model only with val_accuracy available, skipping.\n"
          ]
        },
        {
          "name": "stdout",
          "output_type": "stream",
          "text": [
            "\b\b\b\b\b\b\b\b\b\b\b\b\b\b\b\b\b\b\b\b\b\b\b\b\b\b\b\b\b\b\b\b\b\b\b\b\b\b\b\b\b\b\b\b\b\b\b\b\b\b\b\b\b\b\b\b\b\b\b\b\b\b\b\b\b\b\b\b\b\b\b\b\b\b\b\b\b\b\b\r554/554 [==============================] - 14s 25ms/step - loss: 0.3782 - acc: 0.8918 - val_loss: 0.4734 - val_acc: 0.8611\n",
            "Epoch 18/30\n",
            "553/554 [============================>.] - ETA: 0s - loss: 0.3634 - acc: 0.8959"
          ]
        },
        {
          "name": "stderr",
          "output_type": "stream",
          "text": [
            "WARNING:tensorflow:Can save best model only with val_accuracy available, skipping.\n"
          ]
        },
        {
          "name": "stdout",
          "output_type": "stream",
          "text": [
            "\b\b\b\b\b\b\b\b\b\b\b\b\b\b\b\b\b\b\b\b\b\b\b\b\b\b\b\b\b\b\b\b\b\b\b\b\b\b\b\b\b\b\b\b\b\b\b\b\b\b\b\b\b\b\b\b\b\b\b\b\b\b\b\b\b\b\b\b\b\b\b\b\b\b\b\b\b\b\b\r554/554 [==============================] - 12s 22ms/step - loss: 0.3634 - acc: 0.8960 - val_loss: 0.4734 - val_acc: 0.8595\n",
            "Epoch 19/30\n",
            "553/554 [============================>.] - ETA: 0s - loss: 0.3523 - acc: 0.9022"
          ]
        },
        {
          "name": "stderr",
          "output_type": "stream",
          "text": [
            "WARNING:tensorflow:Can save best model only with val_accuracy available, skipping.\n"
          ]
        },
        {
          "name": "stdout",
          "output_type": "stream",
          "text": [
            "\b\b\b\b\b\b\b\b\b\b\b\b\b\b\b\b\b\b\b\b\b\b\b\b\b\b\b\b\b\b\b\b\b\b\b\b\b\b\b\b\b\b\b\b\b\b\b\b\b\b\b\b\b\b\b\b\b\b\b\b\b\b\b\b\b\b\b\b\b\b\b\b\b\b\b\b\b\b\b\r554/554 [==============================] - 14s 25ms/step - loss: 0.3524 - acc: 0.9022 - val_loss: 0.4591 - val_acc: 0.8639\n",
            "Epoch 20/30\n",
            "552/554 [============================>.] - ETA: 0s - loss: 0.3424 - acc: 0.9045"
          ]
        },
        {
          "name": "stderr",
          "output_type": "stream",
          "text": [
            "WARNING:tensorflow:Can save best model only with val_accuracy available, skipping.\n"
          ]
        },
        {
          "name": "stdout",
          "output_type": "stream",
          "text": [
            "\b\b\b\b\b\b\b\b\b\b\b\b\b\b\b\b\b\b\b\b\b\b\b\b\b\b\b\b\b\b\b\b\b\b\b\b\b\b\b\b\b\b\b\b\b\b\b\b\b\b\b\b\b\b\b\b\b\b\b\b\b\b\b\b\b\b\b\b\b\b\b\b\b\b\b\b\b\b\b\r554/554 [==============================] - 12s 22ms/step - loss: 0.3424 - acc: 0.9045 - val_loss: 0.4449 - val_acc: 0.8663\n",
            "Epoch 21/30\n",
            "553/554 [============================>.] - ETA: 0s - loss: 0.3334 - acc: 0.9104"
          ]
        },
        {
          "name": "stderr",
          "output_type": "stream",
          "text": [
            "WARNING:tensorflow:Can save best model only with val_accuracy available, skipping.\n"
          ]
        },
        {
          "name": "stdout",
          "output_type": "stream",
          "text": [
            "\b\b\b\b\b\b\b\b\b\b\b\b\b\b\b\b\b\b\b\b\b\b\b\b\b\b\b\b\b\b\b\b\b\b\b\b\b\b\b\b\b\b\b\b\b\b\b\b\b\b\b\b\b\b\b\b\b\b\b\b\b\b\b\b\b\b\b\b\b\b\b\b\b\b\b\b\b\b\b\r554/554 [==============================] - 12s 22ms/step - loss: 0.3332 - acc: 0.9105 - val_loss: 0.4469 - val_acc: 0.8685\n",
            "Epoch 22/30\n",
            "554/554 [==============================] - ETA: 0s - loss: 0.3256 - acc: 0.9128"
          ]
        },
        {
          "name": "stderr",
          "output_type": "stream",
          "text": [
            "WARNING:tensorflow:Can save best model only with val_accuracy available, skipping.\n"
          ]
        },
        {
          "name": "stdout",
          "output_type": "stream",
          "text": [
            "\b\b\b\b\b\b\b\b\b\b\b\b\b\b\b\b\b\b\b\b\b\b\b\b\b\b\b\b\b\b\b\b\b\b\b\b\b\b\b\b\b\b\b\b\b\b\b\b\b\b\b\b\b\b\b\b\b\b\b\b\b\b\b\b\b\b\b\b\b\b\b\b\b\b\b\b\b\b\b\r554/554 [==============================] - 13s 24ms/step - loss: 0.3256 - acc: 0.9128 - val_loss: 0.4463 - val_acc: 0.8670\n",
            "Epoch 23/30\n",
            "552/554 [============================>.] - ETA: 0s - loss: 0.3167 - acc: 0.9167"
          ]
        },
        {
          "name": "stderr",
          "output_type": "stream",
          "text": [
            "WARNING:tensorflow:Can save best model only with val_accuracy available, skipping.\n"
          ]
        },
        {
          "name": "stdout",
          "output_type": "stream",
          "text": [
            "\b\b\b\b\b\b\b\b\b\b\b\b\b\b\b\b\b\b\b\b\b\b\b\b\b\b\b\b\b\b\b\b\b\b\b\b\b\b\b\b\b\b\b\b\b\b\b\b\b\b\b\b\b\b\b\b\b\b\b\b\b\b\b\b\b\b\b\b\b\b\b\b\b\b\b\b\b\b\b\r554/554 [==============================] - 12s 22ms/step - loss: 0.3165 - acc: 0.9167 - val_loss: 0.4444 - val_acc: 0.8653\n",
            "Epoch 24/30\n",
            "554/554 [==============================] - ETA: 0s - loss: 0.3090 - acc: 0.9202"
          ]
        },
        {
          "name": "stderr",
          "output_type": "stream",
          "text": [
            "WARNING:tensorflow:Can save best model only with val_accuracy available, skipping.\n"
          ]
        },
        {
          "name": "stdout",
          "output_type": "stream",
          "text": [
            "\b\b\b\b\b\b\b\b\b\b\b\b\b\b\b\b\b\b\b\b\b\b\b\b\b\b\b\b\b\b\b\b\b\b\b\b\b\b\b\b\b\b\b\b\b\b\b\b\b\b\b\b\b\b\b\b\b\b\b\b\b\b\b\b\b\b\b\b\b\b\b\b\b\b\b\b\b\b\b\r554/554 [==============================] - 12s 22ms/step - loss: 0.3090 - acc: 0.9202 - val_loss: 0.4466 - val_acc: 0.8683\n",
            "Epoch 25/30\n",
            "554/554 [==============================] - ETA: 0s - loss: 0.3026 - acc: 0.9221"
          ]
        },
        {
          "name": "stderr",
          "output_type": "stream",
          "text": [
            "WARNING:tensorflow:Can save best model only with val_accuracy available, skipping.\n"
          ]
        },
        {
          "name": "stdout",
          "output_type": "stream",
          "text": [
            "\b\b\b\b\b\b\b\b\b\b\b\b\b\b\b\b\b\b\b\b\b\b\b\b\b\b\b\b\b\b\b\b\b\b\b\b\b\b\b\b\b\b\b\b\b\b\b\b\b\b\b\b\b\b\b\b\b\b\b\b\b\b\b\b\b\b\b\b\b\b\b\b\b\b\b\b\b\b\b\r554/554 [==============================] - 14s 25ms/step - loss: 0.3026 - acc: 0.9221 - val_loss: 0.4453 - val_acc: 0.8673\n",
            "Epoch 26/30\n",
            "553/554 [============================>.] - ETA: 0s - loss: 0.2943 - acc: 0.9256"
          ]
        },
        {
          "name": "stderr",
          "output_type": "stream",
          "text": [
            "WARNING:tensorflow:Can save best model only with val_accuracy available, skipping.\n"
          ]
        },
        {
          "name": "stdout",
          "output_type": "stream",
          "text": [
            "\b\b\b\b\b\b\b\b\b\b\b\b\b\b\b\b\b\b\b\b\b\b\b\b\b\b\b\b\b\b\b\b\b\b\b\b\b\b\b\b\b\b\b\b\b\b\b\b\b\b\b\b\b\b\b\b\b\b\b\b\b\b\b\b\b\b\b\b\b\b\b\b\b\b\b\b\b\b\b\r554/554 [==============================] - 12s 22ms/step - loss: 0.2944 - acc: 0.9254 - val_loss: 0.4537 - val_acc: 0.8690\n",
            "Epoch 27/30\n",
            "553/554 [============================>.] - ETA: 0s - loss: 0.2881 - acc: 0.9291"
          ]
        },
        {
          "name": "stderr",
          "output_type": "stream",
          "text": [
            "WARNING:tensorflow:Can save best model only with val_accuracy available, skipping.\n"
          ]
        },
        {
          "name": "stdout",
          "output_type": "stream",
          "text": [
            "\b\b\b\b\b\b\b\b\b\b\b\b\b\b\b\b\b\b\b\b\b\b\b\b\b\b\b\b\b\b\b\b\b\b\b\b\b\b\b\b\b\b\b\b\b\b\b\b\b\b\b\b\b\b\b\b\b\b\b\b\b\b\b\b\b\b\b\b\b\b\b\b\b\b\b\b\b\b\b\r554/554 [==============================] - 14s 25ms/step - loss: 0.2880 - acc: 0.9291 - val_loss: 0.4578 - val_acc: 0.8639\n",
            "Epoch 28/30\n",
            "554/554 [==============================] - ETA: 0s - loss: 0.2821 - acc: 0.9313"
          ]
        },
        {
          "name": "stderr",
          "output_type": "stream",
          "text": [
            "WARNING:tensorflow:Can save best model only with val_accuracy available, skipping.\n"
          ]
        },
        {
          "name": "stdout",
          "output_type": "stream",
          "text": [
            "\b\b\b\b\b\b\b\b\b\b\b\b\b\b\b\b\b\b\b\b\b\b\b\b\b\b\b\b\b\b\b\b\b\b\b\b\b\b\b\b\b\b\b\b\b\b\b\b\b\b\b\b\b\b\b\b\b\b\b\b\b\b\b\b\b\b\b\b\b\b\b\b\b\b\b\b\b\b\b\r554/554 [==============================] - 12s 22ms/step - loss: 0.2821 - acc: 0.9313 - val_loss: 0.4504 - val_acc: 0.8644\n",
            "Epoch 29/30\n",
            "554/554 [==============================] - ETA: 0s - loss: 0.2763 - acc: 0.9340"
          ]
        },
        {
          "name": "stderr",
          "output_type": "stream",
          "text": [
            "WARNING:tensorflow:Can save best model only with val_accuracy available, skipping.\n"
          ]
        },
        {
          "name": "stdout",
          "output_type": "stream",
          "text": [
            "\b\b\b\b\b\b\b\b\b\b\b\b\b\b\b\b\b\b\b\b\b\b\b\b\b\b\b\b\b\b\b\b\b\b\b\b\b\b\b\b\b\b\b\b\b\b\b\b\b\b\b\b\b\b\b\b\b\b\b\b\b\b\b\b\b\b\b\b\b\b\b\b\b\b\b\b\b\b\b\r554/554 [==============================] - 14s 26ms/step - loss: 0.2763 - acc: 0.9340 - val_loss: 0.4497 - val_acc: 0.8646\n",
            "Epoch 30/30\n",
            "553/554 [============================>.] - ETA: 0s - loss: 0.2706 - acc: 0.9367"
          ]
        },
        {
          "name": "stderr",
          "output_type": "stream",
          "text": [
            "WARNING:tensorflow:Can save best model only with val_accuracy available, skipping.\n"
          ]
        },
        {
          "name": "stdout",
          "output_type": "stream",
          "text": [
            "\b\b\b\b\b\b\b\b\b\b\b\b\b\b\b\b\b\b\b\b\b\b\b\b\b\b\b\b\b\b\b\b\b\b\b\b\b\b\b\b\b\b\b\b\b\b\b\b\b\b\b\b\b\b\b\b\b\b\b\b\b\b\b\b\b\b\b\b\b\b\b\b\b\b\b\b\b\b\b\r554/554 [==============================] - 12s 22ms/step - loss: 0.2706 - acc: 0.9366 - val_loss: 0.4635 - val_acc: 0.8656\n"
          ]
        }
      ],
      "source": [
        "#Try CNN implementation and compare \n",
        "from keras import regularizers\n",
        "model3 = Sequential()\n",
        "model3.add(layers.Embedding(max_words, 40, input_length=max_len))\n",
        "model3.add(layers.Conv1D(20, 6, activation='relu',kernel_regularizer=regularizers.l1_l2(l1=2e-3, l2=2e-3),bias_regularizer=regularizers.l2(2e-3)))\n",
        "model3.add(layers.MaxPooling1D(5))\n",
        "model3.add(layers.Conv1D(20, 6, activation='relu',kernel_regularizer=regularizers.l1_l2(l1=2e-3, l2=2e-3),bias_regularizer=regularizers.l2(2e-3)))\n",
        "model3.add(layers.GlobalMaxPooling1D())\n",
        "model3.add(layers.Dense(3,activation='softmax'))\n",
        "model3.compile(optimizer='rmsprop',loss='categorical_crossentropy',metrics=['acc'])\n",
        "checkpoint3 = ModelCheckpoint(\"best_model3.hdf5\", monitor='val_accuracy', verbose=1,save_best_only=True, mode='auto', period=1,save_weights_only=False)\n",
        "history = model3.fit(X_train, y_train, epochs=30,validation_data=(X_test, y_test),callbacks=[checkpoint3])"
      ]
    },
    {
      "cell_type": "code",
      "execution_count": null,
      "metadata": {
        "id": "Nj-cHeMB18yc"
      },
      "outputs": [],
      "source": [
        "import keras"
      ]
    },
    {
      "cell_type": "code",
      "execution_count": null,
      "metadata": {
        "id": "H77Ll-Cw1uEo"
      },
      "outputs": [],
      "source": [
        "#Let's load the best model obtained during training\n",
        "best_model = keras.models.load_model(\"best_model2.hdf5\")"
      ]
    },
    {
      "cell_type": "code",
      "execution_count": null,
      "metadata": {
        "colab": {
          "base_uri": "https://localhost:8080/"
        },
        "id": "QfT8rzqE1xjN",
        "outputId": "42d647f9-afb4-4942-a616-51698540a0b2"
      },
      "outputs": [
        {
          "name": "stdout",
          "output_type": "stream",
          "text": [
            "185/185 - 5s - loss: 0.3562 - accuracy: 0.8873 - 5s/epoch - 27ms/step\n",
            "Model accuracy:  0.8872905969619751\n"
          ]
        }
      ],
      "source": [
        "test_loss, test_acc = best_model.evaluate(X_test, y_test, verbose=2)\n",
        "print('Model accuracy: ',test_acc)"
      ]
    },
    {
      "cell_type": "code",
      "execution_count": null,
      "metadata": {
        "colab": {
          "base_uri": "https://localhost:8080/"
        },
        "id": "J4sjcUDC1zur",
        "outputId": "3e678c17-81eb-46ee-950c-85a5aaeb62c3"
      },
      "outputs": [
        {
          "name": "stdout",
          "output_type": "stream",
          "text": [
            "185/185 [==============================] - 5s 25ms/step\n"
          ]
        }
      ],
      "source": [
        "predictions = best_model.predict(X_test)"
      ]
    },
    {
      "cell_type": "code",
      "execution_count": null,
      "metadata": {
        "colab": {
          "base_uri": "https://localhost:8080/",
          "height": 937
        },
        "id": "7Bo6xYGriQoA",
        "outputId": "3b8fa43c-dbbe-4f8e-a5d9-95e7d163c1c0"
      },
      "outputs": [
        {
          "name": "stderr",
          "output_type": "stream",
          "text": [
            "<ipython-input-40-1464592c3a2e>:8: FutureWarning: Support for multi-dimensional indexing (e.g. `obj[:, None]`) is deprecated and will be removed in a future version.  Convert to a numpy array before indexing instead.\n",
            "  conf_matrix = conf_matrix.astype('float') / conf_matrix.sum(axis=1)[:, np.newaxis]\n"
          ]
        },
        {
          "data": {
            "text/plain": [
              "<matplotlib.axes._subplots.AxesSubplot at 0x7f5e167c4760>"
            ]
          },
          "execution_count": 40,
          "metadata": {},
          "output_type": "execute_result"
        },
        {
          "data": {
            "image/png": "[encoded data removed]",
            "text/plain": [
              "<Figure size 1080x1080 with 2 Axes>"
            ]
          },
          "metadata": {},
          "output_type": "display_data"
        }
      ],
      "source": [
        "#confusion matrix\n",
        "from sklearn.metrics import confusion_matrix\n",
        "matrix = confusion_matrix(y_test.argmax(axis=1), np.around(predictions, decimals=0).argmax(axis=1))\n",
        "\n",
        "import seaborn as sns\n",
        "conf_matrix = pd.DataFrame(matrix, index = ['Neutral','Negative','Positive'],columns = ['Neutral','Negative','Positive'])\n",
        "#Normalizing\n",
        "conf_matrix = conf_matrix.astype('float') / conf_matrix.sum(axis=1)[:, np.newaxis]\n",
        "plt.figure(figsize = (15,15))\n",
        "sns.heatmap(conf_matrix, annot=True, annot_kws={\"size\": 15})"
      ]
    },
    {
      "cell_type": "markdown",
      "metadata": {
        "id": "OzmEXuU3kH0O"
      },
      "source": [
        "# Columbia"
      ]
    },
    {
      "cell_type": "code",
      "execution_count": null,
      "metadata": {
        "id": "ClSsGe_WkMc-"
      },
      "outputs": [],
      "source": [
        "#convert sentiments to numerical value\n",
        "labels = np.array(columbia['sentiment'])\n",
        "y = []\n",
        "for i in range(len(labels)):\n",
        "    if labels[i] == 'neutral':\n",
        "        y.append(0)\n",
        "    if labels[i] == 'negative':\n",
        "        y.append(1)\n",
        "    if labels[i] == 'positive':\n",
        "        y.append(2)\n",
        "\n",
        "y = np.array(y)\n",
        "labels = tf.keras.utils.to_categorical(y, 3, dtype=\"float32\")\n",
        "del y"
      ]
    },
    {
      "cell_type": "code",
      "execution_count": null,
      "metadata": {
        "colab": {
          "base_uri": "https://localhost:8080/"
        },
        "id": "ef9F42ZnkMpj",
        "outputId": "6da2b100-284e-4450-d78e-20c6809422fa"
      },
      "outputs": [
        {
          "name": "stdout",
          "output_type": "stream",
          "text": [
            "[[   0    0    0 ...  949    6   61]\n",
            " [   0    0    0 ...   94  802  282]\n",
            " [   0    0    0 ... 1888  194  116]\n",
            " ...\n",
            " [   0    0    0 ...  369 2314  501]\n",
            " [   0    0    0 ...    0    0    0]\n",
            " [   0    0    0 ...   61  303  937]]\n",
            "19650 6550 19650 6550\n"
          ]
        }
      ],
      "source": [
        "#splitting\n",
        "max_words = 5000\n",
        "max_len = 200\n",
        "\n",
        "tokenizer = Tokenizer(num_words = max_words)\n",
        "tokenizer.fit_on_texts(columbia[\"text\"])\n",
        "sequences = tokenizer.texts_to_sequences(columbia[\"text\"])\n",
        "reddit_posts = pad_sequences(sequences, maxlen=max_len)\n",
        "print(reddit_posts)\n",
        "\n",
        "X_train, X_test, y_train, y_test = train_test_split(reddit_posts, labels, random_state = 0)\n",
        "print (len(X_train),len(X_test),len(y_train),len(y_test)) "
      ]
    },
    {
      "cell_type": "code",
      "execution_count": null,
      "metadata": {
        "colab": {
          "background_save": true,
          "base_uri": "https://localhost:8080/"
        },
        "id": "Efz1tbmukMz1",
        "outputId": "8795ebbe-88f1-41ab-99f0-011f0fb8e896"
      },
      "outputs": [
        {
          "name": "stderr",
          "output_type": "stream",
          "text": [
            "WARNING:tensorflow:`period` argument is deprecated. Please use `save_freq` to specify the frequency in number of batches seen.\n"
          ]
        },
        {
          "name": "stdout",
          "output_type": "stream",
          "text": [
            "Epoch 1/30\n",
            "615/615 [==============================] - ETA: 0s - loss: 0.7845 - accuracy: 0.6535\n",
            "Epoch 1: val_accuracy improved from -inf to 0.72840, saving model to best_model2.hdf5\n",
            "615/615 [==============================] - 88s 133ms/step - loss: 0.7845 - accuracy: 0.6535 - val_loss: 0.6365 - val_accuracy: 0.7284\n",
            "Epoch 2/30\n",
            "615/615 [==============================] - ETA: 0s - loss: 0.5845 - accuracy: 0.7584\n",
            "Epoch 2: val_accuracy improved from 0.72840 to 0.76840, saving model to best_model2.hdf5\n",
            "615/615 [==============================] - 79s 129ms/step - loss: 0.5845 - accuracy: 0.7584 - val_loss: 0.5459 - val_accuracy: 0.7684\n",
            "Epoch 3/30\n",
            "615/615 [==============================] - ETA: 0s - loss: 0.4871 - accuracy: 0.8089\n",
            "Epoch 3: val_accuracy improved from 0.76840 to 0.81466, saving model to best_model2.hdf5\n",
            "615/615 [==============================] - 79s 129ms/step - loss: 0.4871 - accuracy: 0.8089 - val_loss: 0.4848 - val_accuracy: 0.8147\n",
            "Epoch 4/30\n",
            "615/615 [==============================] - ETA: 0s - loss: 0.4261 - accuracy: 0.8355\n",
            "Epoch 4: val_accuracy improved from 0.81466 to 0.82702, saving model to best_model2.hdf5\n",
            "615/615 [==============================] - 81s 131ms/step - loss: 0.4261 - accuracy: 0.8355 - val_loss: 0.4582 - val_accuracy: 0.8270\n",
            "Epoch 5/30\n",
            "615/615 [==============================] - ETA: 0s - loss: 0.3909 - accuracy: 0.8518\n",
            "Epoch 5: val_accuracy improved from 0.82702 to 0.84107, saving model to best_model2.hdf5\n",
            "615/615 [==============================] - 81s 132ms/step - loss: 0.3909 - accuracy: 0.8518 - val_loss: 0.4144 - val_accuracy: 0.8411\n",
            "Epoch 6/30\n",
            "615/615 [==============================] - ETA: 0s - loss: 0.3604 - accuracy: 0.8673\n",
            "Epoch 6: val_accuracy improved from 0.84107 to 0.84214, saving model to best_model2.hdf5\n",
            "615/615 [==============================] - 78s 126ms/step - loss: 0.3604 - accuracy: 0.8673 - val_loss: 0.4072 - val_accuracy: 0.8421\n",
            "Epoch 7/30\n",
            "615/615 [==============================] - ETA: 0s - loss: 0.3440 - accuracy: 0.8739\n",
            "Epoch 7: val_accuracy improved from 0.84214 to 0.86183, saving model to best_model2.hdf5\n",
            "615/615 [==============================] - 85s 138ms/step - loss: 0.3440 - accuracy: 0.8739 - val_loss: 0.3853 - val_accuracy: 0.8618\n",
            "Epoch 8/30\n",
            "615/615 [==============================] - ETA: 0s - loss: 0.3244 - accuracy: 0.8821\n",
            "Epoch 8: val_accuracy improved from 0.86183 to 0.86672, saving model to best_model2.hdf5\n",
            "615/615 [==============================] - 78s 127ms/step - loss: 0.3244 - accuracy: 0.8821 - val_loss: 0.3792 - val_accuracy: 0.8667\n",
            "Epoch 9/30\n",
            "615/615 [==============================] - ETA: 0s - loss: 0.3090 - accuracy: 0.8891\n",
            "Epoch 9: val_accuracy did not improve from 0.86672\n",
            "615/615 [==============================] - 80s 130ms/step - loss: 0.3090 - accuracy: 0.8891 - val_loss: 0.3684 - val_accuracy: 0.8612\n",
            "Epoch 10/30\n",
            "615/615 [==============================] - ETA: 0s - loss: 0.2972 - accuracy: 0.8929\n",
            "Epoch 10: val_accuracy improved from 0.86672 to 0.87053, saving model to best_model2.hdf5\n",
            "615/615 [==============================] - 80s 129ms/step - loss: 0.2972 - accuracy: 0.8929 - val_loss: 0.3688 - val_accuracy: 0.8705\n",
            "Epoch 11/30\n",
            "615/615 [==============================] - ETA: 0s - loss: 0.2922 - accuracy: 0.8976\n",
            "Epoch 11: val_accuracy did not improve from 0.87053\n",
            "615/615 [==============================] - 83s 135ms/step - loss: 0.2922 - accuracy: 0.8976 - val_loss: 0.3821 - val_accuracy: 0.8678\n",
            "Epoch 12/30\n",
            "615/615 [==============================] - ETA: 0s - loss: 0.2823 - accuracy: 0.8993\n",
            "Epoch 12: val_accuracy improved from 0.87053 to 0.87557, saving model to best_model2.hdf5\n",
            "615/615 [==============================] - 79s 129ms/step - loss: 0.2823 - accuracy: 0.8993 - val_loss: 0.3471 - val_accuracy: 0.8756\n",
            "Epoch 13/30\n",
            "615/615 [==============================] - ETA: 0s - loss: 0.2765 - accuracy: 0.9044\n",
            "Epoch 13: val_accuracy did not improve from 0.87557\n",
            "615/615 [==============================] - 78s 127ms/step - loss: 0.2765 - accuracy: 0.9044 - val_loss: 0.3617 - val_accuracy: 0.8742\n",
            "Epoch 14/30\n",
            "615/615 [==============================] - ETA: 0s - loss: 0.2715 - accuracy: 0.9063\n",
            "Epoch 14: val_accuracy did not improve from 0.87557\n",
            "615/615 [==============================] - 85s 139ms/step - loss: 0.2715 - accuracy: 0.9063 - val_loss: 0.3738 - val_accuracy: 0.8739\n",
            "Epoch 15/30\n",
            "615/615 [==============================] - ETA: 0s - loss: 0.2653 - accuracy: 0.9100\n",
            "Epoch 15: val_accuracy improved from 0.87557 to 0.87786, saving model to best_model2.hdf5\n",
            "615/615 [==============================] - 78s 127ms/step - loss: 0.2653 - accuracy: 0.9100 - val_loss: 0.3552 - val_accuracy: 0.8779\n",
            "Epoch 16/30\n",
            "615/615 [==============================] - ETA: 0s - loss: 0.2622 - accuracy: 0.9105\n",
            "Epoch 16: val_accuracy improved from 0.87786 to 0.88046, saving model to best_model2.hdf5\n",
            "615/615 [==============================] - 78s 126ms/step - loss: 0.2622 - accuracy: 0.9105 - val_loss: 0.3467 - val_accuracy: 0.8805\n",
            "Epoch 17/30\n",
            "615/615 [==============================] - ETA: 0s - loss: 0.2550 - accuracy: 0.9133\n",
            "Epoch 17: val_accuracy did not improve from 0.88046\n",
            "615/615 [==============================] - 82s 133ms/step - loss: 0.2550 - accuracy: 0.9133 - val_loss: 0.3546 - val_accuracy: 0.8795\n",
            "Epoch 18/30\n",
            "615/615 [==============================] - ETA: 0s - loss: 0.2542 - accuracy: 0.9141\n",
            "Epoch 18: val_accuracy did not improve from 0.88046\n",
            "615/615 [==============================] - 75s 123ms/step - loss: 0.2542 - accuracy: 0.9141 - val_loss: 0.3492 - val_accuracy: 0.8780\n",
            "Epoch 19/30\n",
            "615/615 [==============================] - ETA: 0s - loss: 0.2489 - accuracy: 0.9170\n",
            "Epoch 19: val_accuracy did not improve from 0.88046\n",
            "615/615 [==============================] - 77s 126ms/step - loss: 0.2489 - accuracy: 0.9170 - val_loss: 0.3473 - val_accuracy: 0.8800\n",
            "Epoch 20/30\n",
            "615/615 [==============================] - ETA: 0s - loss: 0.2436 - accuracy: 0.9172\n",
            "Epoch 20: val_accuracy did not improve from 0.88046\n",
            "615/615 [==============================] - 75s 122ms/step - loss: 0.2436 - accuracy: 0.9172 - val_loss: 0.3492 - val_accuracy: 0.8797\n",
            "Epoch 21/30\n",
            "615/615 [==============================] - ETA: 0s - loss: 0.2451 - accuracy: 0.9166\n",
            "Epoch 21: val_accuracy did not improve from 0.88046\n",
            "615/615 [==============================] - 81s 132ms/step - loss: 0.2451 - accuracy: 0.9166 - val_loss: 0.3582 - val_accuracy: 0.8803\n",
            "Epoch 22/30\n",
            "615/615 [==============================] - ETA: 0s - loss: 0.2384 - accuracy: 0.9226\n",
            "Epoch 22: val_accuracy did not improve from 0.88046\n",
            "615/615 [==============================] - 75s 122ms/step - loss: 0.2384 - accuracy: 0.9226 - val_loss: 0.3613 - val_accuracy: 0.8765\n",
            "Epoch 23/30\n",
            "379/615 [=================>............] - ETA: 26s - loss: 0.2339 - accuracy: 0.9205"
          ]
        }
      ],
      "source": [
        "#ltsm model\n",
        "model = Sequential()\n",
        "model.add(layers.Embedding(max_words, 40, input_length=max_len))\n",
        "model.add(layers.Bidirectional(layers.LSTM(20,dropout=0.6)))\n",
        "model.add(layers.Dense(3,activation='softmax'))\n",
        "model.compile(optimizer='rmsprop',loss='categorical_crossentropy', metrics=['accuracy'])\n",
        "#checkpoints enure the best metric is saved during training\n",
        "checkpoint2 = ModelCheckpoint(\"best_model2.hdf5\", monitor='val_accuracy', verbose=1,save_best_only=True, mode='auto', period=1,save_weights_only=False)\n",
        "history = model.fit(X_train, y_train, epochs=30,validation_data=(X_test, y_test),callbacks=[checkpoint2])"
      ]
    },
    {
      "cell_type": "code",
      "execution_count": null,
      "metadata": {
        "colab": {
          "base_uri": "https://localhost:8080/"
        },
        "id": "UZ5cIiSpkM71",
        "outputId": "9f82c441-5725-40f1-8027-69b37b11f07f"
      },
      "outputs": [
        {
          "name": "stderr",
          "output_type": "stream",
          "text": [
            "WARNING:tensorflow:`period` argument is deprecated. Please use `save_freq` to specify the frequency in number of batches seen.\n"
          ]
        },
        {
          "name": "stdout",
          "output_type": "stream",
          "text": [
            "Epoch 1/30\n",
            "614/615 [============================>.] - ETA: 0s - loss: 0.9939 - acc: 0.6319"
          ]
        },
        {
          "name": "stderr",
          "output_type": "stream",
          "text": [
            "WARNING:tensorflow:Can save best model only with val_accuracy available, skipping.\n"
          ]
        },
        {
          "name": "stdout",
          "output_type": "stream",
          "text": [
            "\b\b\b\b\b\b\b\b\b\b\b\b\b\b\b\b\b\b\b\b\b\b\b\b\b\b\b\b\b\b\b\b\b\b\b\b\b\b\b\b\b\b\b\b\b\b\b\b\b\b\b\b\b\b\b\b\b\b\b\b\b\b\b\b\b\b\b\b\b\b\b\b\b\b\b\b\b\b\b\r615/615 [==============================] - 36s 53ms/step - loss: 0.9938 - acc: 0.6320 - val_loss: 0.7514 - val_acc: 0.7226\n",
            "Epoch 2/30\n",
            "613/615 [============================>.] - ETA: 0s - loss: 0.6937 - acc: 0.7491"
          ]
        },
        {
          "name": "stderr",
          "output_type": "stream",
          "text": [
            "WARNING:tensorflow:Can save best model only with val_accuracy available, skipping.\n"
          ]
        },
        {
          "name": "stdout",
          "output_type": "stream",
          "text": [
            "\b\b\b\b\b\b\b\b\b\b\b\b\b\b\b\b\b\b\b\b\b\b\b\b\b\b\b\b\b\b\b\b\b\b\b\b\b\b\b\b\b\b\b\b\b\b\b\b\b\b\b\b\b\b\b\b\b\b\b\b\b\b\b\b\b\b\b\b\b\b\b\b\b\b\b\b\b\b\b\r615/615 [==============================] - 16s 26ms/step - loss: 0.6934 - acc: 0.7493 - val_loss: 0.6665 - val_acc: 0.7518\n",
            "Epoch 3/30\n",
            "615/615 [==============================] - ETA: 0s - loss: 0.6299 - acc: 0.7670"
          ]
        },
        {
          "name": "stderr",
          "output_type": "stream",
          "text": [
            "WARNING:tensorflow:Can save best model only with val_accuracy available, skipping.\n"
          ]
        },
        {
          "name": "stdout",
          "output_type": "stream",
          "text": [
            "\b\b\b\b\b\b\b\b\b\b\b\b\b\b\b\b\b\b\b\b\b\b\b\b\b\b\b\b\b\b\b\b\b\b\b\b\b\b\b\b\b\b\b\b\b\b\b\b\b\b\b\b\b\b\b\b\b\b\b\b\b\b\b\b\b\b\b\b\b\b\b\b\b\b\b\b\b\b\b\r615/615 [==============================] - 14s 23ms/step - loss: 0.6299 - acc: 0.7670 - val_loss: 0.6306 - val_acc: 0.7600\n",
            "Epoch 4/30\n",
            "613/615 [============================>.] - ETA: 0s - loss: 0.5878 - acc: 0.7845"
          ]
        },
        {
          "name": "stderr",
          "output_type": "stream",
          "text": [
            "WARNING:tensorflow:Can save best model only with val_accuracy available, skipping.\n"
          ]
        },
        {
          "name": "stdout",
          "output_type": "stream",
          "text": [
            "\b\b\b\b\b\b\b\b\b\b\b\b\b\b\b\b\b\b\b\b\b\b\b\b\b\b\b\b\b\b\b\b\b\b\b\b\b\b\b\b\b\b\b\b\b\b\b\b\b\b\b\b\b\b\b\b\b\b\b\b\b\b\b\b\b\b\b\b\b\b\b\b\b\b\b\b\b\b\b\r615/615 [==============================] - 16s 26ms/step - loss: 0.5882 - acc: 0.7844 - val_loss: 0.6005 - val_acc: 0.7733\n",
            "Epoch 5/30\n",
            "612/615 [============================>.] - ETA: 0s - loss: 0.5617 - acc: 0.7977"
          ]
        },
        {
          "name": "stderr",
          "output_type": "stream",
          "text": [
            "WARNING:tensorflow:Can save best model only with val_accuracy available, skipping.\n"
          ]
        },
        {
          "name": "stdout",
          "output_type": "stream",
          "text": [
            "\b\b\b\b\b\b\b\b\b\b\b\b\b\b\b\b\b\b\b\b\b\b\b\b\b\b\b\b\b\b\b\b\b\b\b\b\b\b\b\b\b\b\b\b\b\b\b\b\b\b\b\b\b\b\b\b\b\b\b\b\b\b\b\b\b\b\b\b\b\b\b\b\b\b\b\b\b\b\b\r615/615 [==============================] - 14s 22ms/step - loss: 0.5618 - acc: 0.7976 - val_loss: 0.6069 - val_acc: 0.7744\n",
            "Epoch 6/30\n",
            "613/615 [============================>.] - ETA: 0s - loss: 0.5463 - acc: 0.8066"
          ]
        },
        {
          "name": "stderr",
          "output_type": "stream",
          "text": [
            "WARNING:tensorflow:Can save best model only with val_accuracy available, skipping.\n"
          ]
        },
        {
          "name": "stdout",
          "output_type": "stream",
          "text": [
            "\b\b\b\b\b\b\b\b\b\b\b\b\b\b\b\b\b\b\b\b\b\b\b\b\b\b\b\b\b\b\b\b\b\b\b\b\b\b\b\b\b\b\b\b\b\b\b\b\b\b\b\b\b\b\b\b\b\b\b\b\b\b\b\b\b\b\b\b\b\b\b\b\b\b\b\b\b\b\b\r615/615 [==============================] - 16s 26ms/step - loss: 0.5462 - acc: 0.8067 - val_loss: 0.5749 - val_acc: 0.7942\n",
            "Epoch 7/30\n",
            "613/615 [============================>.] - ETA: 0s - loss: 0.5339 - acc: 0.8181"
          ]
        },
        {
          "name": "stderr",
          "output_type": "stream",
          "text": [
            "WARNING:tensorflow:Can save best model only with val_accuracy available, skipping.\n"
          ]
        },
        {
          "name": "stdout",
          "output_type": "stream",
          "text": [
            "\b\b\b\b\b\b\b\b\b\b\b\b\b\b\b\b\b\b\b\b\b\b\b\b\b\b\b\b\b\b\b\b\b\b\b\b\b\b\b\b\b\b\b\b\b\b\b\b\b\b\b\b\b\b\b\b\b\b\b\b\b\b\b\b\b\b\b\b\b\b\b\b\b\b\b\b\b\b\b\r615/615 [==============================] - 14s 23ms/step - loss: 0.5337 - acc: 0.8181 - val_loss: 0.5702 - val_acc: 0.8003\n",
            "Epoch 8/30\n",
            "614/615 [============================>.] - ETA: 0s - loss: 0.5223 - acc: 0.8195"
          ]
        },
        {
          "name": "stderr",
          "output_type": "stream",
          "text": [
            "WARNING:tensorflow:Can save best model only with val_accuracy available, skipping.\n"
          ]
        },
        {
          "name": "stdout",
          "output_type": "stream",
          "text": [
            "\b\b\b\b\b\b\b\b\b\b\b\b\b\b\b\b\b\b\b\b\b\b\b\b\b\b\b\b\b\b\b\b\b\b\b\b\b\b\b\b\b\b\b\b\b\b\b\b\b\b\b\b\b\b\b\b\b\b\b\b\b\b\b\b\b\b\b\b\b\b\b\b\b\b\b\b\b\b\b\r615/615 [==============================] - 18s 29ms/step - loss: 0.5222 - acc: 0.8195 - val_loss: 0.5597 - val_acc: 0.8061\n",
            "Epoch 9/30\n",
            "613/615 [============================>.] - ETA: 0s - loss: 0.5127 - acc: 0.8291"
          ]
        },
        {
          "name": "stderr",
          "output_type": "stream",
          "text": [
            "WARNING:tensorflow:Can save best model only with val_accuracy available, skipping.\n"
          ]
        },
        {
          "name": "stdout",
          "output_type": "stream",
          "text": [
            "\b\b\b\b\b\b\b\b\b\b\b\b\b\b\b\b\b\b\b\b\b\b\b\b\b\b\b\b\b\b\b\b\b\b\b\b\b\b\b\b\b\b\b\b\b\b\b\b\b\b\b\b\b\b\b\b\b\b\b\b\b\b\b\b\b\b\b\b\b\b\b\b\b\b\b\b\b\b\b\r615/615 [==============================] - 14s 22ms/step - loss: 0.5125 - acc: 0.8293 - val_loss: 0.5569 - val_acc: 0.8043\n",
            "Epoch 10/30\n",
            "614/615 [============================>.] - ETA: 0s - loss: 0.5005 - acc: 0.8350"
          ]
        },
        {
          "name": "stderr",
          "output_type": "stream",
          "text": [
            "WARNING:tensorflow:Can save best model only with val_accuracy available, skipping.\n"
          ]
        },
        {
          "name": "stdout",
          "output_type": "stream",
          "text": [
            "\b\b\b\b\b\b\b\b\b\b\b\b\b\b\b\b\b\b\b\b\b\b\b\b\b\b\b\b\b\b\b\b\b\b\b\b\b\b\b\b\b\b\b\b\b\b\b\b\b\b\b\b\b\b\b\b\b\b\b\b\b\b\b\b\b\b\b\b\b\b\b\b\b\b\b\b\b\b\b\r615/615 [==============================] - 14s 23ms/step - loss: 0.5006 - acc: 0.8350 - val_loss: 0.5615 - val_acc: 0.8031\n",
            "Epoch 11/30\n",
            "614/615 [============================>.] - ETA: 0s - loss: 0.4867 - acc: 0.8416"
          ]
        },
        {
          "name": "stderr",
          "output_type": "stream",
          "text": [
            "WARNING:tensorflow:Can save best model only with val_accuracy available, skipping.\n"
          ]
        },
        {
          "name": "stdout",
          "output_type": "stream",
          "text": [
            "\b\b\b\b\b\b\b\b\b\b\b\b\b\b\b\b\b\b\b\b\b\b\b\b\b\b\b\b\b\b\b\b\b\b\b\b\b\b\b\b\b\b\b\b\b\b\b\b\b\b\b\b\b\b\b\b\b\b\b\b\b\b\b\b\b\b\b\b\b\b\b\b\b\b\b\b\b\b\b\r615/615 [==============================] - 16s 26ms/step - loss: 0.4866 - acc: 0.8416 - val_loss: 0.5470 - val_acc: 0.8034\n",
            "Epoch 12/30\n",
            "612/615 [============================>.] - ETA: 0s - loss: 0.4712 - acc: 0.8460"
          ]
        },
        {
          "name": "stderr",
          "output_type": "stream",
          "text": [
            "WARNING:tensorflow:Can save best model only with val_accuracy available, skipping.\n"
          ]
        },
        {
          "name": "stdout",
          "output_type": "stream",
          "text": [
            "\b\b\b\b\b\b\b\b\b\b\b\b\b\b\b\b\b\b\b\b\b\b\b\b\b\b\b\b\b\b\b\b\b\b\b\b\b\b\b\b\b\b\b\b\b\b\b\b\b\b\b\b\b\b\b\b\b\b\b\b\b\b\b\b\b\b\b\b\b\b\b\b\b\b\b\b\b\b\b\r615/615 [==============================] - 14s 23ms/step - loss: 0.4711 - acc: 0.8459 - val_loss: 0.5431 - val_acc: 0.8098\n",
            "Epoch 13/30\n",
            "612/615 [============================>.] - ETA: 0s - loss: 0.4580 - acc: 0.8537"
          ]
        },
        {
          "name": "stderr",
          "output_type": "stream",
          "text": [
            "WARNING:tensorflow:Can save best model only with val_accuracy available, skipping.\n"
          ]
        },
        {
          "name": "stdout",
          "output_type": "stream",
          "text": [
            "\b\b\b\b\b\b\b\b\b\b\b\b\b\b\b\b\b\b\b\b\b\b\b\b\b\b\b\b\b\b\b\b\b\b\b\b\b\b\b\b\b\b\b\b\b\b\b\b\b\b\b\b\b\b\b\b\b\b\b\b\b\b\b\b\b\b\b\b\b\b\b\b\b\b\b\b\b\b\b\r615/615 [==============================] - 16s 26ms/step - loss: 0.4581 - acc: 0.8535 - val_loss: 0.5349 - val_acc: 0.8202\n",
            "Epoch 14/30\n",
            "612/615 [============================>.] - ETA: 0s - loss: 0.4453 - acc: 0.8585"
          ]
        },
        {
          "name": "stderr",
          "output_type": "stream",
          "text": [
            "WARNING:tensorflow:Can save best model only with val_accuracy available, skipping.\n"
          ]
        },
        {
          "name": "stdout",
          "output_type": "stream",
          "text": [
            "\b\b\b\b\b\b\b\b\b\b\b\b\b\b\b\b\b\b\b\b\b\b\b\b\b\b\b\b\b\b\b\b\b\b\b\b\b\b\b\b\b\b\b\b\b\b\b\b\b\b\b\b\b\b\b\b\b\b\b\b\b\b\b\b\b\b\b\b\b\b\b\b\b\b\b\b\b\b\b\r615/615 [==============================] - 14s 23ms/step - loss: 0.4454 - acc: 0.8585 - val_loss: 0.5288 - val_acc: 0.8264\n",
            "Epoch 15/30\n",
            "612/615 [============================>.] - ETA: 0s - loss: 0.4359 - acc: 0.8646"
          ]
        },
        {
          "name": "stderr",
          "output_type": "stream",
          "text": [
            "WARNING:tensorflow:Can save best model only with val_accuracy available, skipping.\n"
          ]
        },
        {
          "name": "stdout",
          "output_type": "stream",
          "text": [
            "\b\b\b\b\b\b\b\b\b\b\b\b\b\b\b\b\b\b\b\b\b\b\b\b\b\b\b\b\b\b\b\b\b\b\b\b\b\b\b\b\b\b\b\b\b\b\b\b\b\b\b\b\b\b\b\b\b\b\b\b\b\b\b\b\b\b\b\b\b\b\b\b\b\b\b\b\b\b\b\r615/615 [==============================] - 17s 28ms/step - loss: 0.4358 - acc: 0.8646 - val_loss: 0.5260 - val_acc: 0.8182\n",
            "Epoch 16/30\n",
            "612/615 [============================>.] - ETA: 0s - loss: 0.4255 - acc: 0.8725"
          ]
        },
        {
          "name": "stderr",
          "output_type": "stream",
          "text": [
            "WARNING:tensorflow:Can save best model only with val_accuracy available, skipping.\n"
          ]
        },
        {
          "name": "stdout",
          "output_type": "stream",
          "text": [
            "\b\b\b\b\b\b\b\b\b\b\b\b\b\b\b\b\b\b\b\b\b\b\b\b\b\b\b\b\b\b\b\b\b\b\b\b\b\b\b\b\b\b\b\b\b\b\b\b\b\b\b\b\b\b\b\b\b\b\b\b\b\b\b\b\b\b\b\b\b\b\b\b\b\b\b\b\b\b\b\r615/615 [==============================] - 15s 24ms/step - loss: 0.4251 - acc: 0.8728 - val_loss: 0.5141 - val_acc: 0.8282\n",
            "Epoch 17/30\n",
            "614/615 [============================>.] - ETA: 0s - loss: 0.4046 - acc: 0.8806"
          ]
        },
        {
          "name": "stderr",
          "output_type": "stream",
          "text": [
            "WARNING:tensorflow:Can save best model only with val_accuracy available, skipping.\n"
          ]
        },
        {
          "name": "stdout",
          "output_type": "stream",
          "text": [
            "\b\b\b\b\b\b\b\b\b\b\b\b\b\b\b\b\b\b\b\b\b\b\b\b\b\b\b\b\b\b\b\b\b\b\b\b\b\b\b\b\b\b\b\b\b\b\b\b\b\b\b\b\b\b\b\b\b\b\b\b\b\b\b\b\b\b\b\b\b\b\b\b\b\b\b\b\b\b\b\r615/615 [==============================] - 16s 26ms/step - loss: 0.4046 - acc: 0.8806 - val_loss: 0.5146 - val_acc: 0.8278\n",
            "Epoch 18/30\n",
            "613/615 [============================>.] - ETA: 0s - loss: 0.3885 - acc: 0.8881"
          ]
        },
        {
          "name": "stderr",
          "output_type": "stream",
          "text": [
            "WARNING:tensorflow:Can save best model only with val_accuracy available, skipping.\n"
          ]
        },
        {
          "name": "stdout",
          "output_type": "stream",
          "text": [
            "\b\b\b\b\b\b\b\b\b\b\b\b\b\b\b\b\b\b\b\b\b\b\b\b\b\b\b\b\b\b\b\b\b\b\b\b\b\b\b\b\b\b\b\b\b\b\b\b\b\b\b\b\b\b\b\b\b\b\b\b\b\b\b\b\b\b\b\b\b\b\b\b\b\b\b\b\b\b\b\r615/615 [==============================] - 14s 23ms/step - loss: 0.3884 - acc: 0.8881 - val_loss: 0.5863 - val_acc: 0.7847\n",
            "Epoch 19/30\n",
            "613/615 [============================>.] - ETA: 0s - loss: 0.3735 - acc: 0.8940"
          ]
        },
        {
          "name": "stderr",
          "output_type": "stream",
          "text": [
            "WARNING:tensorflow:Can save best model only with val_accuracy available, skipping.\n"
          ]
        },
        {
          "name": "stdout",
          "output_type": "stream",
          "text": [
            "\b\b\b\b\b\b\b\b\b\b\b\b\b\b\b\b\b\b\b\b\b\b\b\b\b\b\b\b\b\b\b\b\b\b\b\b\b\b\b\b\b\b\b\b\b\b\b\b\b\b\b\b\b\b\b\b\b\b\b\b\b\b\b\b\b\b\b\b\b\b\b\b\b\b\b\b\b\b\b\r615/615 [==============================] - 14s 23ms/step - loss: 0.3735 - acc: 0.8940 - val_loss: 0.4954 - val_acc: 0.8324\n",
            "Epoch 20/30\n",
            "615/615 [==============================] - ETA: 0s - loss: 0.3611 - acc: 0.8987"
          ]
        },
        {
          "name": "stderr",
          "output_type": "stream",
          "text": [
            "WARNING:tensorflow:Can save best model only with val_accuracy available, skipping.\n"
          ]
        },
        {
          "name": "stdout",
          "output_type": "stream",
          "text": [
            "\b\b\b\b\b\b\b\b\b\b\b\b\b\b\b\b\b\b\b\b\b\b\b\b\b\b\b\b\b\b\b\b\b\b\b\b\b\b\b\b\b\b\b\b\b\b\b\b\b\b\b\b\b\b\b\b\b\b\b\b\b\b\b\b\b\b\b\b\b\b\b\b\b\b\b\b\b\b\b\r615/615 [==============================] - 16s 26ms/step - loss: 0.3611 - acc: 0.8987 - val_loss: 0.4711 - val_acc: 0.8511\n",
            "Epoch 21/30\n",
            "614/615 [============================>.] - ETA: 0s - loss: 0.3507 - acc: 0.9014"
          ]
        },
        {
          "name": "stderr",
          "output_type": "stream",
          "text": [
            "WARNING:tensorflow:Can save best model only with val_accuracy available, skipping.\n"
          ]
        },
        {
          "name": "stdout",
          "output_type": "stream",
          "text": [
            "\b\b\b\b\b\b\b\b\b\b\b\b\b\b\b\b\b\b\b\b\b\b\b\b\b\b\b\b\b\b\b\b\b\b\b\b\b\b\b\b\b\b\b\b\b\b\b\b\b\b\b\b\b\b\b\b\b\b\b\b\b\b\b\b\b\b\b\b\b\b\b\b\b\b\b\b\b\b\b\r615/615 [==============================] - 14s 23ms/step - loss: 0.3506 - acc: 0.9014 - val_loss: 0.5125 - val_acc: 0.8400\n",
            "Epoch 22/30\n",
            "614/615 [============================>.] - ETA: 0s - loss: 0.3400 - acc: 0.9058"
          ]
        },
        {
          "name": "stderr",
          "output_type": "stream",
          "text": [
            "WARNING:tensorflow:Can save best model only with val_accuracy available, skipping.\n"
          ]
        },
        {
          "name": "stdout",
          "output_type": "stream",
          "text": [
            "\b\b\b\b\b\b\b\b\b\b\b\b\b\b\b\b\b\b\b\b\b\b\b\b\b\b\b\b\b\b\b\b\b\b\b\b\b\b\b\b\b\b\b\b\b\b\b\b\b\b\b\b\b\b\b\b\b\b\b\b\b\b\b\b\b\b\b\b\b\b\b\b\b\b\b\b\b\b\b\r615/615 [==============================] - 16s 26ms/step - loss: 0.3399 - acc: 0.9058 - val_loss: 0.4942 - val_acc: 0.8467\n",
            "Epoch 23/30\n",
            "614/615 [============================>.] - ETA: 0s - loss: 0.3322 - acc: 0.9100"
          ]
        },
        {
          "name": "stderr",
          "output_type": "stream",
          "text": [
            "WARNING:tensorflow:Can save best model only with val_accuracy available, skipping.\n"
          ]
        },
        {
          "name": "stdout",
          "output_type": "stream",
          "text": [
            "\b\b\b\b\b\b\b\b\b\b\b\b\b\b\b\b\b\b\b\b\b\b\b\b\b\b\b\b\b\b\b\b\b\b\b\b\b\b\b\b\b\b\b\b\b\b\b\b\b\b\b\b\b\b\b\b\b\b\b\b\b\b\b\b\b\b\b\b\b\b\b\b\b\b\b\b\b\b\b\r615/615 [==============================] - 14s 23ms/step - loss: 0.3321 - acc: 0.9100 - val_loss: 0.4674 - val_acc: 0.8551\n",
            "Epoch 24/30\n",
            "612/615 [============================>.] - ETA: 0s - loss: 0.3221 - acc: 0.9147"
          ]
        },
        {
          "name": "stderr",
          "output_type": "stream",
          "text": [
            "WARNING:tensorflow:Can save best model only with val_accuracy available, skipping.\n"
          ]
        },
        {
          "name": "stdout",
          "output_type": "stream",
          "text": [
            "\b\b\b\b\b\b\b\b\b\b\b\b\b\b\b\b\b\b\b\b\b\b\b\b\b\b\b\b\b\b\b\b\b\b\b\b\b\b\b\b\b\b\b\b\b\b\b\b\b\b\b\b\b\b\b\b\b\b\b\b\b\b\b\b\b\b\b\b\b\b\b\b\b\b\b\b\b\b\b\r615/615 [==============================] - 16s 26ms/step - loss: 0.3220 - acc: 0.9148 - val_loss: 0.4789 - val_acc: 0.8553\n",
            "Epoch 25/30\n",
            "614/615 [============================>.] - ETA: 0s - loss: 0.3137 - acc: 0.9179"
          ]
        },
        {
          "name": "stderr",
          "output_type": "stream",
          "text": [
            "WARNING:tensorflow:Can save best model only with val_accuracy available, skipping.\n"
          ]
        },
        {
          "name": "stdout",
          "output_type": "stream",
          "text": [
            "\b\b\b\b\b\b\b\b\b\b\b\b\b\b\b\b\b\b\b\b\b\b\b\b\b\b\b\b\b\b\b\b\b\b\b\b\b\b\b\b\b\b\b\b\b\b\b\b\b\b\b\b\b\b\b\b\b\b\b\b\b\b\b\b\b\b\b\b\b\b\b\b\b\b\b\b\b\b\b\r615/615 [==============================] - 14s 23ms/step - loss: 0.3136 - acc: 0.9179 - val_loss: 0.4664 - val_acc: 0.8554\n",
            "Epoch 26/30\n",
            "613/615 [============================>.] - ETA: 0s - loss: 0.3045 - acc: 0.9236"
          ]
        },
        {
          "name": "stderr",
          "output_type": "stream",
          "text": [
            "WARNING:tensorflow:Can save best model only with val_accuracy available, skipping.\n"
          ]
        },
        {
          "name": "stdout",
          "output_type": "stream",
          "text": [
            "\b\b\b\b\b\b\b\b\b\b\b\b\b\b\b\b\b\b\b\b\b\b\b\b\b\b\b\b\b\b\b\b\b\b\b\b\b\b\b\b\b\b\b\b\b\b\b\b\b\b\b\b\b\b\b\b\b\b\b\b\b\b\b\b\b\b\b\b\b\b\b\b\b\b\b\b\b\b\b\r615/615 [==============================] - 16s 26ms/step - loss: 0.3045 - acc: 0.9236 - val_loss: 0.4812 - val_acc: 0.8478\n",
            "Epoch 27/30\n",
            "612/615 [============================>.] - ETA: 0s - loss: 0.2978 - acc: 0.9254"
          ]
        },
        {
          "name": "stderr",
          "output_type": "stream",
          "text": [
            "WARNING:tensorflow:Can save best model only with val_accuracy available, skipping.\n"
          ]
        },
        {
          "name": "stdout",
          "output_type": "stream",
          "text": [
            "\b\b\b\b\b\b\b\b\b\b\b\b\b\b\b\b\b\b\b\b\b\b\b\b\b\b\b\b\b\b\b\b\b\b\b\b\b\b\b\b\b\b\b\b\b\b\b\b\b\b\b\b\b\b\b\b\b\b\b\b\b\b\b\b\b\b\b\b\b\b\b\b\b\b\b\b\b\b\b\r615/615 [==============================] - 14s 23ms/step - loss: 0.2975 - acc: 0.9255 - val_loss: 0.4837 - val_acc: 0.8559\n",
            "Epoch 28/30\n",
            "613/615 [============================>.] - ETA: 0s - loss: 0.2895 - acc: 0.9291"
          ]
        },
        {
          "name": "stderr",
          "output_type": "stream",
          "text": [
            "WARNING:tensorflow:Can save best model only with val_accuracy available, skipping.\n"
          ]
        },
        {
          "name": "stdout",
          "output_type": "stream",
          "text": [
            "\b\b\b\b\b\b\b\b\b\b\b\b\b\b\b\b\b\b\b\b\b\b\b\b\b\b\b\b\b\b\b\b\b\b\b\b\b\b\b\b\b\b\b\b\b\b\b\b\b\b\b\b\b\b\b\b\b\b\b\b\b\b\b\b\b\b\b\b\b\b\b\b\b\b\b\b\b\b\b\r615/615 [==============================] - 14s 23ms/step - loss: 0.2893 - acc: 0.9292 - val_loss: 0.6494 - val_acc: 0.7791\n",
            "Epoch 29/30\n",
            "613/615 [============================>.] - ETA: 0s - loss: 0.2834 - acc: 0.9326"
          ]
        },
        {
          "name": "stderr",
          "output_type": "stream",
          "text": [
            "WARNING:tensorflow:Can save best model only with val_accuracy available, skipping.\n"
          ]
        },
        {
          "name": "stdout",
          "output_type": "stream",
          "text": [
            "\b\b\b\b\b\b\b\b\b\b\b\b\b\b\b\b\b\b\b\b\b\b\b\b\b\b\b\b\b\b\b\b\b\b\b\b\b\b\b\b\b\b\b\b\b\b\b\b\b\b\b\b\b\b\b\b\b\b\b\b\b\b\b\b\b\b\b\b\b\b\b\b\b\b\b\b\b\b\b\r615/615 [==============================] - 16s 26ms/step - loss: 0.2833 - acc: 0.9326 - val_loss: 0.4944 - val_acc: 0.8554\n",
            "Epoch 30/30\n",
            "613/615 [============================>.] - ETA: 0s - loss: 0.2756 - acc: 0.9358"
          ]
        },
        {
          "name": "stderr",
          "output_type": "stream",
          "text": [
            "WARNING:tensorflow:Can save best model only with val_accuracy available, skipping.\n"
          ]
        },
        {
          "name": "stdout",
          "output_type": "stream",
          "text": [
            "\b\b\b\b\b\b\b\b\b\b\b\b\b\b\b\b\b\b\b\b\b\b\b\b\b\b\b\b\b\b\b\b\b\b\b\b\b\b\b\b\b\b\b\b\b\b\b\b\b\b\b\b\b\b\b\b\b\b\b\b\b\b\b\b\b\b\b\b\b\b\b\b\b\b\b\b\b\b\b\r615/615 [==============================] - 14s 23ms/step - loss: 0.2755 - acc: 0.9358 - val_loss: 0.5219 - val_acc: 0.8540\n"
          ]
        }
      ],
      "source": [
        "#Try CNN implementation and compare \n",
        "from keras import regularizers\n",
        "model3 = Sequential()\n",
        "model3.add(layers.Embedding(max_words, 40, input_length=max_len))\n",
        "model3.add(layers.Conv1D(20, 6, activation='relu',kernel_regularizer=regularizers.l1_l2(l1=2e-3, l2=2e-3),bias_regularizer=regularizers.l2(2e-3)))\n",
        "model3.add(layers.MaxPooling1D(5))\n",
        "model3.add(layers.Conv1D(20, 6, activation='relu',kernel_regularizer=regularizers.l1_l2(l1=2e-3, l2=2e-3),bias_regularizer=regularizers.l2(2e-3)))\n",
        "model3.add(layers.GlobalMaxPooling1D())\n",
        "model3.add(layers.Dense(3,activation='softmax'))\n",
        "model3.compile(optimizer='rmsprop',loss='categorical_crossentropy',metrics=['acc'])\n",
        "checkpoint3 = ModelCheckpoint(\"best_model3.hdf5\", monitor='val_accuracy', verbose=1,save_best_only=True, mode='auto', period=1,save_weights_only=False)\n",
        "history = model3.fit(X_train, y_train, epochs=30,validation_data=(X_test, y_test),callbacks=[checkpoint3])"
      ]
    },
    {
      "cell_type": "code",
      "execution_count": null,
      "metadata": {
        "colab": {
          "base_uri": "https://localhost:8080/"
        },
        "id": "ZYEGw07g2iFz",
        "outputId": "dd863510-01b4-4ecf-8221-ed76bfcf4c30"
      },
      "outputs": [
        {
          "name": "stdout",
          "output_type": "stream",
          "text": [
            "205/205 - 5s - loss: 1.8788 - accuracy: 0.5137 - 5s/epoch - 23ms/step\n",
            "Model accuracy:  0.5137404799461365\n"
          ]
        }
      ],
      "source": [
        "test_loss, test_acc = best_model.evaluate(X_test, y_test, verbose=2)\n",
        "print('Model accuracy: ',test_acc)"
      ]
    },
    {
      "cell_type": "code",
      "execution_count": null,
      "metadata": {
        "colab": {
          "base_uri": "https://localhost:8080/"
        },
        "id": "ShLw0tux2kja",
        "outputId": "46e7d90c-6474-4774-89b5-f15a92a88bd7"
      },
      "outputs": [
        {
          "name": "stdout",
          "output_type": "stream",
          "text": [
            "205/205 [==============================] - 5s 26ms/step\n"
          ]
        }
      ],
      "source": [
        "predictions = best_model.predict(X_test)"
      ]
    },
    {
      "cell_type": "code",
      "execution_count": null,
      "metadata": {
        "colab": {
          "base_uri": "https://localhost:8080/",
          "height": 937
        },
        "id": "Un7EICp1kNCE",
        "outputId": "c309ee28-4009-45ac-f47f-3df4057c1ff2"
      },
      "outputs": [
        {
          "name": "stderr",
          "output_type": "stream",
          "text": [
            "<ipython-input-47-1464592c3a2e>:8: FutureWarning: Support for multi-dimensional indexing (e.g. `obj[:, None]`) is deprecated and will be removed in a future version.  Convert to a numpy array before indexing instead.\n",
            "  conf_matrix = conf_matrix.astype('float') / conf_matrix.sum(axis=1)[:, np.newaxis]\n"
          ]
        },
        {
          "data": {
            "text/plain": [
              "<matplotlib.axes._subplots.AxesSubplot at 0x7f5e185be700>"
            ]
          },
          "execution_count": 47,
          "metadata": {},
          "output_type": "execute_result"
        },
        {
          "data": {
            "image/png": "[encoded data removed]",
            "text/plain": [
              "<Figure size 1080x1080 with 2 Axes>"
            ]
          },
          "metadata": {},
          "output_type": "display_data"
        }
      ],
      "source": [
        "#confusion matrix\n",
        "from sklearn.metrics import confusion_matrix\n",
        "matrix = confusion_matrix(y_test.argmax(axis=1), np.around(predictions, decimals=0).argmax(axis=1))\n",
        "\n",
        "import seaborn as sns\n",
        "conf_matrix = pd.DataFrame(matrix, index = ['Neutral','Negative','Positive'],columns = ['Neutral','Negative','Positive'])\n",
        "#Normalizing\n",
        "conf_matrix = conf_matrix.astype('float') / conf_matrix.sum(axis=1)[:, np.newaxis]\n",
        "plt.figure(figsize = (15,15))\n",
        "sns.heatmap(conf_matrix, annot=True, annot_kws={\"size\": 15})"
      ]
    },
    {
      "cell_type": "markdown",
      "metadata": {
        "id": "tp8Qd5Hskklo"
      },
      "source": [
        "# Uchicago"
      ]
    },
    {
      "cell_type": "code",
      "execution_count": null,
      "metadata": {
        "id": "xa9hZIeikwzh"
      },
      "outputs": [],
      "source": [
        "#convert sentiments to numerical value\n",
        "labels = np.array(uchicago['sentiment'])\n",
        "y = []\n",
        "for i in range(len(labels)):\n",
        "    if labels[i] == 'neutral':\n",
        "        y.append(0)\n",
        "    if labels[i] == 'negative':\n",
        "        y.append(1)\n",
        "    if labels[i] == 'positive':\n",
        "        y.append(2)\n",
        "\n",
        "y = np.array(y)\n",
        "labels = tf.keras.utils.to_categorical(y, 3, dtype=\"float32\")\n",
        "del y"
      ]
    },
    {
      "cell_type": "code",
      "execution_count": null,
      "metadata": {
        "colab": {
          "base_uri": "https://localhost:8080/"
        },
        "id": "Cb5WQK-skw9f",
        "outputId": "7feb899e-76f7-4ba8-c19f-d9d08674c576"
      },
      "outputs": [
        {
          "name": "stdout",
          "output_type": "stream",
          "text": [
            "[[   0    0    0 ...    0 1140  537]\n",
            " [   0    0    0 ...    1  652   67]\n",
            " [   0    0    0 ...    0 1916  695]\n",
            " ...\n",
            " [   0    0    0 ...    0    0   95]\n",
            " [   0    0    0 ... 3131  733  301]\n",
            " [   0    0    0 ...  261   16  266]]\n",
            "19157 6386 19157 6386\n"
          ]
        }
      ],
      "source": [
        "#splitting\n",
        "max_words = 5000\n",
        "max_len = 200\n",
        "\n",
        "tokenizer = Tokenizer(num_words = max_words)\n",
        "tokenizer.fit_on_texts(uchicago[\"text\"])\n",
        "sequences = tokenizer.texts_to_sequences(uchicago[\"text\"])\n",
        "reddit_posts = pad_sequences(sequences, maxlen=max_len)\n",
        "print(reddit_posts)\n",
        "\n",
        "X_train, X_test, y_train, y_test = train_test_split(reddit_posts, labels, random_state = 0)\n",
        "print (len(X_train),len(X_test),len(y_train),len(y_test)) "
      ]
    },
    {
      "cell_type": "code",
      "execution_count": null,
      "metadata": {
        "colab": {
          "base_uri": "https://localhost:8080/"
        },
        "id": "spiD0INckxGX",
        "outputId": "fb648fbc-b8d2-4a72-d6da-ea9eb775b3f7"
      },
      "outputs": [
        {
          "name": "stderr",
          "output_type": "stream",
          "text": [
            "WARNING:tensorflow:`period` argument is deprecated. Please use `save_freq` to specify the frequency in number of batches seen.\n"
          ]
        },
        {
          "name": "stdout",
          "output_type": "stream",
          "text": [
            "Epoch 1/30\n",
            "599/599 [==============================] - ETA: 0s - loss: 0.7392 - accuracy: 0.6852\n",
            "Epoch 1: val_accuracy improved from -inf to 0.76605, saving model to best_model2.hdf5\n",
            "599/599 [==============================] - 97s 155ms/step - loss: 0.7392 - accuracy: 0.6852 - val_loss: 0.5927 - val_accuracy: 0.7661\n",
            "Epoch 2/30\n",
            "599/599 [==============================] - ETA: 0s - loss: 0.5221 - accuracy: 0.7879\n",
            "Epoch 2: val_accuracy improved from 0.76605 to 0.81647, saving model to best_model2.hdf5\n",
            "599/599 [==============================] - 90s 150ms/step - loss: 0.5221 - accuracy: 0.7879 - val_loss: 0.4739 - val_accuracy: 0.8165\n",
            "Epoch 3/30\n",
            "599/599 [==============================] - ETA: 0s - loss: 0.4360 - accuracy: 0.8302\n",
            "Epoch 3: val_accuracy improved from 0.81647 to 0.83934, saving model to best_model2.hdf5\n",
            "599/599 [==============================] - 91s 152ms/step - loss: 0.4360 - accuracy: 0.8302 - val_loss: 0.4207 - val_accuracy: 0.8393\n",
            "Epoch 4/30\n",
            "599/599 [==============================] - ETA: 0s - loss: 0.3914 - accuracy: 0.8516\n",
            "Epoch 4: val_accuracy improved from 0.83934 to 0.84998, saving model to best_model2.hdf5\n",
            "599/599 [==============================] - 90s 151ms/step - loss: 0.3914 - accuracy: 0.8516 - val_loss: 0.4037 - val_accuracy: 0.8500\n",
            "Epoch 5/30\n",
            "599/599 [==============================] - ETA: 0s - loss: 0.3605 - accuracy: 0.8663\n",
            "Epoch 5: val_accuracy improved from 0.84998 to 0.86627, saving model to best_model2.hdf5\n",
            "599/599 [==============================] - 89s 148ms/step - loss: 0.3605 - accuracy: 0.8663 - val_loss: 0.3674 - val_accuracy: 0.8663\n",
            "Epoch 6/30\n",
            "599/599 [==============================] - ETA: 0s - loss: 0.3395 - accuracy: 0.8744\n",
            "Epoch 6: val_accuracy improved from 0.86627 to 0.86752, saving model to best_model2.hdf5\n",
            "599/599 [==============================] - 91s 151ms/step - loss: 0.3395 - accuracy: 0.8744 - val_loss: 0.3600 - val_accuracy: 0.8675\n",
            "Epoch 7/30\n",
            "599/599 [==============================] - ETA: 0s - loss: 0.3220 - accuracy: 0.8824\n",
            "Epoch 7: val_accuracy improved from 0.86752 to 0.86862, saving model to best_model2.hdf5\n",
            "599/599 [==============================] - 88s 148ms/step - loss: 0.3220 - accuracy: 0.8824 - val_loss: 0.3708 - val_accuracy: 0.8686\n",
            "Epoch 8/30\n",
            "599/599 [==============================] - ETA: 0s - loss: 0.3044 - accuracy: 0.8899\n",
            "Epoch 8: val_accuracy improved from 0.86862 to 0.87974, saving model to best_model2.hdf5\n",
            "599/599 [==============================] - 91s 152ms/step - loss: 0.3044 - accuracy: 0.8899 - val_loss: 0.3357 - val_accuracy: 0.8797\n",
            "Epoch 9/30\n",
            "599/599 [==============================] - ETA: 0s - loss: 0.2917 - accuracy: 0.8954\n",
            "Epoch 9: val_accuracy improved from 0.87974 to 0.88021, saving model to best_model2.hdf5\n",
            "599/599 [==============================] - 91s 151ms/step - loss: 0.2917 - accuracy: 0.8954 - val_loss: 0.3440 - val_accuracy: 0.8802\n",
            "Epoch 10/30\n",
            "599/599 [==============================] - ETA: 0s - loss: 0.2856 - accuracy: 0.8984\n",
            "Epoch 10: val_accuracy did not improve from 0.88021\n",
            "599/599 [==============================] - 89s 148ms/step - loss: 0.2856 - accuracy: 0.8984 - val_loss: 0.3433 - val_accuracy: 0.8791\n",
            "Epoch 11/30\n",
            "599/599 [==============================] - ETA: 0s - loss: 0.2755 - accuracy: 0.9024\n",
            "Epoch 11: val_accuracy improved from 0.88021 to 0.88757, saving model to best_model2.hdf5\n",
            "599/599 [==============================] - 91s 152ms/step - loss: 0.2755 - accuracy: 0.9024 - val_loss: 0.3257 - val_accuracy: 0.8876\n",
            "Epoch 12/30\n",
            "599/599 [==============================] - ETA: 0s - loss: 0.2705 - accuracy: 0.9067\n",
            "Epoch 12: val_accuracy did not improve from 0.88757\n",
            "599/599 [==============================] - 89s 148ms/step - loss: 0.2705 - accuracy: 0.9067 - val_loss: 0.3324 - val_accuracy: 0.8837\n",
            "Epoch 13/30\n",
            "599/599 [==============================] - ETA: 0s - loss: 0.2673 - accuracy: 0.9068\n",
            "Epoch 13: val_accuracy did not improve from 0.88757\n",
            "599/599 [==============================] - 91s 152ms/step - loss: 0.2673 - accuracy: 0.9068 - val_loss: 0.3437 - val_accuracy: 0.8837\n",
            "Epoch 14/30\n",
            "599/599 [==============================] - ETA: 0s - loss: 0.2647 - accuracy: 0.9079\n",
            "Epoch 14: val_accuracy did not improve from 0.88757\n",
            "599/599 [==============================] - 89s 148ms/step - loss: 0.2647 - accuracy: 0.9079 - val_loss: 0.3279 - val_accuracy: 0.8862\n",
            "Epoch 15/30\n",
            "599/599 [==============================] - ETA: 0s - loss: 0.2624 - accuracy: 0.9096\n",
            "Epoch 15: val_accuracy did not improve from 0.88757\n",
            "599/599 [==============================] - 90s 151ms/step - loss: 0.2624 - accuracy: 0.9096 - val_loss: 0.3269 - val_accuracy: 0.8876\n",
            "Epoch 16/30\n",
            "599/599 [==============================] - ETA: 0s - loss: 0.2596 - accuracy: 0.9100\n",
            "Epoch 16: val_accuracy improved from 0.88757 to 0.89054, saving model to best_model2.hdf5\n",
            "599/599 [==============================] - 91s 151ms/step - loss: 0.2596 - accuracy: 0.9100 - val_loss: 0.3236 - val_accuracy: 0.8905\n",
            "Epoch 17/30\n",
            "599/599 [==============================] - ETA: 0s - loss: 0.2560 - accuracy: 0.9119\n",
            "Epoch 17: val_accuracy did not improve from 0.89054\n",
            "599/599 [==============================] - 88s 147ms/step - loss: 0.2560 - accuracy: 0.9119 - val_loss: 0.3446 - val_accuracy: 0.8860\n",
            "Epoch 18/30\n",
            "599/599 [==============================] - ETA: 0s - loss: 0.2516 - accuracy: 0.9133\n",
            "Epoch 18: val_accuracy did not improve from 0.89054\n",
            "599/599 [==============================] - 90s 151ms/step - loss: 0.2516 - accuracy: 0.9133 - val_loss: 0.3477 - val_accuracy: 0.8868\n",
            "Epoch 19/30\n",
            "599/599 [==============================] - ETA: 0s - loss: 0.2552 - accuracy: 0.9119\n",
            "Epoch 19: val_accuracy did not improve from 0.89054\n",
            "599/599 [==============================] - 90s 150ms/step - loss: 0.2552 - accuracy: 0.9119 - val_loss: 0.3341 - val_accuracy: 0.8899\n",
            "Epoch 20/30\n",
            "599/599 [==============================] - ETA: 0s - loss: 0.2477 - accuracy: 0.9151\n",
            "Epoch 20: val_accuracy improved from 0.89054 to 0.89179, saving model to best_model2.hdf5\n",
            "599/599 [==============================] - 89s 149ms/step - loss: 0.2477 - accuracy: 0.9151 - val_loss: 0.3301 - val_accuracy: 0.8918\n",
            "Epoch 21/30\n",
            "599/599 [==============================] - ETA: 0s - loss: 0.2451 - accuracy: 0.9163\n",
            "Epoch 21: val_accuracy improved from 0.89179 to 0.89242, saving model to best_model2.hdf5\n",
            "599/599 [==============================] - 89s 149ms/step - loss: 0.2451 - accuracy: 0.9163 - val_loss: 0.3307 - val_accuracy: 0.8924\n",
            "Epoch 22/30\n",
            "599/599 [==============================] - ETA: 0s - loss: 0.2419 - accuracy: 0.9151\n",
            "Epoch 22: val_accuracy improved from 0.89242 to 0.89289, saving model to best_model2.hdf5\n",
            "599/599 [==============================] - 90s 150ms/step - loss: 0.2419 - accuracy: 0.9151 - val_loss: 0.3298 - val_accuracy: 0.8929\n",
            "Epoch 23/30\n",
            "599/599 [==============================] - ETA: 0s - loss: 0.2416 - accuracy: 0.9182\n",
            "Epoch 23: val_accuracy did not improve from 0.89289\n",
            "599/599 [==============================] - 93s 156ms/step - loss: 0.2416 - accuracy: 0.9182 - val_loss: 0.3497 - val_accuracy: 0.8888\n",
            "Epoch 24/30\n",
            "599/599 [==============================] - ETA: 0s - loss: 0.2377 - accuracy: 0.9184\n",
            "Epoch 24: val_accuracy did not improve from 0.89289\n",
            "599/599 [==============================] - 89s 148ms/step - loss: 0.2377 - accuracy: 0.9184 - val_loss: 0.3404 - val_accuracy: 0.8916\n",
            "Epoch 25/30\n",
            "599/599 [==============================] - ETA: 0s - loss: 0.2341 - accuracy: 0.9203\n",
            "Epoch 25: val_accuracy did not improve from 0.89289\n",
            "599/599 [==============================] - 89s 149ms/step - loss: 0.2341 - accuracy: 0.9203 - val_loss: 0.3310 - val_accuracy: 0.8920\n",
            "Epoch 26/30\n",
            "599/599 [==============================] - ETA: 0s - loss: 0.2398 - accuracy: 0.9176\n",
            "Epoch 26: val_accuracy did not improve from 0.89289\n",
            "599/599 [==============================] - 91s 153ms/step - loss: 0.2398 - accuracy: 0.9176 - val_loss: 0.3350 - val_accuracy: 0.8910\n",
            "Epoch 27/30\n",
            "599/599 [==============================] - ETA: 0s - loss: 0.2375 - accuracy: 0.9186\n",
            "Epoch 27: val_accuracy did not improve from 0.89289\n",
            "599/599 [==============================] - 88s 147ms/step - loss: 0.2375 - accuracy: 0.9186 - val_loss: 0.3317 - val_accuracy: 0.8902\n",
            "Epoch 28/30\n",
            "599/599 [==============================] - ETA: 0s - loss: 0.2339 - accuracy: 0.9185\n",
            "Epoch 28: val_accuracy did not improve from 0.89289\n",
            "599/599 [==============================] - 88s 147ms/step - loss: 0.2339 - accuracy: 0.9185 - val_loss: 0.3319 - val_accuracy: 0.8915\n",
            "Epoch 29/30\n",
            "599/599 [==============================] - ETA: 0s - loss: 0.2341 - accuracy: 0.9210\n",
            "Epoch 29: val_accuracy did not improve from 0.89289\n",
            "599/599 [==============================] - 93s 156ms/step - loss: 0.2341 - accuracy: 0.9210 - val_loss: 0.3381 - val_accuracy: 0.8901\n",
            "Epoch 30/30\n",
            "599/599 [==============================] - ETA: 0s - loss: 0.2303 - accuracy: 0.9215\n",
            "Epoch 30: val_accuracy did not improve from 0.89289\n",
            "599/599 [==============================] - 91s 152ms/step - loss: 0.2303 - accuracy: 0.9215 - val_loss: 0.3387 - val_accuracy: 0.8901\n"
          ]
        }
      ],
      "source": [
        "#ltsm model\n",
        "model = Sequential()\n",
        "model.add(layers.Embedding(max_words, 40, input_length=max_len))\n",
        "model.add(layers.Bidirectional(layers.LSTM(20,dropout=0.6)))\n",
        "model.add(layers.Dense(3,activation='softmax'))\n",
        "model.compile(optimizer='rmsprop',loss='categorical_crossentropy', metrics=['accuracy'])\n",
        "#checkpoints enure the best metric is saved during training\n",
        "checkpoint2 = ModelCheckpoint(\"best_model2.hdf5\", monitor='val_accuracy', verbose=1,save_best_only=True, mode='auto', period=1,save_weights_only=False)\n",
        "history = model.fit(X_train, y_train, epochs=30,validation_data=(X_test, y_test),callbacks=[checkpoint2])"
      ]
    },
    {
      "cell_type": "code",
      "execution_count": null,
      "metadata": {
        "colab": {
          "base_uri": "https://localhost:8080/"
        },
        "id": "lGOZYpPlkxQi",
        "outputId": "415822ec-2e98-4ac5-e448-c8bea1a88975"
      },
      "outputs": [
        {
          "name": "stderr",
          "output_type": "stream",
          "text": [
            "WARNING:tensorflow:`period` argument is deprecated. Please use `save_freq` to specify the frequency in number of batches seen.\n"
          ]
        },
        {
          "name": "stdout",
          "output_type": "stream",
          "text": [
            "Epoch 1/30\n",
            "598/599 [============================>.] - ETA: 0s - loss: 0.9843 - acc: 0.6349"
          ]
        },
        {
          "name": "stderr",
          "output_type": "stream",
          "text": [
            "WARNING:tensorflow:Can save best model only with val_accuracy available, skipping.\n"
          ]
        },
        {
          "name": "stdout",
          "output_type": "stream",
          "text": [
            "\b\b\b\b\b\b\b\b\b\b\b\b\b\b\b\b\b\b\b\b\b\b\b\b\b\b\b\b\b\b\b\b\b\b\b\b\b\b\b\b\b\b\b\b\b\b\b\b\b\b\b\b\b\b\b\b\b\b\b\b\b\b\b\b\b\b\b\b\b\b\b\b\b\b\b\b\b\b\b\r599/599 [==============================] - 15s 24ms/step - loss: 0.9841 - acc: 0.6350 - val_loss: 0.7623 - val_acc: 0.7261\n",
            "Epoch 2/30\n",
            "598/599 [============================>.] - ETA: 0s - loss: 0.6652 - acc: 0.7547"
          ]
        },
        {
          "name": "stderr",
          "output_type": "stream",
          "text": [
            "WARNING:tensorflow:Can save best model only with val_accuracy available, skipping.\n"
          ]
        },
        {
          "name": "stdout",
          "output_type": "stream",
          "text": [
            "\b\b\b\b\b\b\b\b\b\b\b\b\b\b\b\b\b\b\b\b\b\b\b\b\b\b\b\b\b\b\b\b\b\b\b\b\b\b\b\b\b\b\b\b\b\b\b\b\b\b\b\b\b\b\b\b\b\b\b\b\b\b\b\b\b\b\b\b\b\b\b\b\b\b\b\b\b\b\b\r599/599 [==============================] - 16s 27ms/step - loss: 0.6652 - acc: 0.7548 - val_loss: 0.6178 - val_acc: 0.7733\n",
            "Epoch 3/30\n",
            "598/599 [============================>.] - ETA: 0s - loss: 0.5922 - acc: 0.7828"
          ]
        },
        {
          "name": "stderr",
          "output_type": "stream",
          "text": [
            "WARNING:tensorflow:Can save best model only with val_accuracy available, skipping.\n"
          ]
        },
        {
          "name": "stdout",
          "output_type": "stream",
          "text": [
            "\b\b\b\b\b\b\b\b\b\b\b\b\b\b\b\b\b\b\b\b\b\b\b\b\b\b\b\b\b\b\b\b\b\b\b\b\b\b\b\b\b\b\b\b\b\b\b\b\b\b\b\b\b\b\b\b\b\b\b\b\b\b\b\b\b\b\b\b\b\b\b\b\b\b\b\b\b\b\b\r599/599 [==============================] - 16s 26ms/step - loss: 0.5922 - acc: 0.7827 - val_loss: 0.5843 - val_acc: 0.7944\n",
            "Epoch 4/30\n",
            "599/599 [==============================] - ETA: 0s - loss: 0.5598 - acc: 0.7984"
          ]
        },
        {
          "name": "stderr",
          "output_type": "stream",
          "text": [
            "WARNING:tensorflow:Can save best model only with val_accuracy available, skipping.\n"
          ]
        },
        {
          "name": "stdout",
          "output_type": "stream",
          "text": [
            "\b\b\b\b\b\b\b\b\b\b\b\b\b\b\b\b\b\b\b\b\b\b\b\b\b\b\b\b\b\b\b\b\b\b\b\b\b\b\b\b\b\b\b\b\b\b\b\b\b\b\b\b\b\b\b\b\b\b\b\b\b\b\b\b\b\b\b\b\b\b\b\b\b\b\b\b\b\b\b\r599/599 [==============================] - 14s 23ms/step - loss: 0.5598 - acc: 0.7984 - val_loss: 0.5694 - val_acc: 0.7967\n",
            "Epoch 5/30\n",
            "599/599 [==============================] - ETA: 0s - loss: 0.5411 - acc: 0.8086"
          ]
        },
        {
          "name": "stderr",
          "output_type": "stream",
          "text": [
            "WARNING:tensorflow:Can save best model only with val_accuracy available, skipping.\n"
          ]
        },
        {
          "name": "stdout",
          "output_type": "stream",
          "text": [
            "\b\b\b\b\b\b\b\b\b\b\b\b\b\b\b\b\b\b\b\b\b\b\b\b\b\b\b\b\b\b\b\b\b\b\b\b\b\b\b\b\b\b\b\b\b\b\b\b\b\b\b\b\b\b\b\b\b\b\b\b\b\b\b\b\b\b\b\b\b\b\b\b\b\b\b\b\b\b\b\r599/599 [==============================] - 14s 23ms/step - loss: 0.5411 - acc: 0.8086 - val_loss: 0.5621 - val_acc: 0.7861\n",
            "Epoch 6/30\n",
            "599/599 [==============================] - ETA: 0s - loss: 0.5265 - acc: 0.8133"
          ]
        },
        {
          "name": "stderr",
          "output_type": "stream",
          "text": [
            "WARNING:tensorflow:Can save best model only with val_accuracy available, skipping.\n"
          ]
        },
        {
          "name": "stdout",
          "output_type": "stream",
          "text": [
            "\b\b\b\b\b\b\b\b\b\b\b\b\b\b\b\b\b\b\b\b\b\b\b\b\b\b\b\b\b\b\b\b\b\b\b\b\b\b\b\b\b\b\b\b\b\b\b\b\b\b\b\b\b\b\b\b\b\b\b\b\b\b\b\b\b\b\b\b\b\b\b\b\b\b\b\b\b\b\b\r599/599 [==============================] - 14s 23ms/step - loss: 0.5265 - acc: 0.8133 - val_loss: 0.5445 - val_acc: 0.8000\n",
            "Epoch 7/30\n",
            "598/599 [============================>.] - ETA: 0s - loss: 0.5154 - acc: 0.8187"
          ]
        },
        {
          "name": "stderr",
          "output_type": "stream",
          "text": [
            "WARNING:tensorflow:Can save best model only with val_accuracy available, skipping.\n"
          ]
        },
        {
          "name": "stdout",
          "output_type": "stream",
          "text": [
            "\b\b\b\b\b\b\b\b\b\b\b\b\b\b\b\b\b\b\b\b\b\b\b\b\b\b\b\b\b\b\b\b\b\b\b\b\b\b\b\b\b\b\b\b\b\b\b\b\b\b\b\b\b\b\b\b\b\b\b\b\b\b\b\b\b\b\b\b\b\b\b\b\b\b\b\b\b\b\b\r599/599 [==============================] - 16s 26ms/step - loss: 0.5155 - acc: 0.8186 - val_loss: 0.5450 - val_acc: 0.7939\n",
            "Epoch 8/30\n",
            "597/599 [============================>.] - ETA: 0s - loss: 0.5047 - acc: 0.8226"
          ]
        },
        {
          "name": "stderr",
          "output_type": "stream",
          "text": [
            "WARNING:tensorflow:Can save best model only with val_accuracy available, skipping.\n"
          ]
        },
        {
          "name": "stdout",
          "output_type": "stream",
          "text": [
            "\b\b\b\b\b\b\b\b\b\b\b\b\b\b\b\b\b\b\b\b\b\b\b\b\b\b\b\b\b\b\b\b\b\b\b\b\b\b\b\b\b\b\b\b\b\b\b\b\b\b\b\b\b\b\b\b\b\b\b\b\b\b\b\b\b\b\b\b\b\b\b\b\b\b\b\b\b\b\b\r599/599 [==============================] - 16s 26ms/step - loss: 0.5047 - acc: 0.8225 - val_loss: 0.5398 - val_acc: 0.7982\n",
            "Epoch 9/30\n",
            "597/599 [============================>.] - ETA: 0s - loss: 0.4940 - acc: 0.8263"
          ]
        },
        {
          "name": "stderr",
          "output_type": "stream",
          "text": [
            "WARNING:tensorflow:Can save best model only with val_accuracy available, skipping.\n"
          ]
        },
        {
          "name": "stdout",
          "output_type": "stream",
          "text": [
            "\b\b\b\b\b\b\b\b\b\b\b\b\b\b\b\b\b\b\b\b\b\b\b\b\b\b\b\b\b\b\b\b\b\b\b\b\b\b\b\b\b\b\b\b\b\b\b\b\b\b\b\b\b\b\b\b\b\b\b\b\b\b\b\b\b\b\b\b\b\b\b\b\b\b\b\b\b\b\b\r599/599 [==============================] - 14s 24ms/step - loss: 0.4937 - acc: 0.8264 - val_loss: 0.5317 - val_acc: 0.8107\n",
            "Epoch 10/30\n",
            "598/599 [============================>.] - ETA: 0s - loss: 0.4810 - acc: 0.8311"
          ]
        },
        {
          "name": "stderr",
          "output_type": "stream",
          "text": [
            "WARNING:tensorflow:Can save best model only with val_accuracy available, skipping.\n"
          ]
        },
        {
          "name": "stdout",
          "output_type": "stream",
          "text": [
            "\b\b\b\b\b\b\b\b\b\b\b\b\b\b\b\b\b\b\b\b\b\b\b\b\b\b\b\b\b\b\b\b\b\b\b\b\b\b\b\b\b\b\b\b\b\b\b\b\b\b\b\b\b\b\b\b\b\b\b\b\b\b\b\b\b\b\b\b\b\b\b\b\b\b\b\b\b\b\b\r599/599 [==============================] - 14s 23ms/step - loss: 0.4810 - acc: 0.8311 - val_loss: 0.5317 - val_acc: 0.8127\n",
            "Epoch 11/30\n",
            "598/599 [============================>.] - ETA: 0s - loss: 0.4675 - acc: 0.8381"
          ]
        },
        {
          "name": "stderr",
          "output_type": "stream",
          "text": [
            "WARNING:tensorflow:Can save best model only with val_accuracy available, skipping.\n"
          ]
        },
        {
          "name": "stdout",
          "output_type": "stream",
          "text": [
            "\b\b\b\b\b\b\b\b\b\b\b\b\b\b\b\b\b\b\b\b\b\b\b\b\b\b\b\b\b\b\b\b\b\b\b\b\b\b\b\b\b\b\b\b\b\b\b\b\b\b\b\b\b\b\b\b\b\b\b\b\b\b\b\b\b\b\b\b\b\b\b\b\b\b\b\b\b\b\b\r599/599 [==============================] - 16s 27ms/step - loss: 0.4675 - acc: 0.8380 - val_loss: 0.5271 - val_acc: 0.8085\n",
            "Epoch 12/30\n",
            "599/599 [==============================] - ETA: 0s - loss: 0.4538 - acc: 0.8463"
          ]
        },
        {
          "name": "stderr",
          "output_type": "stream",
          "text": [
            "WARNING:tensorflow:Can save best model only with val_accuracy available, skipping.\n"
          ]
        },
        {
          "name": "stdout",
          "output_type": "stream",
          "text": [
            "\b\b\b\b\b\b\b\b\b\b\b\b\b\b\b\b\b\b\b\b\b\b\b\b\b\b\b\b\b\b\b\b\b\b\b\b\b\b\b\b\b\b\b\b\b\b\b\b\b\b\b\b\b\b\b\b\b\b\b\b\b\b\b\b\b\b\b\b\b\b\b\b\b\b\b\b\b\b\b\r599/599 [==============================] - 16s 27ms/step - loss: 0.4538 - acc: 0.8463 - val_loss: 0.5264 - val_acc: 0.8138\n",
            "Epoch 13/30\n",
            "599/599 [==============================] - ETA: 0s - loss: 0.4408 - acc: 0.8515"
          ]
        },
        {
          "name": "stderr",
          "output_type": "stream",
          "text": [
            "WARNING:tensorflow:Can save best model only with val_accuracy available, skipping.\n"
          ]
        },
        {
          "name": "stdout",
          "output_type": "stream",
          "text": [
            "\b\b\b\b\b\b\b\b\b\b\b\b\b\b\b\b\b\b\b\b\b\b\b\b\b\b\b\b\b\b\b\b\b\b\b\b\b\b\b\b\b\b\b\b\b\b\b\b\b\b\b\b\b\b\b\b\b\b\b\b\b\b\b\b\b\b\b\b\b\b\b\b\b\b\b\b\b\b\b\r599/599 [==============================] - 14s 24ms/step - loss: 0.4408 - acc: 0.8515 - val_loss: 0.5170 - val_acc: 0.8141\n",
            "Epoch 14/30\n",
            "598/599 [============================>.] - ETA: 0s - loss: 0.4287 - acc: 0.8569"
          ]
        },
        {
          "name": "stderr",
          "output_type": "stream",
          "text": [
            "WARNING:tensorflow:Can save best model only with val_accuracy available, skipping.\n"
          ]
        },
        {
          "name": "stdout",
          "output_type": "stream",
          "text": [
            "\b\b\b\b\b\b\b\b\b\b\b\b\b\b\b\b\b\b\b\b\b\b\b\b\b\b\b\b\b\b\b\b\b\b\b\b\b\b\b\b\b\b\b\b\b\b\b\b\b\b\b\b\b\b\b\b\b\b\b\b\b\b\b\b\b\b\b\b\b\b\b\b\b\b\b\b\b\b\b\r599/599 [==============================] - 14s 24ms/step - loss: 0.4287 - acc: 0.8569 - val_loss: 0.4991 - val_acc: 0.8263\n",
            "Epoch 15/30\n",
            "598/599 [============================>.] - ETA: 0s - loss: 0.4174 - acc: 0.8623"
          ]
        },
        {
          "name": "stderr",
          "output_type": "stream",
          "text": [
            "WARNING:tensorflow:Can save best model only with val_accuracy available, skipping.\n"
          ]
        },
        {
          "name": "stdout",
          "output_type": "stream",
          "text": [
            "\b\b\b\b\b\b\b\b\b\b\b\b\b\b\b\b\b\b\b\b\b\b\b\b\b\b\b\b\b\b\b\b\b\b\b\b\b\b\b\b\b\b\b\b\b\b\b\b\b\b\b\b\b\b\b\b\b\b\b\b\b\b\b\b\b\b\b\b\b\b\b\b\b\b\b\b\b\b\b\r599/599 [==============================] - 14s 24ms/step - loss: 0.4172 - acc: 0.8624 - val_loss: 0.5062 - val_acc: 0.8232\n",
            "Epoch 16/30\n",
            "597/599 [============================>.] - ETA: 0s - loss: 0.4101 - acc: 0.8660"
          ]
        },
        {
          "name": "stderr",
          "output_type": "stream",
          "text": [
            "WARNING:tensorflow:Can save best model only with val_accuracy available, skipping.\n"
          ]
        },
        {
          "name": "stdout",
          "output_type": "stream",
          "text": [
            "\b\b\b\b\b\b\b\b\b\b\b\b\b\b\b\b\b\b\b\b\b\b\b\b\b\b\b\b\b\b\b\b\b\b\b\b\b\b\b\b\b\b\b\b\b\b\b\b\b\b\b\b\b\b\b\b\b\b\b\b\b\b\b\b\b\b\b\b\b\b\b\b\b\b\b\b\b\b\b\r599/599 [==============================] - 16s 27ms/step - loss: 0.4099 - acc: 0.8660 - val_loss: 0.5008 - val_acc: 0.8284\n",
            "Epoch 17/30\n",
            "597/599 [============================>.] - ETA: 0s - loss: 0.3997 - acc: 0.8681"
          ]
        },
        {
          "name": "stderr",
          "output_type": "stream",
          "text": [
            "WARNING:tensorflow:Can save best model only with val_accuracy available, skipping.\n"
          ]
        },
        {
          "name": "stdout",
          "output_type": "stream",
          "text": [
            "\b\b\b\b\b\b\b\b\b\b\b\b\b\b\b\b\b\b\b\b\b\b\b\b\b\b\b\b\b\b\b\b\b\b\b\b\b\b\b\b\b\b\b\b\b\b\b\b\b\b\b\b\b\b\b\b\b\b\b\b\b\b\b\b\b\b\b\b\b\b\b\b\b\b\b\b\b\b\b\r599/599 [==============================] - 16s 27ms/step - loss: 0.3998 - acc: 0.8680 - val_loss: 0.5288 - val_acc: 0.8122\n",
            "Epoch 18/30\n",
            "599/599 [==============================] - ETA: 0s - loss: 0.3934 - acc: 0.8724"
          ]
        },
        {
          "name": "stderr",
          "output_type": "stream",
          "text": [
            "WARNING:tensorflow:Can save best model only with val_accuracy available, skipping.\n"
          ]
        },
        {
          "name": "stdout",
          "output_type": "stream",
          "text": [
            "\b\b\b\b\b\b\b\b\b\b\b\b\b\b\b\b\b\b\b\b\b\b\b\b\b\b\b\b\b\b\b\b\b\b\b\b\b\b\b\b\b\b\b\b\b\b\b\b\b\b\b\b\b\b\b\b\b\b\b\b\b\b\b\b\b\b\b\b\b\b\b\b\b\b\b\b\b\b\b\r599/599 [==============================] - 14s 24ms/step - loss: 0.3934 - acc: 0.8724 - val_loss: 0.5086 - val_acc: 0.8271\n",
            "Epoch 19/30\n",
            "599/599 [==============================] - ETA: 0s - loss: 0.3838 - acc: 0.8781"
          ]
        },
        {
          "name": "stderr",
          "output_type": "stream",
          "text": [
            "WARNING:tensorflow:Can save best model only with val_accuracy available, skipping.\n"
          ]
        },
        {
          "name": "stdout",
          "output_type": "stream",
          "text": [
            "\b\b\b\b\b\b\b\b\b\b\b\b\b\b\b\b\b\b\b\b\b\b\b\b\b\b\b\b\b\b\b\b\b\b\b\b\b\b\b\b\b\b\b\b\b\b\b\b\b\b\b\b\b\b\b\b\b\b\b\b\b\b\b\b\b\b\b\b\b\b\b\b\b\b\b\b\b\b\b\r599/599 [==============================] - 14s 23ms/step - loss: 0.3838 - acc: 0.8781 - val_loss: 0.5107 - val_acc: 0.8229\n",
            "Epoch 20/30\n",
            "599/599 [==============================] - ETA: 0s - loss: 0.3748 - acc: 0.8825"
          ]
        },
        {
          "name": "stderr",
          "output_type": "stream",
          "text": [
            "WARNING:tensorflow:Can save best model only with val_accuracy available, skipping.\n"
          ]
        },
        {
          "name": "stdout",
          "output_type": "stream",
          "text": [
            "\b\b\b\b\b\b\b\b\b\b\b\b\b\b\b\b\b\b\b\b\b\b\b\b\b\b\b\b\b\b\b\b\b\b\b\b\b\b\b\b\b\b\b\b\b\b\b\b\b\b\b\b\b\b\b\b\b\b\b\b\b\b\b\b\b\b\b\b\b\b\b\b\b\b\b\b\b\b\b\r599/599 [==============================] - 16s 27ms/step - loss: 0.3748 - acc: 0.8825 - val_loss: 0.5023 - val_acc: 0.8292\n",
            "Epoch 21/30\n",
            "598/599 [============================>.] - ETA: 0s - loss: 0.3665 - acc: 0.8855"
          ]
        },
        {
          "name": "stderr",
          "output_type": "stream",
          "text": [
            "WARNING:tensorflow:Can save best model only with val_accuracy available, skipping.\n"
          ]
        },
        {
          "name": "stdout",
          "output_type": "stream",
          "text": [
            "\b\b\b\b\b\b\b\b\b\b\b\b\b\b\b\b\b\b\b\b\b\b\b\b\b\b\b\b\b\b\b\b\b\b\b\b\b\b\b\b\b\b\b\b\b\b\b\b\b\b\b\b\b\b\b\b\b\b\b\b\b\b\b\b\b\b\b\b\b\b\b\b\b\b\b\b\b\b\b\r599/599 [==============================] - 16s 27ms/step - loss: 0.3670 - acc: 0.8855 - val_loss: 0.5113 - val_acc: 0.8257\n",
            "Epoch 22/30\n",
            "599/599 [==============================] - ETA: 0s - loss: 0.3596 - acc: 0.8894"
          ]
        },
        {
          "name": "stderr",
          "output_type": "stream",
          "text": [
            "WARNING:tensorflow:Can save best model only with val_accuracy available, skipping.\n"
          ]
        },
        {
          "name": "stdout",
          "output_type": "stream",
          "text": [
            "\b\b\b\b\b\b\b\b\b\b\b\b\b\b\b\b\b\b\b\b\b\b\b\b\b\b\b\b\b\b\b\b\b\b\b\b\b\b\b\b\b\b\b\b\b\b\b\b\b\b\b\b\b\b\b\b\b\b\b\b\b\b\b\b\b\b\b\b\b\b\b\b\b\b\b\b\b\b\b\r599/599 [==============================] - 14s 24ms/step - loss: 0.3596 - acc: 0.8894 - val_loss: 0.5633 - val_acc: 0.8047\n",
            "Epoch 23/30\n",
            "597/599 [============================>.] - ETA: 0s - loss: 0.3513 - acc: 0.8947"
          ]
        },
        {
          "name": "stderr",
          "output_type": "stream",
          "text": [
            "WARNING:tensorflow:Can save best model only with val_accuracy available, skipping.\n"
          ]
        },
        {
          "name": "stdout",
          "output_type": "stream",
          "text": [
            "\b\b\b\b\b\b\b\b\b\b\b\b\b\b\b\b\b\b\b\b\b\b\b\b\b\b\b\b\b\b\b\b\b\b\b\b\b\b\b\b\b\b\b\b\b\b\b\b\b\b\b\b\b\b\b\b\b\b\b\b\b\b\b\b\b\b\b\b\b\b\b\b\b\b\b\b\b\b\b\r599/599 [==============================] - 14s 24ms/step - loss: 0.3515 - acc: 0.8946 - val_loss: 0.5219 - val_acc: 0.8310\n",
            "Epoch 24/30\n",
            "599/599 [==============================] - ETA: 0s - loss: 0.3435 - acc: 0.8993"
          ]
        },
        {
          "name": "stderr",
          "output_type": "stream",
          "text": [
            "WARNING:tensorflow:Can save best model only with val_accuracy available, skipping.\n"
          ]
        },
        {
          "name": "stdout",
          "output_type": "stream",
          "text": [
            "\b\b\b\b\b\b\b\b\b\b\b\b\b\b\b\b\b\b\b\b\b\b\b\b\b\b\b\b\b\b\b\b\b\b\b\b\b\b\b\b\b\b\b\b\b\b\b\b\b\b\b\b\b\b\b\b\b\b\b\b\b\b\b\b\b\b\b\b\b\b\b\b\b\b\b\b\b\b\b\r599/599 [==============================] - 16s 26ms/step - loss: 0.3435 - acc: 0.8993 - val_loss: 0.5115 - val_acc: 0.8313\n",
            "Epoch 25/30\n",
            "598/599 [============================>.] - ETA: 0s - loss: 0.3363 - acc: 0.9042"
          ]
        },
        {
          "name": "stderr",
          "output_type": "stream",
          "text": [
            "WARNING:tensorflow:Can save best model only with val_accuracy available, skipping.\n"
          ]
        },
        {
          "name": "stdout",
          "output_type": "stream",
          "text": [
            "\b\b\b\b\b\b\b\b\b\b\b\b\b\b\b\b\b\b\b\b\b\b\b\b\b\b\b\b\b\b\b\b\b\b\b\b\b\b\b\b\b\b\b\b\b\b\b\b\b\b\b\b\b\b\b\b\b\b\b\b\b\b\b\b\b\b\b\b\b\b\b\b\b\b\b\b\b\b\b\r599/599 [==============================] - 15s 25ms/step - loss: 0.3362 - acc: 0.9042 - val_loss: 0.5181 - val_acc: 0.8257\n",
            "Epoch 26/30\n",
            "597/599 [============================>.] - ETA: 0s - loss: 0.3269 - acc: 0.9085"
          ]
        },
        {
          "name": "stderr",
          "output_type": "stream",
          "text": [
            "WARNING:tensorflow:Can save best model only with val_accuracy available, skipping.\n"
          ]
        },
        {
          "name": "stdout",
          "output_type": "stream",
          "text": [
            "\b\b\b\b\b\b\b\b\b\b\b\b\b\b\b\b\b\b\b\b\b\b\b\b\b\b\b\b\b\b\b\b\b\b\b\b\b\b\b\b\b\b\b\b\b\b\b\b\b\b\b\b\b\b\b\b\b\b\b\b\b\b\b\b\b\b\b\b\b\b\b\b\b\b\b\b\b\b\b\r599/599 [==============================] - 16s 27ms/step - loss: 0.3272 - acc: 0.9083 - val_loss: 0.5350 - val_acc: 0.8298\n",
            "Epoch 27/30\n",
            "599/599 [==============================] - ETA: 0s - loss: 0.3212 - acc: 0.9124"
          ]
        },
        {
          "name": "stderr",
          "output_type": "stream",
          "text": [
            "WARNING:tensorflow:Can save best model only with val_accuracy available, skipping.\n"
          ]
        },
        {
          "name": "stdout",
          "output_type": "stream",
          "text": [
            "\b\b\b\b\b\b\b\b\b\b\b\b\b\b\b\b\b\b\b\b\b\b\b\b\b\b\b\b\b\b\b\b\b\b\b\b\b\b\b\b\b\b\b\b\b\b\b\b\b\b\b\b\b\b\b\b\b\b\b\b\b\b\b\b\b\b\b\b\b\b\b\b\b\b\b\b\b\b\b\r599/599 [==============================] - 14s 24ms/step - loss: 0.3212 - acc: 0.9124 - val_loss: 0.5215 - val_acc: 0.8382\n",
            "Epoch 28/30\n",
            "597/599 [============================>.] - ETA: 0s - loss: 0.3122 - acc: 0.9186"
          ]
        },
        {
          "name": "stderr",
          "output_type": "stream",
          "text": [
            "WARNING:tensorflow:Can save best model only with val_accuracy available, skipping.\n"
          ]
        },
        {
          "name": "stdout",
          "output_type": "stream",
          "text": [
            "\b\b\b\b\b\b\b\b\b\b\b\b\b\b\b\b\b\b\b\b\b\b\b\b\b\b\b\b\b\b\b\b\b\b\b\b\b\b\b\b\b\b\b\b\b\b\b\b\b\b\b\b\b\b\b\b\b\b\b\b\b\b\b\b\b\b\b\b\b\b\b\b\b\b\b\b\b\b\b\r599/599 [==============================] - 15s 25ms/step - loss: 0.3120 - acc: 0.9187 - val_loss: 0.5238 - val_acc: 0.8335\n",
            "Epoch 29/30\n",
            "599/599 [==============================] - ETA: 0s - loss: 0.3043 - acc: 0.9216"
          ]
        },
        {
          "name": "stderr",
          "output_type": "stream",
          "text": [
            "WARNING:tensorflow:Can save best model only with val_accuracy available, skipping.\n"
          ]
        },
        {
          "name": "stdout",
          "output_type": "stream",
          "text": [
            "\b\b\b\b\b\b\b\b\b\b\b\b\b\b\b\b\b\b\b\b\b\b\b\b\b\b\b\b\b\b\b\b\b\b\b\b\b\b\b\b\b\b\b\b\b\b\b\b\b\b\b\b\b\b\b\b\b\b\b\b\b\b\b\b\b\b\b\b\b\b\b\b\b\b\b\b\b\b\b\r599/599 [==============================] - 16s 27ms/step - loss: 0.3043 - acc: 0.9216 - val_loss: 0.5784 - val_acc: 0.8050\n",
            "Epoch 30/30\n",
            "597/599 [============================>.] - ETA: 0s - loss: 0.2969 - acc: 0.9268"
          ]
        },
        {
          "name": "stderr",
          "output_type": "stream",
          "text": [
            "WARNING:tensorflow:Can save best model only with val_accuracy available, skipping.\n"
          ]
        },
        {
          "name": "stdout",
          "output_type": "stream",
          "text": [
            "\b\b\b\b\b\b\b\b\b\b\b\b\b\b\b\b\b\b\b\b\b\b\b\b\b\b\b\b\b\b\b\b\b\b\b\b\b\b\b\b\b\b\b\b\b\b\b\b\b\b\b\b\b\b\b\b\b\b\b\b\b\b\b\b\b\b\b\b\b\b\b\b\b\b\b\b\b\b\b\r599/599 [==============================] - 16s 27ms/step - loss: 0.2974 - acc: 0.9268 - val_loss: 0.5263 - val_acc: 0.8395\n"
          ]
        }
      ],
      "source": [
        "#Try CNN implementation and compare \n",
        "from keras import regularizers\n",
        "model3 = Sequential()\n",
        "model3.add(layers.Embedding(max_words, 40, input_length=max_len))\n",
        "model3.add(layers.Conv1D(20, 6, activation='relu',kernel_regularizer=regularizers.l1_l2(l1=2e-3, l2=2e-3),bias_regularizer=regularizers.l2(2e-3)))\n",
        "model3.add(layers.MaxPooling1D(5))\n",
        "model3.add(layers.Conv1D(20, 6, activation='relu',kernel_regularizer=regularizers.l1_l2(l1=2e-3, l2=2e-3),bias_regularizer=regularizers.l2(2e-3)))\n",
        "model3.add(layers.GlobalMaxPooling1D())\n",
        "model3.add(layers.Dense(3,activation='softmax'))\n",
        "model3.compile(optimizer='rmsprop',loss='categorical_crossentropy',metrics=['acc'])\n",
        "checkpoint3 = ModelCheckpoint(\"best_model3.hdf5\", monitor='val_accuracy', verbose=1,save_best_only=True, mode='auto', period=1,save_weights_only=False)\n",
        "history = model3.fit(X_train, y_train, epochs=30,validation_data=(X_test, y_test),callbacks=[checkpoint3])"
      ]
    },
    {
      "cell_type": "code",
      "execution_count": null,
      "metadata": {
        "colab": {
          "base_uri": "https://localhost:8080/"
        },
        "id": "T_ZOrHjq2nD2",
        "outputId": "00e5f7e1-60ed-48a3-df09-a2c2d2399aee"
      },
      "outputs": [
        {
          "name": "stdout",
          "output_type": "stream",
          "text": [
            "200/200 - 7s - loss: 1.8498 - accuracy: 0.5326 - 7s/epoch - 34ms/step\n",
            "Model accuracy:  0.5325712561607361\n"
          ]
        }
      ],
      "source": [
        "test_loss, test_acc = best_model.evaluate(X_test, y_test, verbose=2)\n",
        "print('Model accuracy: ',test_acc)"
      ]
    },
    {
      "cell_type": "code",
      "execution_count": null,
      "metadata": {
        "colab": {
          "base_uri": "https://localhost:8080/"
        },
        "id": "dILPs2qn2nUV",
        "outputId": "4e84f723-1007-4bc4-9b10-2b402f042c23"
      },
      "outputs": [
        {
          "name": "stdout",
          "output_type": "stream",
          "text": [
            "200/200 [==============================] - 5s 26ms/step\n"
          ]
        }
      ],
      "source": [
        "predictions = best_model.predict(X_test)"
      ]
    },
    {
      "cell_type": "code",
      "execution_count": null,
      "metadata": {
        "colab": {
          "base_uri": "https://localhost:8080/",
          "height": 937
        },
        "id": "Q9KQ9JIAlEdD",
        "outputId": "f872a083-6063-4a75-c650-e56c10ebd40d"
      },
      "outputs": [
        {
          "name": "stderr",
          "output_type": "stream",
          "text": [
            "<ipython-input-54-1464592c3a2e>:8: FutureWarning: Support for multi-dimensional indexing (e.g. `obj[:, None]`) is deprecated and will be removed in a future version.  Convert to a numpy array before indexing instead.\n",
            "  conf_matrix = conf_matrix.astype('float') / conf_matrix.sum(axis=1)[:, np.newaxis]\n"
          ]
        },
        {
          "data": {
            "text/plain": [
              "<matplotlib.axes._subplots.AxesSubplot at 0x7f5e167c4d60>"
            ]
          },
          "execution_count": 54,
          "metadata": {},
          "output_type": "execute_result"
        },
        {
          "data": {
            "image/png": "[encoded data removed]",
            "text/plain": [
              "<Figure size 1080x1080 with 2 Axes>"
            ]
          },
          "metadata": {},
          "output_type": "display_data"
        }
      ],
      "source": [
        "#confusion matrix\n",
        "from sklearn.metrics import confusion_matrix\n",
        "matrix = confusion_matrix(y_test.argmax(axis=1), np.around(predictions, decimals=0).argmax(axis=1))\n",
        "\n",
        "import seaborn as sns\n",
        "conf_matrix = pd.DataFrame(matrix, index = ['Neutral','Negative','Positive'],columns = ['Neutral','Negative','Positive'])\n",
        "#Normalizing\n",
        "conf_matrix = conf_matrix.astype('float') / conf_matrix.sum(axis=1)[:, np.newaxis]\n",
        "plt.figure(figsize = (15,15))\n",
        "sns.heatmap(conf_matrix, annot=True, annot_kws={\"size\": 15})"
      ]
    },
    {
      "cell_type": "markdown",
      "metadata": {
        "id": "qOuLwf3xlIF9"
      },
      "source": [
        "# **Cluster 2 - Princeton, Brown, Dartmouth**"
      ]
    },
    {
      "cell_type": "code",
      "execution_count": null,
      "metadata": {
        "id": "3xw1lLcAlEwa"
      },
      "outputs": [],
      "source": [
        "princeton = posts.loc[posts['subreddit_name'] == 'princeton']\n",
        "brown = posts.loc[posts['subreddit_name'] == 'brownu']\n",
        "dartmouth = posts.loc[posts['subreddit_name'] == 'dartmouth']"
      ]
    },
    {
      "cell_type": "markdown",
      "metadata": {
        "id": "ZkbGB1JllmXV"
      },
      "source": [
        "# Princeton"
      ]
    },
    {
      "cell_type": "code",
      "execution_count": null,
      "metadata": {
        "id": "fHmg3xqBlv9r"
      },
      "outputs": [],
      "source": [
        "#convert sentiments to numerical value\n",
        "labels = np.array(princeton['sentiment'])\n",
        "y = []\n",
        "for i in range(len(labels)):\n",
        "    if labels[i] == 'neutral':\n",
        "        y.append(0)\n",
        "    if labels[i] == 'negative':\n",
        "        y.append(1)\n",
        "    if labels[i] == 'positive':\n",
        "        y.append(2)\n",
        "\n",
        "y = np.array(y)\n",
        "labels = tf.keras.utils.to_categorical(y, 3, dtype=\"float32\")\n",
        "del y"
      ]
    },
    {
      "cell_type": "code",
      "execution_count": null,
      "metadata": {
        "colab": {
          "base_uri": "https://localhost:8080/"
        },
        "id": "bcaANsBklwJ_",
        "outputId": "3d0ff8a4-d567-4a3a-fb61-28f050169060"
      },
      "outputs": [
        {
          "name": "stdout",
          "output_type": "stream",
          "text": [
            "[[   0    0    0 ...  136  213 1269]\n",
            " [   0    0    0 ...  293  890   52]\n",
            " [   0    0    0 ...  195 1570  864]\n",
            " ...\n",
            " [   0    0    0 ...  210   75  916]\n",
            " [   0    0    0 ...   88  679   37]\n",
            " [   0    0    0 ...  790  760   40]]\n",
            "6619 2207 6619 2207\n"
          ]
        }
      ],
      "source": [
        "#splitting\n",
        "max_words = 5000\n",
        "max_len = 200\n",
        "\n",
        "tokenizer = Tokenizer(num_words = max_words)\n",
        "tokenizer.fit_on_texts(princeton[\"text\"])\n",
        "sequences = tokenizer.texts_to_sequences(princeton[\"text\"])\n",
        "reddit_posts = pad_sequences(sequences, maxlen=max_len)\n",
        "print(reddit_posts)\n",
        "\n",
        "X_train, X_test, y_train, y_test = train_test_split(reddit_posts, labels, random_state = 0)\n",
        "print (len(X_train),len(X_test),len(y_train),len(y_test)) "
      ]
    },
    {
      "cell_type": "code",
      "execution_count": null,
      "metadata": {
        "colab": {
          "background_save": true,
          "base_uri": "https://localhost:8080/"
        },
        "id": "IIXacKc4lwR7",
        "outputId": "3d596bff-9a66-4e04-e1c5-24b1ad3e3ad5"
      },
      "outputs": [
        {
          "name": "stderr",
          "output_type": "stream",
          "text": [
            "WARNING:tensorflow:`period` argument is deprecated. Please use `save_freq` to specify the frequency in number of batches seen.\n"
          ]
        },
        {
          "name": "stdout",
          "output_type": "stream",
          "text": [
            "Epoch 1/30\n",
            "207/207 [==============================] - ETA: 0s - loss: 0.7989 - accuracy: 0.6771\n",
            "Epoch 1: val_accuracy improved from -inf to 0.72859, saving model to best_model2.hdf5\n",
            "207/207 [==============================] - 36s 148ms/step - loss: 0.7989 - accuracy: 0.6771 - val_loss: 0.7017 - val_accuracy: 0.7286\n",
            "Epoch 2/30\n",
            "207/207 [==============================] - ETA: 0s - loss: 0.6431 - accuracy: 0.7362\n",
            "Epoch 2: val_accuracy improved from 0.72859 to 0.76756, saving model to best_model2.hdf5\n",
            "207/207 [==============================] - 34s 166ms/step - loss: 0.6431 - accuracy: 0.7362 - val_loss: 0.5853 - val_accuracy: 0.7676\n",
            "Epoch 3/30\n",
            "207/207 [==============================] - ETA: 0s - loss: 0.5494 - accuracy: 0.7846\n",
            "Epoch 3: val_accuracy improved from 0.76756 to 0.77889, saving model to best_model2.hdf5\n",
            "207/207 [==============================] - 30s 143ms/step - loss: 0.5494 - accuracy: 0.7846 - val_loss: 0.5518 - val_accuracy: 0.7789\n",
            "Epoch 4/30\n",
            "207/207 [==============================] - ETA: 0s - loss: 0.4813 - accuracy: 0.8099\n",
            "Epoch 4: val_accuracy improved from 0.77889 to 0.79882, saving model to best_model2.hdf5\n",
            "207/207 [==============================] - 32s 152ms/step - loss: 0.4813 - accuracy: 0.8099 - val_loss: 0.5195 - val_accuracy: 0.7988\n",
            "Epoch 5/30\n",
            "207/207 [==============================] - ETA: 0s - loss: 0.4415 - accuracy: 0.8249\n",
            "Epoch 5: val_accuracy improved from 0.79882 to 0.80199, saving model to best_model2.hdf5\n",
            "207/207 [==============================] - 31s 152ms/step - loss: 0.4415 - accuracy: 0.8249 - val_loss: 0.5293 - val_accuracy: 0.8020\n",
            "Epoch 6/30\n",
            "207/207 [==============================] - ETA: 0s - loss: 0.3981 - accuracy: 0.8489\n",
            "Epoch 6: val_accuracy improved from 0.80199 to 0.80970, saving model to best_model2.hdf5\n",
            "207/207 [==============================] - 31s 149ms/step - loss: 0.3981 - accuracy: 0.8489 - val_loss: 0.5550 - val_accuracy: 0.8097\n",
            "Epoch 7/30\n",
            "207/207 [==============================] - ETA: 0s - loss: 0.3605 - accuracy: 0.8606\n",
            "Epoch 7: val_accuracy improved from 0.80970 to 0.82465, saving model to best_model2.hdf5\n",
            "207/207 [==============================] - 31s 148ms/step - loss: 0.3605 - accuracy: 0.8606 - val_loss: 0.4842 - val_accuracy: 0.8246\n",
            "Epoch 8/30\n",
            "207/207 [==============================] - ETA: 0s - loss: 0.3329 - accuracy: 0.8769\n",
            "Epoch 8: val_accuracy improved from 0.82465 to 0.82782, saving model to best_model2.hdf5\n",
            "207/207 [==============================] - 29s 139ms/step - loss: 0.3329 - accuracy: 0.8769 - val_loss: 0.4829 - val_accuracy: 0.8278\n",
            "Epoch 9/30\n",
            "207/207 [==============================] - ETA: 0s - loss: 0.3144 - accuracy: 0.8859\n",
            "Epoch 9: val_accuracy improved from 0.82782 to 0.83054, saving model to best_model2.hdf5\n",
            "207/207 [==============================] - 32s 156ms/step - loss: 0.3144 - accuracy: 0.8859 - val_loss: 0.4810 - val_accuracy: 0.8305\n",
            "Epoch 10/30\n",
            "207/207 [==============================] - ETA: 0s - loss: 0.2917 - accuracy: 0.8956\n",
            "Epoch 10: val_accuracy improved from 0.83054 to 0.83326, saving model to best_model2.hdf5\n",
            "207/207 [==============================] - 30s 146ms/step - loss: 0.2917 - accuracy: 0.8956 - val_loss: 0.4733 - val_accuracy: 0.8333\n",
            "Epoch 11/30\n",
            "207/207 [==============================] - ETA: 0s - loss: 0.2758 - accuracy: 0.9027\n",
            "Epoch 11: val_accuracy did not improve from 0.83326\n",
            "207/207 [==============================] - 30s 147ms/step - loss: 0.2758 - accuracy: 0.9027 - val_loss: 0.5108 - val_accuracy: 0.8233\n",
            "Epoch 12/30\n",
            "207/207 [==============================] - ETA: 0s - loss: 0.2579 - accuracy: 0.9059\n",
            "Epoch 12: val_accuracy did not improve from 0.83326\n",
            "207/207 [==============================] - 29s 139ms/step - loss: 0.2579 - accuracy: 0.9059 - val_loss: 0.5049 - val_accuracy: 0.8324\n",
            "Epoch 13/30\n",
            "207/207 [==============================] - ETA: 0s - loss: 0.2491 - accuracy: 0.9124\n",
            "Epoch 13: val_accuracy did not improve from 0.83326\n",
            "207/207 [==============================] - 30s 147ms/step - loss: 0.2491 - accuracy: 0.9124 - val_loss: 0.4709 - val_accuracy: 0.8296\n",
            "Epoch 14/30\n",
            "207/207 [==============================] - ETA: 0s - loss: 0.2327 - accuracy: 0.9189\n",
            "Epoch 14: val_accuracy improved from 0.83326 to 0.83734, saving model to best_model2.hdf5\n",
            "207/207 [==============================] - 30s 146ms/step - loss: 0.2327 - accuracy: 0.9189 - val_loss: 0.5051 - val_accuracy: 0.8373\n",
            "Epoch 15/30\n",
            "207/207 [==============================] - ETA: 0s - loss: 0.2278 - accuracy: 0.9201\n",
            "Epoch 15: val_accuracy did not improve from 0.83734\n",
            "207/207 [==============================] - 30s 147ms/step - loss: 0.2278 - accuracy: 0.9201 - val_loss: 0.5126 - val_accuracy: 0.8373\n",
            "Epoch 16/30\n",
            "207/207 [==============================] - ETA: 0s - loss: 0.2260 - accuracy: 0.9220\n",
            "Epoch 16: val_accuracy improved from 0.83734 to 0.84413, saving model to best_model2.hdf5\n",
            "207/207 [==============================] - 30s 147ms/step - loss: 0.2260 - accuracy: 0.9220 - val_loss: 0.4945 - val_accuracy: 0.8441\n",
            "Epoch 17/30\n",
            "207/207 [==============================] - ETA: 0s - loss: 0.2185 - accuracy: 0.9254\n",
            "Epoch 17: val_accuracy did not improve from 0.84413\n",
            "207/207 [==============================] - 29s 139ms/step - loss: 0.2185 - accuracy: 0.9254 - val_loss: 0.5432 - val_accuracy: 0.8287\n",
            "Epoch 18/30\n",
            "207/207 [==============================] - ETA: 0s - loss: 0.2060 - accuracy: 0.9314\n",
            "Epoch 18: val_accuracy improved from 0.84413 to 0.84549, saving model to best_model2.hdf5\n",
            "207/207 [==============================] - 32s 153ms/step - loss: 0.2060 - accuracy: 0.9314 - val_loss: 0.4922 - val_accuracy: 0.8455\n",
            "Epoch 19/30\n",
            "207/207 [==============================] - ETA: 0s - loss: 0.2104 - accuracy: 0.9287\n",
            "Epoch 19: val_accuracy did not improve from 0.84549\n",
            "207/207 [==============================] - 31s 147ms/step - loss: 0.2104 - accuracy: 0.9287 - val_loss: 0.5084 - val_accuracy: 0.8419\n",
            "Epoch 20/30\n",
            "207/207 [==============================] - ETA: 0s - loss: 0.2013 - accuracy: 0.9316\n",
            "Epoch 20: val_accuracy did not improve from 0.84549\n",
            "207/207 [==============================] - 30s 147ms/step - loss: 0.2013 - accuracy: 0.9316 - val_loss: 0.5260 - val_accuracy: 0.8382\n",
            "Epoch 21/30\n",
            "207/207 [==============================] - ETA: 0s - loss: 0.1957 - accuracy: 0.9328\n",
            "Epoch 21: val_accuracy did not improve from 0.84549\n",
            "207/207 [==============================] - 29s 140ms/step - loss: 0.1957 - accuracy: 0.9328 - val_loss: 0.4947 - val_accuracy: 0.8437\n",
            "Epoch 22/30\n",
            "207/207 [==============================] - ETA: 0s - loss: 0.1848 - accuracy: 0.9384\n",
            "Epoch 22: val_accuracy did not improve from 0.84549\n",
            "207/207 [==============================] - 30s 147ms/step - loss: 0.1848 - accuracy: 0.9384 - val_loss: 0.5164 - val_accuracy: 0.8437\n",
            "Epoch 23/30\n",
            "207/207 [==============================] - ETA: 0s - loss: 0.1898 - accuracy: 0.9355\n",
            "Epoch 23: val_accuracy did not improve from 0.84549\n",
            "207/207 [==============================] - 30s 147ms/step - loss: 0.1898 - accuracy: 0.9355 - val_loss: 0.5427 - val_accuracy: 0.8364\n",
            "Epoch 24/30\n",
            "207/207 [==============================] - ETA: 0s - loss: 0.1796 - accuracy: 0.9397\n",
            "Epoch 24: val_accuracy improved from 0.84549 to 0.85048, saving model to best_model2.hdf5\n",
            "207/207 [==============================] - 30s 146ms/step - loss: 0.1796 - accuracy: 0.9397 - val_loss: 0.5270 - val_accuracy: 0.8505\n",
            "Epoch 25/30\n",
            "207/207 [==============================] - ETA: 0s - loss: 0.1806 - accuracy: 0.9368\n",
            "Epoch 25: val_accuracy did not improve from 0.85048\n",
            "207/207 [==============================] - 30s 147ms/step - loss: 0.1806 - accuracy: 0.9368 - val_loss: 0.4955 - val_accuracy: 0.8405\n",
            "Epoch 26/30\n",
            "207/207 [==============================] - ETA: 0s - loss: 0.1772 - accuracy: 0.9382\n",
            "Epoch 26: val_accuracy did not improve from 0.85048\n",
            "207/207 [==============================] - 29s 139ms/step - loss: 0.1772 - accuracy: 0.9382 - val_loss: 0.4955 - val_accuracy: 0.8437\n",
            "Epoch 27/30\n",
            "207/207 [==============================] - ETA: 0s - loss: 0.1701 - accuracy: 0.9430\n",
            "Epoch 27: val_accuracy did not improve from 0.85048\n",
            "207/207 [==============================] - 32s 156ms/step - loss: 0.1701 - accuracy: 0.9430 - val_loss: 0.4977 - val_accuracy: 0.8496\n",
            "Epoch 28/30\n",
            "207/207 [==============================] - ETA: 0s - loss: 0.1674 - accuracy: 0.9432\n",
            "Epoch 28: val_accuracy did not improve from 0.85048\n",
            "207/207 [==============================] - 30s 147ms/step - loss: 0.1674 - accuracy: 0.9432 - val_loss: 0.5857 - val_accuracy: 0.8469\n",
            "Epoch 29/30\n",
            "207/207 [==============================] - ETA: 0s - loss: 0.1685 - accuracy: 0.9423\n",
            "Epoch 29: val_accuracy did not improve from 0.85048\n",
            "207/207 [==============================] - 30s 146ms/step - loss: 0.1685 - accuracy: 0.9423 - val_loss: 0.5285 - val_accuracy: 0.8500\n",
            "Epoch 30/30\n",
            "207/207 [==============================] - ETA: 0s - loss: 0.1702 - accuracy: 0.9415\n",
            "Epoch 30: val_accuracy did not improve from 0.85048\n",
            "207/207 [==============================] - 29s 138ms/step - loss: 0.1702 - accuracy: 0.9415 - val_loss: 0.4728 - val_accuracy: 0.8473\n"
          ]
        }
      ],
      "source": [
        "#ltsm model\n",
        "model = Sequential()\n",
        "model.add(layers.Embedding(max_words, 40, input_length=max_len))\n",
        "model.add(layers.Bidirectional(layers.LSTM(20,dropout=0.6)))\n",
        "model.add(layers.Dense(3,activation='softmax'))\n",
        "model.compile(optimizer='rmsprop',loss='categorical_crossentropy', metrics=['accuracy'])\n",
        "#checkpoints enure the best metric is saved during training\n",
        "checkpoint2 = ModelCheckpoint(\"best_model2.hdf5\", monitor='val_accuracy', verbose=1,save_best_only=True, mode='auto', period=1,save_weights_only=False)\n",
        "history = model.fit(X_train, y_train, epochs=30,validation_data=(X_test, y_test),callbacks=[checkpoint2])"
      ]
    },
    {
      "cell_type": "code",
      "execution_count": null,
      "metadata": {
        "colab": {
          "background_save": true
        },
        "id": "9eovRhpFlwZM",
        "outputId": "e41b5dd0-c6f0-4b70-dc8c-365ad3dcd856"
      },
      "outputs": [
        {
          "name": "stderr",
          "output_type": "stream",
          "text": [
            "WARNING:tensorflow:`period` argument is deprecated. Please use `save_freq` to specify the frequency in number of batches seen.\n"
          ]
        },
        {
          "name": "stdout",
          "output_type": "stream",
          "text": [
            "Epoch 1/30\n",
            "205/207 [============================>.] - ETA: 0s - loss: 1.1610 - acc: 0.6506"
          ]
        },
        {
          "name": "stderr",
          "output_type": "stream",
          "text": [
            "WARNING:tensorflow:Can save best model only with val_accuracy available, skipping.\n"
          ]
        },
        {
          "name": "stdout",
          "output_type": "stream",
          "text": [
            "207/207 [==============================] - 6s 25ms/step - loss: 1.1570 - acc: 0.6516 - val_loss: 0.8799 - val_acc: 0.6661\n",
            "Epoch 2/30\n",
            "207/207 [==============================] - ETA: 0s - loss: 0.8106 - acc: 0.6876"
          ]
        },
        {
          "name": "stderr",
          "output_type": "stream",
          "text": [
            "WARNING:tensorflow:Can save best model only with val_accuracy available, skipping.\n"
          ]
        },
        {
          "name": "stdout",
          "output_type": "stream",
          "text": [
            "207/207 [==============================] - 5s 24ms/step - loss: 0.8106 - acc: 0.6876 - val_loss: 0.6991 - val_acc: 0.7802\n",
            "Epoch 3/30\n",
            "206/207 [============================>.] - ETA: 0s - loss: 0.6432 - acc: 0.7928"
          ]
        },
        {
          "name": "stderr",
          "output_type": "stream",
          "text": [
            "WARNING:tensorflow:Can save best model only with val_accuracy available, skipping.\n"
          ]
        },
        {
          "name": "stdout",
          "output_type": "stream",
          "text": [
            "207/207 [==============================] - 6s 28ms/step - loss: 0.6432 - acc: 0.7924 - val_loss: 0.6130 - val_acc: 0.8065\n",
            "Epoch 4/30\n",
            "207/207 [==============================] - ETA: 0s - loss: 0.5827 - acc: 0.8187"
          ]
        },
        {
          "name": "stderr",
          "output_type": "stream",
          "text": [
            "WARNING:tensorflow:Can save best model only with val_accuracy available, skipping.\n"
          ]
        },
        {
          "name": "stdout",
          "output_type": "stream",
          "text": [
            "207/207 [==============================] - 6s 27ms/step - loss: 0.5827 - acc: 0.8187 - val_loss: 0.5782 - val_acc: 0.8115\n",
            "Epoch 5/30\n",
            "207/207 [==============================] - ETA: 0s - loss: 0.5486 - acc: 0.8275"
          ]
        },
        {
          "name": "stderr",
          "output_type": "stream",
          "text": [
            "WARNING:tensorflow:Can save best model only with val_accuracy available, skipping.\n"
          ]
        },
        {
          "name": "stdout",
          "output_type": "stream",
          "text": [
            "207/207 [==============================] - 5s 26ms/step - loss: 0.5486 - acc: 0.8275 - val_loss: 0.5564 - val_acc: 0.8160\n",
            "Epoch 6/30\n",
            "206/207 [============================>.] - ETA: 0s - loss: 0.5233 - acc: 0.8348"
          ]
        },
        {
          "name": "stderr",
          "output_type": "stream",
          "text": [
            "WARNING:tensorflow:Can save best model only with val_accuracy available, skipping.\n"
          ]
        },
        {
          "name": "stdout",
          "output_type": "stream",
          "text": [
            "207/207 [==============================] - 6s 30ms/step - loss: 0.5231 - acc: 0.8350 - val_loss: 0.5590 - val_acc: 0.8101\n",
            "Epoch 7/30\n",
            "205/207 [============================>.] - ETA: 0s - loss: 0.5027 - acc: 0.8380"
          ]
        },
        {
          "name": "stderr",
          "output_type": "stream",
          "text": [
            "WARNING:tensorflow:Can save best model only with val_accuracy available, skipping.\n"
          ]
        },
        {
          "name": "stdout",
          "output_type": "stream",
          "text": [
            "207/207 [==============================] - 5s 24ms/step - loss: 0.5028 - acc: 0.8379 - val_loss: 0.5374 - val_acc: 0.8156\n",
            "Epoch 8/30\n",
            "205/207 [============================>.] - ETA: 0s - loss: 0.4853 - acc: 0.8447"
          ]
        },
        {
          "name": "stderr",
          "output_type": "stream",
          "text": [
            "WARNING:tensorflow:Can save best model only with val_accuracy available, skipping.\n"
          ]
        },
        {
          "name": "stdout",
          "output_type": "stream",
          "text": [
            "207/207 [==============================] - 5s 24ms/step - loss: 0.4851 - acc: 0.8445 - val_loss: 0.5522 - val_acc: 0.8133\n",
            "Epoch 9/30\n",
            "207/207 [==============================] - ETA: 0s - loss: 0.4730 - acc: 0.8456"
          ]
        },
        {
          "name": "stderr",
          "output_type": "stream",
          "text": [
            "WARNING:tensorflow:Can save best model only with val_accuracy available, skipping.\n"
          ]
        },
        {
          "name": "stdout",
          "output_type": "stream",
          "text": [
            "207/207 [==============================] - 5s 24ms/step - loss: 0.4730 - acc: 0.8456 - val_loss: 0.5366 - val_acc: 0.8192\n",
            "Epoch 10/30\n",
            "207/207 [==============================] - ETA: 0s - loss: 0.4624 - acc: 0.8507"
          ]
        },
        {
          "name": "stderr",
          "output_type": "stream",
          "text": [
            "WARNING:tensorflow:Can save best model only with val_accuracy available, skipping.\n"
          ]
        },
        {
          "name": "stdout",
          "output_type": "stream",
          "text": [
            "207/207 [==============================] - 5s 24ms/step - loss: 0.4624 - acc: 0.8507 - val_loss: 0.5406 - val_acc: 0.8151\n",
            "Epoch 11/30\n",
            "206/207 [============================>.] - ETA: 0s - loss: 0.4514 - acc: 0.8556"
          ]
        },
        {
          "name": "stderr",
          "output_type": "stream",
          "text": [
            "WARNING:tensorflow:Can save best model only with val_accuracy available, skipping.\n"
          ]
        },
        {
          "name": "stdout",
          "output_type": "stream",
          "text": [
            "207/207 [==============================] - 5s 24ms/step - loss: 0.4514 - acc: 0.8556 - val_loss: 0.5363 - val_acc: 0.8188\n",
            "Epoch 12/30\n",
            "206/207 [============================>.] - ETA: 0s - loss: 0.4427 - acc: 0.8536"
          ]
        },
        {
          "name": "stderr",
          "output_type": "stream",
          "text": [
            "WARNING:tensorflow:Can save best model only with val_accuracy available, skipping.\n"
          ]
        },
        {
          "name": "stdout",
          "output_type": "stream",
          "text": [
            "207/207 [==============================] - 7s 32ms/step - loss: 0.4431 - acc: 0.8536 - val_loss: 0.5415 - val_acc: 0.8206\n",
            "Epoch 13/30\n",
            "207/207 [==============================] - ETA: 0s - loss: 0.4340 - acc: 0.8596"
          ]
        },
        {
          "name": "stderr",
          "output_type": "stream",
          "text": [
            "WARNING:tensorflow:Can save best model only with val_accuracy available, skipping.\n"
          ]
        },
        {
          "name": "stdout",
          "output_type": "stream",
          "text": [
            "207/207 [==============================] - 5s 24ms/step - loss: 0.4340 - acc: 0.8596 - val_loss: 0.5484 - val_acc: 0.8256\n",
            "Epoch 14/30\n",
            "206/207 [============================>.] - ETA: 0s - loss: 0.4254 - acc: 0.8630"
          ]
        },
        {
          "name": "stderr",
          "output_type": "stream",
          "text": [
            "WARNING:tensorflow:Can save best model only with val_accuracy available, skipping.\n"
          ]
        },
        {
          "name": "stdout",
          "output_type": "stream",
          "text": [
            "207/207 [==============================] - 5s 24ms/step - loss: 0.4255 - acc: 0.8630 - val_loss: 0.5467 - val_acc: 0.8233\n",
            "Epoch 15/30\n",
            "206/207 [============================>.] - ETA: 0s - loss: 0.4155 - acc: 0.8692"
          ]
        },
        {
          "name": "stderr",
          "output_type": "stream",
          "text": [
            "WARNING:tensorflow:Can save best model only with val_accuracy available, skipping.\n"
          ]
        },
        {
          "name": "stdout",
          "output_type": "stream",
          "text": [
            "207/207 [==============================] - 5s 25ms/step - loss: 0.4154 - acc: 0.8692 - val_loss: 0.5690 - val_acc: 0.8206\n",
            "Epoch 16/30\n",
            "207/207 [==============================] - ETA: 0s - loss: 0.4055 - acc: 0.8717"
          ]
        },
        {
          "name": "stderr",
          "output_type": "stream",
          "text": [
            "WARNING:tensorflow:Can save best model only with val_accuracy available, skipping.\n"
          ]
        },
        {
          "name": "stdout",
          "output_type": "stream",
          "text": [
            "207/207 [==============================] - 7s 32ms/step - loss: 0.4055 - acc: 0.8717 - val_loss: 0.5451 - val_acc: 0.8219\n",
            "Epoch 17/30\n",
            "206/207 [============================>.] - ETA: 0s - loss: 0.3960 - acc: 0.8739"
          ]
        },
        {
          "name": "stderr",
          "output_type": "stream",
          "text": [
            "WARNING:tensorflow:Can save best model only with val_accuracy available, skipping.\n"
          ]
        },
        {
          "name": "stdout",
          "output_type": "stream",
          "text": [
            "207/207 [==============================] - 5s 25ms/step - loss: 0.3960 - acc: 0.8738 - val_loss: 0.5550 - val_acc: 0.8274\n",
            "Epoch 18/30\n",
            "206/207 [============================>.] - ETA: 0s - loss: 0.3885 - acc: 0.8783"
          ]
        },
        {
          "name": "stderr",
          "output_type": "stream",
          "text": [
            "WARNING:tensorflow:Can save best model only with val_accuracy available, skipping.\n"
          ]
        },
        {
          "name": "stdout",
          "output_type": "stream",
          "text": [
            "207/207 [==============================] - 5s 25ms/step - loss: 0.3893 - acc: 0.8779 - val_loss: 0.5654 - val_acc: 0.8224\n",
            "Epoch 19/30\n",
            "207/207 [==============================] - ETA: 0s - loss: 0.3801 - acc: 0.8840"
          ]
        },
        {
          "name": "stderr",
          "output_type": "stream",
          "text": [
            "WARNING:tensorflow:Can save best model only with val_accuracy available, skipping.\n"
          ]
        },
        {
          "name": "stdout",
          "output_type": "stream",
          "text": [
            "207/207 [==============================] - 5s 25ms/step - loss: 0.3801 - acc: 0.8840 - val_loss: 0.5692 - val_acc: 0.8165\n",
            "Epoch 20/30\n",
            "205/207 [============================>.] - ETA: 0s - loss: 0.3722 - acc: 0.8887"
          ]
        },
        {
          "name": "stderr",
          "output_type": "stream",
          "text": [
            "WARNING:tensorflow:Can save best model only with val_accuracy available, skipping.\n"
          ]
        },
        {
          "name": "stdout",
          "output_type": "stream",
          "text": [
            "207/207 [==============================] - 5s 24ms/step - loss: 0.3716 - acc: 0.8891 - val_loss: 0.5764 - val_acc: 0.8237\n",
            "Epoch 21/30\n",
            "205/207 [============================>.] - ETA: 0s - loss: 0.3639 - acc: 0.8928"
          ]
        },
        {
          "name": "stderr",
          "output_type": "stream",
          "text": [
            "WARNING:tensorflow:Can save best model only with val_accuracy available, skipping.\n"
          ]
        },
        {
          "name": "stdout",
          "output_type": "stream",
          "text": [
            "207/207 [==============================] - 5s 25ms/step - loss: 0.3645 - acc: 0.8924 - val_loss: 0.5829 - val_acc: 0.8165\n",
            "Epoch 22/30\n",
            "205/207 [============================>.] - ETA: 0s - loss: 0.3559 - acc: 0.8973"
          ]
        },
        {
          "name": "stderr",
          "output_type": "stream",
          "text": [
            "WARNING:tensorflow:Can save best model only with val_accuracy available, skipping.\n"
          ]
        },
        {
          "name": "stdout",
          "output_type": "stream",
          "text": [
            "207/207 [==============================] - 5s 25ms/step - loss: 0.3563 - acc: 0.8973 - val_loss: 0.5894 - val_acc: 0.8179\n",
            "Epoch 23/30\n",
            "206/207 [============================>.] - ETA: 0s - loss: 0.3481 - acc: 0.9040"
          ]
        },
        {
          "name": "stderr",
          "output_type": "stream",
          "text": [
            "WARNING:tensorflow:Can save best model only with val_accuracy available, skipping.\n"
          ]
        },
        {
          "name": "stdout",
          "output_type": "stream",
          "text": [
            "207/207 [==============================] - 5s 25ms/step - loss: 0.3483 - acc: 0.9038 - val_loss: 0.5974 - val_acc: 0.8206\n",
            "Epoch 24/30\n",
            "207/207 [==============================] - ETA: 0s - loss: 0.3388 - acc: 0.9080"
          ]
        },
        {
          "name": "stderr",
          "output_type": "stream",
          "text": [
            "WARNING:tensorflow:Can save best model only with val_accuracy available, skipping.\n"
          ]
        },
        {
          "name": "stdout",
          "output_type": "stream",
          "text": [
            "207/207 [==============================] - 5s 25ms/step - loss: 0.3388 - acc: 0.9080 - val_loss: 0.6118 - val_acc: 0.8201\n",
            "Epoch 25/30\n",
            "207/207 [==============================] - ETA: 0s - loss: 0.3307 - acc: 0.9131"
          ]
        },
        {
          "name": "stderr",
          "output_type": "stream",
          "text": [
            "WARNING:tensorflow:Can save best model only with val_accuracy available, skipping.\n"
          ]
        },
        {
          "name": "stdout",
          "output_type": "stream",
          "text": [
            "207/207 [==============================] - 5s 25ms/step - loss: 0.3307 - acc: 0.9131 - val_loss: 0.6468 - val_acc: 0.8156\n",
            "Epoch 26/30\n",
            "207/207 [==============================] - ETA: 0s - loss: 0.3220 - acc: 0.9157"
          ]
        },
        {
          "name": "stderr",
          "output_type": "stream",
          "text": [
            "WARNING:tensorflow:Can save best model only with val_accuracy available, skipping.\n"
          ]
        },
        {
          "name": "stdout",
          "output_type": "stream",
          "text": [
            "207/207 [==============================] - 5s 25ms/step - loss: 0.3220 - acc: 0.9157 - val_loss: 0.6264 - val_acc: 0.8151\n",
            "Epoch 27/30\n",
            "205/207 [============================>.] - ETA: 0s - loss: 0.3148 - acc: 0.9198"
          ]
        },
        {
          "name": "stderr",
          "output_type": "stream",
          "text": [
            "WARNING:tensorflow:Can save best model only with val_accuracy available, skipping.\n"
          ]
        },
        {
          "name": "stdout",
          "output_type": "stream",
          "text": [
            "207/207 [==============================] - 5s 25ms/step - loss: 0.3146 - acc: 0.9201 - val_loss: 0.6316 - val_acc: 0.8174\n",
            "Epoch 28/30\n",
            "206/207 [============================>.] - ETA: 0s - loss: 0.3038 - acc: 0.9238"
          ]
        },
        {
          "name": "stderr",
          "output_type": "stream",
          "text": [
            "WARNING:tensorflow:Can save best model only with val_accuracy available, skipping.\n"
          ]
        },
        {
          "name": "stdout",
          "output_type": "stream",
          "text": [
            "207/207 [==============================] - 5s 25ms/step - loss: 0.3050 - acc: 0.9233 - val_loss: 0.6716 - val_acc: 0.8029\n",
            "Epoch 29/30\n",
            "206/207 [============================>.] - ETA: 0s - loss: 0.2975 - acc: 0.9302"
          ]
        },
        {
          "name": "stderr",
          "output_type": "stream",
          "text": [
            "WARNING:tensorflow:Can save best model only with val_accuracy available, skipping.\n"
          ]
        },
        {
          "name": "stdout",
          "output_type": "stream",
          "text": [
            "207/207 [==============================] - 7s 32ms/step - loss: 0.2974 - acc: 0.9300 - val_loss: 0.6333 - val_acc: 0.7970\n",
            "Epoch 30/30\n",
            "207/207 [==============================] - ETA: 0s - loss: 0.2882 - acc: 0.9328"
          ]
        },
        {
          "name": "stderr",
          "output_type": "stream",
          "text": [
            "WARNING:tensorflow:Can save best model only with val_accuracy available, skipping.\n"
          ]
        },
        {
          "name": "stdout",
          "output_type": "stream",
          "text": [
            "\b\b\b\b\b\b\b\b\b\b\b\b\b\b\b\b\b\b\b\b\b\b\b\b\b\b\b\b\b\b\b\b\b\b\b\b\b\b\b\b\b\b\b\b\b\b\b\b\b\b\b\b\b\b\b\b\b\b\b\b\b\b\b\b\b\b\b\b\b\b\b\b\b\b\b\b\b\b\b\r207/207 [==============================] - 5s 25ms/step - loss: 0.2882 - acc: 0.9328 - val_loss: 0.6686 - val_acc: 0.8206\n"
          ]
        }
      ],
      "source": [
        "#Try CNN implementation and compare \n",
        "from keras import regularizers\n",
        "model3 = Sequential()\n",
        "model3.add(layers.Embedding(max_words, 40, input_length=max_len))\n",
        "model3.add(layers.Conv1D(20, 6, activation='relu',kernel_regularizer=regularizers.l1_l2(l1=2e-3, l2=2e-3),bias_regularizer=regularizers.l2(2e-3)))\n",
        "model3.add(layers.MaxPooling1D(5))\n",
        "model3.add(layers.Conv1D(20, 6, activation='relu',kernel_regularizer=regularizers.l1_l2(l1=2e-3, l2=2e-3),bias_regularizer=regularizers.l2(2e-3)))\n",
        "model3.add(layers.GlobalMaxPooling1D())\n",
        "model3.add(layers.Dense(3,activation='softmax'))\n",
        "model3.compile(optimizer='rmsprop',loss='categorical_crossentropy',metrics=['acc'])\n",
        "checkpoint3 = ModelCheckpoint(\"best_model3.hdf5\", monitor='val_accuracy', verbose=1,save_best_only=True, mode='auto', period=1,save_weights_only=False)\n",
        "history = model3.fit(X_train, y_train, epochs=30,validation_data=(X_test, y_test),callbacks=[checkpoint3])"
      ]
    },
    {
      "cell_type": "code",
      "execution_count": null,
      "metadata": {
        "colab": {
          "background_save": true
        },
        "id": "iPqzH7H12t2f",
        "outputId": "1c1f13cf-af9c-4432-9319-3d087191e201"
      },
      "outputs": [
        {
          "name": "stdout",
          "output_type": "stream",
          "text": [
            "69/69 - 2s - loss: 1.8382 - accuracy: 0.5374 - 2s/epoch - 24ms/step\n",
            "Model accuracy:  0.5373810529708862\n"
          ]
        }
      ],
      "source": [
        "test_loss, test_acc = best_model.evaluate(X_test, y_test, verbose=2)\n",
        "print('Model accuracy: ',test_acc)"
      ]
    },
    {
      "cell_type": "code",
      "execution_count": null,
      "metadata": {
        "colab": {
          "background_save": true
        },
        "id": "D9UJZRUa2uLi",
        "outputId": "006b70c2-73d0-453c-d7b1-79d65ca7ded7"
      },
      "outputs": [
        {
          "name": "stdout",
          "output_type": "stream",
          "text": [
            "69/69 [==============================] - 2s 27ms/step\n"
          ]
        }
      ],
      "source": [
        "predictions = best_model.predict(X_test)"
      ]
    },
    {
      "cell_type": "code",
      "execution_count": null,
      "metadata": {
        "colab": {
          "background_save": true
        },
        "id": "Y3LRsayomCqX",
        "outputId": "d1b1114b-cba3-4992-cf0b-a76b85459928"
      },
      "outputs": [
        {
          "name": "stderr",
          "output_type": "stream",
          "text": [
            "<ipython-input-62-1464592c3a2e>:8: FutureWarning: Support for multi-dimensional indexing (e.g. `obj[:, None]`) is deprecated and will be removed in a future version.  Convert to a numpy array before indexing instead.\n",
            "  conf_matrix = conf_matrix.astype('float') / conf_matrix.sum(axis=1)[:, np.newaxis]\n"
          ]
        },
        {
          "data": {
            "text/plain": [
              "<matplotlib.axes._subplots.AxesSubplot at 0x7f5e1ce2afa0>"
            ]
          },
          "execution_count": 62,
          "metadata": {},
          "output_type": "execute_result"
        },
        {
          "data": {
            "image/png": "[encoded data removed]",
            "text/plain": [
              "<Figure size 1080x1080 with 2 Axes>"
            ]
          },
          "metadata": {},
          "output_type": "display_data"
        }
      ],
      "source": [
        "#confusion matrix\n",
        "from sklearn.metrics import confusion_matrix\n",
        "matrix = confusion_matrix(y_test.argmax(axis=1), np.around(predictions, decimals=0).argmax(axis=1))\n",
        "\n",
        "import seaborn as sns\n",
        "conf_matrix = pd.DataFrame(matrix, index = ['Neutral','Negative','Positive'],columns = ['Neutral','Negative','Positive'])\n",
        "#Normalizing\n",
        "conf_matrix = conf_matrix.astype('float') / conf_matrix.sum(axis=1)[:, np.newaxis]\n",
        "plt.figure(figsize = (15,15))\n",
        "sns.heatmap(conf_matrix, annot=True, annot_kws={\"size\": 15})\n"
      ]
    },
    {
      "cell_type": "markdown",
      "metadata": {
        "id": "EhdVNlmFmHuX"
      },
      "source": [
        "# B. Brown University"
      ]
    },
    {
      "cell_type": "code",
      "execution_count": null,
      "metadata": {
        "colab": {
          "background_save": true
        },
        "id": "mVT1XcVdmM3g"
      },
      "outputs": [],
      "source": [
        "#convert sentiments to numerical value\n",
        "labels = np.array(brown['sentiment'])\n",
        "y = []\n",
        "for i in range(len(labels)):\n",
        "    if labels[i] == 'neutral':\n",
        "        y.append(0)\n",
        "    if labels[i] == 'negative':\n",
        "        y.append(1)\n",
        "    if labels[i] == 'positive':\n",
        "        y.append(2)\n",
        "\n",
        "y = np.array(y)\n",
        "labels = tf.keras.utils.to_categorical(y, 3, dtype=\"float32\")\n",
        "del y"
      ]
    },
    {
      "cell_type": "code",
      "execution_count": null,
      "metadata": {
        "colab": {
          "background_save": true
        },
        "id": "2vbidNBVmNDW",
        "outputId": "39d83cab-2f02-438b-f134-5aa9a9dc15ca"
      },
      "outputs": [
        {
          "name": "stdout",
          "output_type": "stream",
          "text": [
            "[[   0    0    0 ... 1856 3329 1586]\n",
            " [   0    0    0 ...  161 4227 3723]\n",
            " [   0    0    0 ...   53 1773   94]\n",
            " ...\n",
            " [   0    0    0 ...  179   12   19]\n",
            " [   0    0    0 ...  597   73 1025]\n",
            " [   0    0    0 ...  621   10   19]]\n",
            "9588 3196 9588 3196\n"
          ]
        }
      ],
      "source": [
        "#splitting\n",
        "max_words = 5000\n",
        "max_len = 200\n",
        "\n",
        "tokenizer = Tokenizer(num_words = max_words)\n",
        "tokenizer.fit_on_texts(brown[\"text\"])\n",
        "sequences = tokenizer.texts_to_sequences(brown[\"text\"])\n",
        "reddit_posts = pad_sequences(sequences, maxlen=max_len)\n",
        "print(reddit_posts)\n",
        "\n",
        "X_train, X_test, y_train, y_test = train_test_split(reddit_posts, labels, random_state = 0)\n",
        "print (len(X_train),len(X_test),len(y_train),len(y_test)) "
      ]
    },
    {
      "cell_type": "code",
      "execution_count": null,
      "metadata": {
        "id": "BPQy4EgEmNPG"
      },
      "outputs": [],
      "source": [
        "#ltsm model\n",
        "model = Sequential()\n",
        "model.add(layers.Embedding(max_words, 40, input_length=max_len))\n",
        "model.add(layers.Bidirectional(layers.LSTM(20,dropout=0.6)))\n",
        "model.add(layers.Dense(3,activation='softmax'))\n",
        "model.compile(optimizer='rmsprop',loss='categorical_crossentropy', metrics=['accuracy'])\n",
        "#checkpoints enure the best metric is saved during training\n",
        "checkpoint2 = ModelCheckpoint(\"best_model2.hdf5\", monitor='val_accuracy', verbose=1,save_best_only=True, mode='auto', period=1,save_weights_only=False)\n",
        "history = model.fit(X_train, y_train, epochs=70,validation_data=(X_test, y_test),callbacks=[checkpoint2])"
      ]
    },
    {
      "cell_type": "code",
      "execution_count": null,
      "metadata": {
        "colab": {
          "background_save": true
        },
        "id": "5-mAYlbImNY2"
      },
      "outputs": [],
      "source": [
        "#Try CNN implementation and compare \n",
        "from keras import regularizers\n",
        "model3 = Sequential()\n",
        "model3.add(layers.Embedding(max_words, 40, input_length=max_len))\n",
        "model3.add(layers.Conv1D(20, 6, activation='relu',kernel_regularizer=regularizers.l1_l2(l1=2e-3, l2=2e-3),bias_regularizer=regularizers.l2(2e-3)))\n",
        "model3.add(layers.MaxPooling1D(5))\n",
        "model3.add(layers.Conv1D(20, 6, activation='relu',kernel_regularizer=regularizers.l1_l2(l1=2e-3, l2=2e-3),bias_regularizer=regularizers.l2(2e-3)))\n",
        "model3.add(layers.GlobalMaxPooling1D())\n",
        "model3.add(layers.Dense(3,activation='softmax'))\n",
        "model3.compile(optimizer='rmsprop',loss='categorical_crossentropy',metrics=['acc'])\n",
        "checkpoint3 = ModelCheckpoint(\"best_model3.hdf5\", monitor='val_accuracy', verbose=1,save_best_only=True, mode='auto', period=1,save_weights_only=False)\n",
        "history = model3.fit(X_train, y_train, epochs=70,validation_data=(X_test, y_test),callbacks=[checkpoint3])"
      ]
    },
    {
      "cell_type": "code",
      "execution_count": null,
      "metadata": {
        "colab": {
          "background_save": true
        },
        "id": "liqU6fbJ2zqB"
      },
      "outputs": [],
      "source": [
        "test_loss, test_acc = best_model.evaluate(X_test, y_test, verbose=2)\n",
        "print('Model accuracy: ',test_acc)"
      ]
    },
    {
      "cell_type": "code",
      "execution_count": null,
      "metadata": {
        "colab": {
          "background_save": true
        },
        "id": "VsK74b6k2z9l"
      },
      "outputs": [],
      "source": [
        "predictions = best_model.predict(X_test)"
      ]
    },
    {
      "cell_type": "code",
      "execution_count": null,
      "metadata": {
        "colab": {
          "background_save": true
        },
        "id": "7KwIm3t2mNiU"
      },
      "outputs": [],
      "source": [
        "#confusion matrix\n",
        "from sklearn.metrics import confusion_matrix\n",
        "matrix = confusion_matrix(y_test.argmax(axis=1), np.around(predictions, decimals=0).argmax(axis=1))\n",
        "\n",
        "import seaborn as sns\n",
        "conf_matrix = pd.DataFrame(matrix, index = ['Neutral','Negative','Positive'],columns = ['Neutral','Negative','Positive'])\n",
        "#Normalizing\n",
        "conf_matrix = conf_matrix.astype('float') / conf_matrix.sum(axis=1)[:, np.newaxis]\n",
        "plt.figure(figsize = (15,15))\n",
        "sns.heatmap(conf_matrix, annot=True, annot_kws={\"size\": 15})\n"
      ]
    },
    {
      "cell_type": "markdown",
      "metadata": {
        "id": "njR6Z54Smh67"
      },
      "source": [
        "# C. Dartmouth"
      ]
    },
    {
      "cell_type": "code",
      "execution_count": null,
      "metadata": {
        "colab": {
          "background_save": true
        },
        "id": "KZQZN9gZmN4M"
      },
      "outputs": [],
      "source": [
        "#convert sentiments to numerical value\n",
        "labels = np.array(dartmouth['sentiment'])\n",
        "y = []\n",
        "for i in range(len(labels)):\n",
        "    if labels[i] == 'neutral':\n",
        "        y.append(0)\n",
        "    if labels[i] == 'negative':\n",
        "        y.append(1)\n",
        "    if labels[i] == 'positive':\n",
        "        y.append(2)\n",
        "\n",
        "y = np.array(y)\n",
        "labels = tf.keras.utils.to_categorical(y, 3, dtype=\"float32\")\n",
        "del y"
      ]
    },
    {
      "cell_type": "code",
      "execution_count": null,
      "metadata": {
        "colab": {
          "background_save": true
        },
        "id": "WB-BQ7BXmOAQ"
      },
      "outputs": [],
      "source": [
        "#splitting\n",
        "max_words = 5000\n",
        "max_len = 200\n",
        "\n",
        "tokenizer = Tokenizer(num_words = max_words)\n",
        "tokenizer.fit_on_texts(dartmouth[\"text\"])\n",
        "sequences = tokenizer.texts_to_sequences(dartmouth[\"text\"])\n",
        "reddit_posts = pad_sequences(sequences, maxlen=max_len)\n",
        "print(reddit_posts)\n",
        "\n",
        "X_train, X_test, y_train, y_test = train_test_split(reddit_posts, labels, random_state = 0)\n",
        "print (len(X_train),len(X_test),len(y_train),len(y_test)) "
      ]
    },
    {
      "cell_type": "code",
      "execution_count": null,
      "metadata": {
        "id": "Lf4goqe-mOCl"
      },
      "outputs": [],
      "source": [
        "#ltsm model\n",
        "model = Sequential()\n",
        "model.add(layers.Embedding(max_words, 40, input_length=max_len))\n",
        "model.add(layers.Bidirectional(layers.LSTM(20,dropout=0.6)))\n",
        "model.add(layers.Dense(3,activation='softmax'))\n",
        "model.compile(optimizer='rmsprop',loss='categorical_crossentropy', metrics=['accuracy'])\n",
        "#checkpoints enure the best metric is saved during training\n",
        "checkpoint2 = ModelCheckpoint(\"best_model2.hdf5\", monitor='val_accuracy', verbose=1,save_best_only=True, mode='auto', period=1,save_weights_only=False)\n",
        "history = model.fit(X_train, y_train, epochs=70,validation_data=(X_test, y_test),callbacks=[checkpoint2])"
      ]
    },
    {
      "cell_type": "code",
      "execution_count": null,
      "metadata": {
        "id": "zijYFCSWm13_"
      },
      "outputs": [],
      "source": [
        "#Try CNN implementation and compare \n",
        "from keras import regularizers\n",
        "model3 = Sequential()\n",
        "model3.add(layers.Embedding(max_words, 40, input_length=max_len))\n",
        "model3.add(layers.Conv1D(20, 6, activation='relu',kernel_regularizer=regularizers.l1_l2(l1=2e-3, l2=2e-3),bias_regularizer=regularizers.l2(2e-3)))\n",
        "model3.add(layers.MaxPooling1D(5))\n",
        "model3.add(layers.Conv1D(20, 6, activation='relu',kernel_regularizer=regularizers.l1_l2(l1=2e-3, l2=2e-3),bias_regularizer=regularizers.l2(2e-3)))\n",
        "model3.add(layers.GlobalMaxPooling1D())\n",
        "model3.add(layers.Dense(3,activation='softmax'))\n",
        "model3.compile(optimizer='rmsprop',loss='categorical_crossentropy',metrics=['acc'])\n",
        "checkpoint3 = ModelCheckpoint(\"best_model3.hdf5\", monitor='val_accuracy', verbose=1,save_best_only=True, mode='auto', period=1,save_weights_only=False)\n",
        "history = model3.fit(X_train, y_train, epochs=70,validation_data=(X_test, y_test),callbacks=[checkpoint3])"
      ]
    },
    {
      "cell_type": "code",
      "execution_count": null,
      "metadata": {
        "id": "oGPR0cHt27Hc"
      },
      "outputs": [],
      "source": [
        "test_loss, test_acc = best_model.evaluate(X_test, y_test, verbose=2)\n",
        "print('Model accuracy: ',test_acc)"
      ]
    },
    {
      "cell_type": "code",
      "execution_count": null,
      "metadata": {
        "id": "BStP9xd727ZC"
      },
      "outputs": [],
      "source": [
        "predictions = best_model.predict(X_test)"
      ]
    },
    {
      "cell_type": "code",
      "execution_count": null,
      "metadata": {
        "id": "6Jg3CDGXm6w0"
      },
      "outputs": [],
      "source": [
        "#confusion matrix\n",
        "from sklearn.metrics import confusion_matrix\n",
        "matrix = confusion_matrix(y_test.argmax(axis=1), np.around(predictions, decimals=0).argmax(axis=1))\n",
        "\n",
        "import seaborn as sns\n",
        "conf_matrix = pd.DataFrame(matrix, index = ['Neutral','Negative','Positive'],columns = ['Neutral','Negative','Positive'])\n",
        "#Normalizing\n",
        "conf_matrix = conf_matrix.astype('float') / conf_matrix.sum(axis=1)[:, np.newaxis]\n",
        "plt.figure(figsize = (15,15))\n",
        "sns.heatmap(conf_matrix, annot=True, annot_kws={\"size\": 15})\n"
      ]
    },
    {
      "cell_type": "markdown",
      "metadata": {
        "id": "iQr5KmJam6Cw"
      },
      "source": []
    }
  ],
  "metadata": {
    "colab": {
      "provenance": []
    },
    "kernelspec": {
      "display_name": "Python 3",
      "name": "python3"
    },
    "language_info": {
      "name": "python"
    }
  },
  "nbformat": 4,
  "nbformat_minor": 0
}